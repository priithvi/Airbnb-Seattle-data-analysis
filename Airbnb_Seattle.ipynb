{
 "cells": [
  {
   "cell_type": "markdown",
   "metadata": {},
   "source": [
    "## Import necessary libraries"
   ]
  },
  {
   "cell_type": "code",
   "execution_count": 309,
   "metadata": {},
   "outputs": [],
   "source": [
    "import numpy as np\n",
    "import pandas as pd\n",
    "import matplotlib.pyplot as plt\n",
    "%matplotlib inline\n",
    "\n",
    "from sklearn.linear_model import LinearRegression\n",
    "from sklearn.metrics import r2_score, mean_squared_error\n",
    "from sklearn.model_selection import train_test_split\n",
    "\n",
    "import os"
   ]
  },
  {
   "cell_type": "code",
   "execution_count": 2,
   "metadata": {},
   "outputs": [],
   "source": []
  },
  {
   "cell_type": "code",
   "execution_count": 3,
   "metadata": {},
   "outputs": [
    {
     "data": {
      "text/plain": [
       "'C:\\\\Users\\\\praj\\\\OneDrive - Publicis Groupe\\\\Documents\\\\All\\\\Nov-2020\\\\Udacity Data Science Nano Degree training\\\\Project1'"
      ]
     },
     "execution_count": 3,
     "metadata": {},
     "output_type": "execute_result"
    }
   ],
   "source": [
    "os.getcwd()"
   ]
  },
  {
   "cell_type": "code",
   "execution_count": null,
   "metadata": {},
   "outputs": [],
   "source": []
  },
  {
   "cell_type": "markdown",
   "metadata": {},
   "source": [
    "## Import the 3 Airbnb Seattle data files downloaded from Kaggle"
   ]
  },
  {
   "cell_type": "code",
   "execution_count": 315,
   "metadata": {},
   "outputs": [],
   "source": [
    "calendar = pd.read_csv(\"C:\\\\Users\\\\praj\\\\OneDrive - Publicis Groupe\\\\Documents\\\\All\\\\Nov-2020\\\\Udacity Data Science Nano Degree training\\\\Project1\\\\calendar.csv\")\n",
    "listings = pd.read_csv(\"C:\\\\Users\\\\praj\\\\OneDrive - Publicis Groupe\\\\Documents\\\\All\\\\Nov-2020\\\\Udacity Data Science Nano Degree training\\\\Project1\\\\listings.csv\")\n",
    "reviews = pd.read_csv(\"C:\\\\Users\\\\praj\\\\OneDrive - Publicis Groupe\\\\Documents\\\\All\\\\Nov-2020\\\\Udacity Data Science Nano Degree training\\\\Project1\\\\reviews.csv\")"
   ]
  },
  {
   "cell_type": "code",
   "execution_count": null,
   "metadata": {},
   "outputs": [],
   "source": []
  },
  {
   "cell_type": "markdown",
   "metadata": {},
   "source": [
    "## Performing basic data exploration"
   ]
  },
  {
   "cell_type": "markdown",
   "metadata": {},
   "source": [
    "##### Checking the contents of these 3 files"
   ]
  },
  {
   "cell_type": "code",
   "execution_count": 312,
   "metadata": {},
   "outputs": [
    {
     "data": {
      "text/plain": [
       "(1393570, 4)"
      ]
     },
     "execution_count": 312,
     "metadata": {},
     "output_type": "execute_result"
    }
   ],
   "source": [
    "calendar.shape"
   ]
  },
  {
   "cell_type": "code",
   "execution_count": 6,
   "metadata": {},
   "outputs": [
    {
     "data": {
      "text/html": [
       "<div>\n",
       "<style scoped>\n",
       "    .dataframe tbody tr th:only-of-type {\n",
       "        vertical-align: middle;\n",
       "    }\n",
       "\n",
       "    .dataframe tbody tr th {\n",
       "        vertical-align: top;\n",
       "    }\n",
       "\n",
       "    .dataframe thead th {\n",
       "        text-align: right;\n",
       "    }\n",
       "</style>\n",
       "<table border=\"1\" class=\"dataframe\">\n",
       "  <thead>\n",
       "    <tr style=\"text-align: right;\">\n",
       "      <th></th>\n",
       "      <th>listing_id</th>\n",
       "      <th>date</th>\n",
       "      <th>available</th>\n",
       "      <th>price</th>\n",
       "    </tr>\n",
       "  </thead>\n",
       "  <tbody>\n",
       "    <tr>\n",
       "      <th>0</th>\n",
       "      <td>241032</td>\n",
       "      <td>2016-01-04</td>\n",
       "      <td>t</td>\n",
       "      <td>$85.00</td>\n",
       "    </tr>\n",
       "    <tr>\n",
       "      <th>1</th>\n",
       "      <td>241032</td>\n",
       "      <td>2016-01-05</td>\n",
       "      <td>t</td>\n",
       "      <td>$85.00</td>\n",
       "    </tr>\n",
       "  </tbody>\n",
       "</table>\n",
       "</div>"
      ],
      "text/plain": [
       "   listing_id        date available   price\n",
       "0      241032  2016-01-04         t  $85.00\n",
       "1      241032  2016-01-05         t  $85.00"
      ]
     },
     "execution_count": 6,
     "metadata": {},
     "output_type": "execute_result"
    }
   ],
   "source": [
    "calendar.head(2)"
   ]
  },
  {
   "cell_type": "code",
   "execution_count": 7,
   "metadata": {},
   "outputs": [
    {
     "data": {
      "text/plain": [
       "(3818, 92)"
      ]
     },
     "execution_count": 7,
     "metadata": {},
     "output_type": "execute_result"
    }
   ],
   "source": [
    "listings.shape"
   ]
  },
  {
   "cell_type": "code",
   "execution_count": 8,
   "metadata": {},
   "outputs": [
    {
     "data": {
      "text/html": [
       "<div>\n",
       "<style scoped>\n",
       "    .dataframe tbody tr th:only-of-type {\n",
       "        vertical-align: middle;\n",
       "    }\n",
       "\n",
       "    .dataframe tbody tr th {\n",
       "        vertical-align: top;\n",
       "    }\n",
       "\n",
       "    .dataframe thead th {\n",
       "        text-align: right;\n",
       "    }\n",
       "</style>\n",
       "<table border=\"1\" class=\"dataframe\">\n",
       "  <thead>\n",
       "    <tr style=\"text-align: right;\">\n",
       "      <th></th>\n",
       "      <th>id</th>\n",
       "      <th>listing_url</th>\n",
       "      <th>scrape_id</th>\n",
       "      <th>last_scraped</th>\n",
       "      <th>name</th>\n",
       "      <th>summary</th>\n",
       "      <th>space</th>\n",
       "      <th>description</th>\n",
       "      <th>experiences_offered</th>\n",
       "      <th>neighborhood_overview</th>\n",
       "      <th>...</th>\n",
       "      <th>review_scores_value</th>\n",
       "      <th>requires_license</th>\n",
       "      <th>license</th>\n",
       "      <th>jurisdiction_names</th>\n",
       "      <th>instant_bookable</th>\n",
       "      <th>cancellation_policy</th>\n",
       "      <th>require_guest_profile_picture</th>\n",
       "      <th>require_guest_phone_verification</th>\n",
       "      <th>calculated_host_listings_count</th>\n",
       "      <th>reviews_per_month</th>\n",
       "    </tr>\n",
       "  </thead>\n",
       "  <tbody>\n",
       "    <tr>\n",
       "      <th>0</th>\n",
       "      <td>241032</td>\n",
       "      <td>https://www.airbnb.com/rooms/241032</td>\n",
       "      <td>20160104002432</td>\n",
       "      <td>2016-01-04</td>\n",
       "      <td>Stylish Queen Anne Apartment</td>\n",
       "      <td>NaN</td>\n",
       "      <td>Make your self at home in this charming one-be...</td>\n",
       "      <td>Make your self at home in this charming one-be...</td>\n",
       "      <td>none</td>\n",
       "      <td>NaN</td>\n",
       "      <td>...</td>\n",
       "      <td>10.0</td>\n",
       "      <td>f</td>\n",
       "      <td>NaN</td>\n",
       "      <td>WASHINGTON</td>\n",
       "      <td>f</td>\n",
       "      <td>moderate</td>\n",
       "      <td>f</td>\n",
       "      <td>f</td>\n",
       "      <td>2</td>\n",
       "      <td>4.07</td>\n",
       "    </tr>\n",
       "    <tr>\n",
       "      <th>1</th>\n",
       "      <td>953595</td>\n",
       "      <td>https://www.airbnb.com/rooms/953595</td>\n",
       "      <td>20160104002432</td>\n",
       "      <td>2016-01-04</td>\n",
       "      <td>Bright &amp; Airy Queen Anne Apartment</td>\n",
       "      <td>Chemically sensitive? We've removed the irrita...</td>\n",
       "      <td>Beautiful, hypoallergenic apartment in an extr...</td>\n",
       "      <td>Chemically sensitive? We've removed the irrita...</td>\n",
       "      <td>none</td>\n",
       "      <td>Queen Anne is a wonderful, truly functional vi...</td>\n",
       "      <td>...</td>\n",
       "      <td>10.0</td>\n",
       "      <td>f</td>\n",
       "      <td>NaN</td>\n",
       "      <td>WASHINGTON</td>\n",
       "      <td>f</td>\n",
       "      <td>strict</td>\n",
       "      <td>t</td>\n",
       "      <td>t</td>\n",
       "      <td>6</td>\n",
       "      <td>1.48</td>\n",
       "    </tr>\n",
       "  </tbody>\n",
       "</table>\n",
       "<p>2 rows × 92 columns</p>\n",
       "</div>"
      ],
      "text/plain": [
       "       id                          listing_url       scrape_id last_scraped  \\\n",
       "0  241032  https://www.airbnb.com/rooms/241032  20160104002432   2016-01-04   \n",
       "1  953595  https://www.airbnb.com/rooms/953595  20160104002432   2016-01-04   \n",
       "\n",
       "                                 name  \\\n",
       "0        Stylish Queen Anne Apartment   \n",
       "1  Bright & Airy Queen Anne Apartment   \n",
       "\n",
       "                                             summary  \\\n",
       "0                                                NaN   \n",
       "1  Chemically sensitive? We've removed the irrita...   \n",
       "\n",
       "                                               space  \\\n",
       "0  Make your self at home in this charming one-be...   \n",
       "1  Beautiful, hypoallergenic apartment in an extr...   \n",
       "\n",
       "                                         description experiences_offered  \\\n",
       "0  Make your self at home in this charming one-be...                none   \n",
       "1  Chemically sensitive? We've removed the irrita...                none   \n",
       "\n",
       "                               neighborhood_overview  ... review_scores_value  \\\n",
       "0                                                NaN  ...                10.0   \n",
       "1  Queen Anne is a wonderful, truly functional vi...  ...                10.0   \n",
       "\n",
       "  requires_license license jurisdiction_names instant_bookable  \\\n",
       "0                f     NaN         WASHINGTON                f   \n",
       "1                f     NaN         WASHINGTON                f   \n",
       "\n",
       "  cancellation_policy  require_guest_profile_picture  \\\n",
       "0            moderate                              f   \n",
       "1              strict                              t   \n",
       "\n",
       "  require_guest_phone_verification calculated_host_listings_count  \\\n",
       "0                                f                              2   \n",
       "1                                t                              6   \n",
       "\n",
       "  reviews_per_month  \n",
       "0              4.07  \n",
       "1              1.48  \n",
       "\n",
       "[2 rows x 92 columns]"
      ]
     },
     "execution_count": 8,
     "metadata": {},
     "output_type": "execute_result"
    }
   ],
   "source": [
    "listings.head(2)"
   ]
  },
  {
   "cell_type": "code",
   "execution_count": 9,
   "metadata": {},
   "outputs": [
    {
     "data": {
      "text/plain": [
       "(84849, 6)"
      ]
     },
     "execution_count": 9,
     "metadata": {},
     "output_type": "execute_result"
    }
   ],
   "source": [
    "reviews.shape"
   ]
  },
  {
   "cell_type": "code",
   "execution_count": 10,
   "metadata": {},
   "outputs": [
    {
     "data": {
      "text/html": [
       "<div>\n",
       "<style scoped>\n",
       "    .dataframe tbody tr th:only-of-type {\n",
       "        vertical-align: middle;\n",
       "    }\n",
       "\n",
       "    .dataframe tbody tr th {\n",
       "        vertical-align: top;\n",
       "    }\n",
       "\n",
       "    .dataframe thead th {\n",
       "        text-align: right;\n",
       "    }\n",
       "</style>\n",
       "<table border=\"1\" class=\"dataframe\">\n",
       "  <thead>\n",
       "    <tr style=\"text-align: right;\">\n",
       "      <th></th>\n",
       "      <th>listing_id</th>\n",
       "      <th>id</th>\n",
       "      <th>date</th>\n",
       "      <th>reviewer_id</th>\n",
       "      <th>reviewer_name</th>\n",
       "      <th>comments</th>\n",
       "    </tr>\n",
       "  </thead>\n",
       "  <tbody>\n",
       "    <tr>\n",
       "      <th>0</th>\n",
       "      <td>7202016</td>\n",
       "      <td>38917982</td>\n",
       "      <td>2015-07-19</td>\n",
       "      <td>28943674</td>\n",
       "      <td>Bianca</td>\n",
       "      <td>Cute and cozy place. Perfect location to every...</td>\n",
       "    </tr>\n",
       "    <tr>\n",
       "      <th>1</th>\n",
       "      <td>7202016</td>\n",
       "      <td>39087409</td>\n",
       "      <td>2015-07-20</td>\n",
       "      <td>32440555</td>\n",
       "      <td>Frank</td>\n",
       "      <td>Kelly has a great room in a very central locat...</td>\n",
       "    </tr>\n",
       "  </tbody>\n",
       "</table>\n",
       "</div>"
      ],
      "text/plain": [
       "   listing_id        id        date  reviewer_id reviewer_name  \\\n",
       "0     7202016  38917982  2015-07-19     28943674        Bianca   \n",
       "1     7202016  39087409  2015-07-20     32440555         Frank   \n",
       "\n",
       "                                            comments  \n",
       "0  Cute and cozy place. Perfect location to every...  \n",
       "1  Kelly has a great room in a very central locat...  "
      ]
     },
     "execution_count": 10,
     "metadata": {},
     "output_type": "execute_result"
    }
   ],
   "source": [
    "reviews.head(2)"
   ]
  },
  {
   "cell_type": "markdown",
   "metadata": {},
   "source": [
    "##### Checking if there are any missing values"
   ]
  },
  {
   "cell_type": "code",
   "execution_count": 11,
   "metadata": {},
   "outputs": [
    {
     "data": {
      "text/plain": [
       "listing_id        0\n",
       "id                0\n",
       "date              0\n",
       "reviewer_id       0\n",
       "reviewer_name     0\n",
       "comments         18\n",
       "dtype: int64"
      ]
     },
     "execution_count": 11,
     "metadata": {},
     "output_type": "execute_result"
    }
   ],
   "source": [
    "reviews.isnull().sum()"
   ]
  },
  {
   "cell_type": "code",
   "execution_count": 12,
   "metadata": {},
   "outputs": [
    {
     "data": {
      "text/plain": [
       "Index(['listing_id', 'id', 'date', 'reviewer_id', 'reviewer_name', 'comments'], dtype='object')"
      ]
     },
     "execution_count": 12,
     "metadata": {},
     "output_type": "execute_result"
    }
   ],
   "source": [
    "reviews.columns"
   ]
  },
  {
   "cell_type": "markdown",
   "metadata": {},
   "source": [
    "##### Checking number of distinct values in each column to know the primary key in the data"
   ]
  },
  {
   "cell_type": "code",
   "execution_count": 13,
   "metadata": {},
   "outputs": [
    {
     "name": "stdout",
     "output_type": "stream",
     "text": [
      "# distinct values in listing_id is: 3191\n",
      "# distinct values in id is: 84849\n",
      "# distinct values in date is: 1930\n",
      "# distinct values in reviewer_id is: 75730\n",
      "# distinct values in reviewer_name is: 14380\n",
      "# distinct values in comments is: 84136\n"
     ]
    }
   ],
   "source": [
    "for i in reviews.columns:\n",
    "    print(\"# distinct values in\", i, \"is:\", reviews[i].nunique())"
   ]
  },
  {
   "cell_type": "code",
   "execution_count": 14,
   "metadata": {},
   "outputs": [
    {
     "data": {
      "text/plain": [
       "(84849, 6)"
      ]
     },
     "execution_count": 14,
     "metadata": {},
     "output_type": "execute_result"
    }
   ],
   "source": [
    "reviews.shape"
   ]
  },
  {
   "cell_type": "code",
   "execution_count": 310,
   "metadata": {},
   "outputs": [],
   "source": [
    "#Reviews data is hence at the level of id. So, each row in the reviews dataset is a different review entry\n",
    "#Distinct listings in the listings table is 3818, while the # distinct listing ids in the reviews dataset is 3191. So, it means\n",
    "#that the reviews of the reamining listings are not available"
   ]
  },
  {
   "cell_type": "code",
   "execution_count": 16,
   "metadata": {},
   "outputs": [
    {
     "name": "stdout",
     "output_type": "stream",
     "text": [
      "# distinct values in id is: 3818\n",
      "# distinct values in listing_url is: 3818\n",
      "# distinct values in scrape_id is: 1\n",
      "# distinct values in last_scraped is: 1\n",
      "# distinct values in name is: 3792\n",
      "# distinct values in summary is: 3478\n",
      "# distinct values in space is: 3119\n",
      "# distinct values in description is: 3742\n",
      "# distinct values in experiences_offered is: 1\n",
      "# distinct values in neighborhood_overview is: 2506\n",
      "# distinct values in notes is: 1999\n",
      "# distinct values in transit is: 2574\n",
      "# distinct values in thumbnail_url is: 3498\n",
      "# distinct values in medium_url is: 3498\n",
      "# distinct values in picture_url is: 3818\n",
      "# distinct values in xl_picture_url is: 3498\n",
      "# distinct values in host_id is: 2751\n",
      "# distinct values in host_url is: 2751\n",
      "# distinct values in host_name is: 1466\n",
      "# distinct values in host_since is: 1380\n",
      "# distinct values in host_location is: 120\n",
      "# distinct values in host_about is: 2011\n",
      "# distinct values in host_response_time is: 4\n",
      "# distinct values in host_response_rate is: 45\n",
      "# distinct values in host_acceptance_rate is: 2\n",
      "# distinct values in host_is_superhost is: 2\n",
      "# distinct values in host_thumbnail_url is: 2743\n",
      "# distinct values in host_picture_url is: 2743\n",
      "# distinct values in host_neighbourhood is: 102\n",
      "# distinct values in host_listings_count is: 27\n",
      "# distinct values in host_total_listings_count is: 27\n",
      "# distinct values in host_verifications is: 116\n",
      "# distinct values in host_has_profile_pic is: 2\n",
      "# distinct values in host_identity_verified is: 2\n",
      "# distinct values in street is: 1442\n",
      "# distinct values in neighbourhood is: 81\n",
      "# distinct values in neighbourhood_cleansed is: 87\n",
      "# distinct values in neighbourhood_group_cleansed is: 17\n",
      "# distinct values in city is: 7\n",
      "# distinct values in state is: 2\n",
      "# distinct values in zipcode is: 28\n",
      "# distinct values in market is: 1\n",
      "# distinct values in smart_location is: 7\n",
      "# distinct values in country_code is: 1\n",
      "# distinct values in country is: 1\n",
      "# distinct values in latitude is: 3818\n",
      "# distinct values in longitude is: 3818\n",
      "# distinct values in is_location_exact is: 2\n",
      "# distinct values in property_type is: 16\n",
      "# distinct values in room_type is: 3\n",
      "# distinct values in accommodates is: 15\n",
      "# distinct values in bathrooms is: 12\n",
      "# distinct values in bedrooms is: 8\n",
      "# distinct values in beds is: 11\n",
      "# distinct values in bed_type is: 5\n",
      "# distinct values in amenities is: 3284\n",
      "# distinct values in square_feet is: 47\n",
      "# distinct values in price is: 273\n",
      "# distinct values in weekly_price is: 395\n",
      "# distinct values in monthly_price is: 356\n",
      "# distinct values in security_deposit is: 46\n",
      "# distinct values in cleaning_fee is: 118\n",
      "# distinct values in guests_included is: 15\n",
      "# distinct values in extra_people is: 45\n",
      "# distinct values in minimum_nights is: 22\n",
      "# distinct values in maximum_nights is: 68\n",
      "# distinct values in calendar_updated is: 34\n",
      "# distinct values in has_availability is: 1\n",
      "# distinct values in availability_30 is: 31\n",
      "# distinct values in availability_60 is: 61\n",
      "# distinct values in availability_90 is: 91\n",
      "# distinct values in availability_365 is: 363\n",
      "# distinct values in calendar_last_scraped is: 1\n",
      "# distinct values in number_of_reviews is: 195\n",
      "# distinct values in first_review is: 984\n",
      "# distinct values in last_review is: 321\n",
      "# distinct values in review_scores_rating is: 42\n",
      "# distinct values in review_scores_accuracy is: 7\n",
      "# distinct values in review_scores_cleanliness is: 8\n",
      "# distinct values in review_scores_checkin is: 8\n",
      "# distinct values in review_scores_communication is: 8\n",
      "# distinct values in review_scores_location is: 6\n",
      "# distinct values in review_scores_value is: 8\n",
      "# distinct values in requires_license is: 1\n",
      "# distinct values in license is: 0\n",
      "# distinct values in jurisdiction_names is: 1\n",
      "# distinct values in instant_bookable is: 2\n",
      "# distinct values in cancellation_policy is: 3\n",
      "# distinct values in require_guest_profile_picture is: 2\n",
      "# distinct values in require_guest_phone_verification is: 2\n",
      "# distinct values in calculated_host_listings_count is: 18\n",
      "# distinct values in reviews_per_month is: 654\n"
     ]
    }
   ],
   "source": [
    "for i in listings.columns:\n",
    "    print(\"# distinct values in\", i,\"is:\", listings[i].nunique())"
   ]
  },
  {
   "cell_type": "code",
   "execution_count": 17,
   "metadata": {},
   "outputs": [
    {
     "data": {
      "text/plain": [
       "(3818, 92)"
      ]
     },
     "execution_count": 17,
     "metadata": {},
     "output_type": "execute_result"
    }
   ],
   "source": [
    "listings.shape"
   ]
  },
  {
   "cell_type": "code",
   "execution_count": 18,
   "metadata": {},
   "outputs": [
    {
     "name": "stdout",
     "output_type": "stream",
     "text": [
      "# distinct values in variable - listing_id is: 3818\n",
      "# distinct values in variable - date is: 365\n",
      "# distinct values in variable - available is: 2\n",
      "# distinct values in variable - price is: 669\n"
     ]
    }
   ],
   "source": [
    "for i in calendar.columns:\n",
    "    print(\"# distinct values in variable -\", i, \"is:\", calendar[i].nunique())"
   ]
  },
  {
   "cell_type": "code",
   "execution_count": 19,
   "metadata": {},
   "outputs": [
    {
     "data": {
      "text/plain": [
       "(1393570, 4)"
      ]
     },
     "execution_count": 19,
     "metadata": {},
     "output_type": "execute_result"
    }
   ],
   "source": [
    "calendar.shape"
   ]
  },
  {
   "cell_type": "code",
   "execution_count": 20,
   "metadata": {},
   "outputs": [],
   "source": [
    "# The day wise information in the calendar table is present for all of the 3818 listings present in the listings dataset\n",
    "# 365 distinct days are present. So, it looks like information is availale for 1 calendar year"
   ]
  },
  {
   "cell_type": "code",
   "execution_count": 21,
   "metadata": {},
   "outputs": [
    {
     "data": {
      "text/plain": [
       "'2016-01-04'"
      ]
     },
     "execution_count": 21,
     "metadata": {},
     "output_type": "execute_result"
    }
   ],
   "source": [
    "np.min(calendar['date'])"
   ]
  },
  {
   "cell_type": "code",
   "execution_count": 22,
   "metadata": {},
   "outputs": [
    {
     "data": {
      "text/plain": [
       "'2017-01-02'"
      ]
     },
     "execution_count": 22,
     "metadata": {},
     "output_type": "execute_result"
    }
   ],
   "source": [
    "np.max(calendar['date'])"
   ]
  },
  {
   "cell_type": "code",
   "execution_count": 311,
   "metadata": {},
   "outputs": [],
   "source": [
    "#Based on the minimum and maximum dates, we can say that \n",
    "#data in calendar table is present from 4th Jan 2016 to 2nd Jan 2017"
   ]
  },
  {
   "cell_type": "code",
   "execution_count": null,
   "metadata": {},
   "outputs": [],
   "source": []
  },
  {
   "cell_type": "markdown",
   "metadata": {},
   "source": [
    "## Probing the data with the idea of answering the following 3 business questions:\n",
    "1. How does the prices of Airbnb hotels in Seattle fluctuate over time?\n",
    "2. How have the total number of bookings increased over time?\n",
    "3. What factors have the highest correlation with price of Airbnb Seattle hotels?"
   ]
  },
  {
   "cell_type": "markdown",
   "metadata": {},
   "source": [
    "##### 1. How does the prices of Airbnb hotels in Seattle fluctuate over time?"
   ]
  },
  {
   "cell_type": "markdown",
   "metadata": {},
   "source": [
    "To get this information we need to look at the calendar data as calendar data contains the price information by each day for each listing"
   ]
  },
  {
   "cell_type": "code",
   "execution_count": 316,
   "metadata": {},
   "outputs": [
    {
     "data": {
      "text/plain": [
       "listing_id     int64\n",
       "date          object\n",
       "available     object\n",
       "price         object\n",
       "dtype: object"
      ]
     },
     "execution_count": 316,
     "metadata": {},
     "output_type": "execute_result"
    }
   ],
   "source": [
    "calendar.dtypes"
   ]
  },
  {
   "cell_type": "code",
   "execution_count": 317,
   "metadata": {},
   "outputs": [
    {
     "data": {
      "text/html": [
       "<div>\n",
       "<style scoped>\n",
       "    .dataframe tbody tr th:only-of-type {\n",
       "        vertical-align: middle;\n",
       "    }\n",
       "\n",
       "    .dataframe tbody tr th {\n",
       "        vertical-align: top;\n",
       "    }\n",
       "\n",
       "    .dataframe thead th {\n",
       "        text-align: right;\n",
       "    }\n",
       "</style>\n",
       "<table border=\"1\" class=\"dataframe\">\n",
       "  <thead>\n",
       "    <tr style=\"text-align: right;\">\n",
       "      <th></th>\n",
       "      <th>listing_id</th>\n",
       "      <th>date</th>\n",
       "      <th>available</th>\n",
       "      <th>price</th>\n",
       "    </tr>\n",
       "  </thead>\n",
       "  <tbody>\n",
       "    <tr>\n",
       "      <th>0</th>\n",
       "      <td>241032</td>\n",
       "      <td>2016-01-04</td>\n",
       "      <td>t</td>\n",
       "      <td>$85.00</td>\n",
       "    </tr>\n",
       "    <tr>\n",
       "      <th>1</th>\n",
       "      <td>241032</td>\n",
       "      <td>2016-01-05</td>\n",
       "      <td>t</td>\n",
       "      <td>$85.00</td>\n",
       "    </tr>\n",
       "  </tbody>\n",
       "</table>\n",
       "</div>"
      ],
      "text/plain": [
       "   listing_id        date available   price\n",
       "0      241032  2016-01-04         t  $85.00\n",
       "1      241032  2016-01-05         t  $85.00"
      ]
     },
     "execution_count": 317,
     "metadata": {},
     "output_type": "execute_result"
    }
   ],
   "source": [
    "calendar.head(2)"
   ]
  },
  {
   "cell_type": "markdown",
   "metadata": {},
   "source": [
    "As currently, the price has the format 'object' and has the dollar sign in it, we need to remove dollar sign to be able to convert the value into numeric type. We also need to remove commas from the price values"
   ]
  },
  {
   "cell_type": "code",
   "execution_count": 7,
   "metadata": {},
   "outputs": [],
   "source": [
    "calendar['price'] = calendar['price'].str.replace('$', '')\n",
    "calendar['price'] = calendar['price'].str.replace(',', '')"
   ]
  },
  {
   "cell_type": "code",
   "execution_count": 8,
   "metadata": {},
   "outputs": [
    {
     "data": {
      "text/plain": [
       "0    85.00\n",
       "1    85.00\n",
       "Name: price, dtype: object"
      ]
     },
     "execution_count": 8,
     "metadata": {},
     "output_type": "execute_result"
    }
   ],
   "source": [
    "calendar['price'].head(2)"
   ]
  },
  {
   "cell_type": "code",
   "execution_count": 9,
   "metadata": {},
   "outputs": [
    {
     "data": {
      "text/plain": [
       "listing_id     int64\n",
       "date          object\n",
       "available     object\n",
       "price         object\n",
       "dtype: object"
      ]
     },
     "execution_count": 9,
     "metadata": {},
     "output_type": "execute_result"
    }
   ],
   "source": [
    "calendar.dtypes"
   ]
  },
  {
   "cell_type": "code",
   "execution_count": 10,
   "metadata": {},
   "outputs": [],
   "source": [
    "calendar['price'] = pd.to_numeric(calendar['price'], downcast = 'float')"
   ]
  },
  {
   "cell_type": "code",
   "execution_count": 11,
   "metadata": {},
   "outputs": [
    {
     "data": {
      "text/html": [
       "<div>\n",
       "<style scoped>\n",
       "    .dataframe tbody tr th:only-of-type {\n",
       "        vertical-align: middle;\n",
       "    }\n",
       "\n",
       "    .dataframe tbody tr th {\n",
       "        vertical-align: top;\n",
       "    }\n",
       "\n",
       "    .dataframe thead th {\n",
       "        text-align: right;\n",
       "    }\n",
       "</style>\n",
       "<table border=\"1\" class=\"dataframe\">\n",
       "  <thead>\n",
       "    <tr style=\"text-align: right;\">\n",
       "      <th></th>\n",
       "      <th>listing_id</th>\n",
       "      <th>date</th>\n",
       "      <th>available</th>\n",
       "      <th>price</th>\n",
       "    </tr>\n",
       "  </thead>\n",
       "  <tbody>\n",
       "    <tr>\n",
       "      <th>0</th>\n",
       "      <td>241032</td>\n",
       "      <td>2016-01-04</td>\n",
       "      <td>t</td>\n",
       "      <td>85.0</td>\n",
       "    </tr>\n",
       "    <tr>\n",
       "      <th>1</th>\n",
       "      <td>241032</td>\n",
       "      <td>2016-01-05</td>\n",
       "      <td>t</td>\n",
       "      <td>85.0</td>\n",
       "    </tr>\n",
       "  </tbody>\n",
       "</table>\n",
       "</div>"
      ],
      "text/plain": [
       "   listing_id        date available  price\n",
       "0      241032  2016-01-04         t   85.0\n",
       "1      241032  2016-01-05         t   85.0"
      ]
     },
     "execution_count": 11,
     "metadata": {},
     "output_type": "execute_result"
    }
   ],
   "source": [
    "calendar.head(2)"
   ]
  },
  {
   "cell_type": "code",
   "execution_count": 12,
   "metadata": {},
   "outputs": [
    {
     "data": {
      "text/html": [
       "<div>\n",
       "<style scoped>\n",
       "    .dataframe tbody tr th:only-of-type {\n",
       "        vertical-align: middle;\n",
       "    }\n",
       "\n",
       "    .dataframe tbody tr th {\n",
       "        vertical-align: top;\n",
       "    }\n",
       "\n",
       "    .dataframe thead th {\n",
       "        text-align: right;\n",
       "    }\n",
       "</style>\n",
       "<table border=\"1\" class=\"dataframe\">\n",
       "  <thead>\n",
       "    <tr style=\"text-align: right;\">\n",
       "      <th></th>\n",
       "      <th>price</th>\n",
       "    </tr>\n",
       "    <tr>\n",
       "      <th>available</th>\n",
       "      <th></th>\n",
       "    </tr>\n",
       "  </thead>\n",
       "  <tbody>\n",
       "    <tr>\n",
       "      <th>f</th>\n",
       "      <td>NaN</td>\n",
       "    </tr>\n",
       "    <tr>\n",
       "      <th>t</th>\n",
       "      <td>137.944855</td>\n",
       "    </tr>\n",
       "  </tbody>\n",
       "</table>\n",
       "</div>"
      ],
      "text/plain": [
       "                price\n",
       "available            \n",
       "f                 NaN\n",
       "t          137.944855"
      ]
     },
     "execution_count": 12,
     "metadata": {},
     "output_type": "execute_result"
    }
   ],
   "source": [
    "calendar[['available', 'price']].groupby('available').mean()"
   ]
  },
  {
   "cell_type": "code",
   "execution_count": 17,
   "metadata": {},
   "outputs": [
    {
     "data": {
      "text/plain": [
       "(1393570, 4)"
      ]
     },
     "execution_count": 17,
     "metadata": {},
     "output_type": "execute_result"
    }
   ],
   "source": [
    "calendar.shape"
   ]
  },
  {
   "cell_type": "code",
   "execution_count": 13,
   "metadata": {},
   "outputs": [],
   "source": [
    "#This implies that whenever available flat is f, there is no price information available. \n",
    "#So, for our analysis in this section, we will only use data when available flag is true"
   ]
  },
  {
   "cell_type": "code",
   "execution_count": 18,
   "metadata": {},
   "outputs": [],
   "source": [
    "df = calendar[calendar['available'] == 't']"
   ]
  },
  {
   "cell_type": "code",
   "execution_count": 19,
   "metadata": {},
   "outputs": [
    {
     "data": {
      "text/html": [
       "<div>\n",
       "<style scoped>\n",
       "    .dataframe tbody tr th:only-of-type {\n",
       "        vertical-align: middle;\n",
       "    }\n",
       "\n",
       "    .dataframe tbody tr th {\n",
       "        vertical-align: top;\n",
       "    }\n",
       "\n",
       "    .dataframe thead th {\n",
       "        text-align: right;\n",
       "    }\n",
       "</style>\n",
       "<table border=\"1\" class=\"dataframe\">\n",
       "  <thead>\n",
       "    <tr style=\"text-align: right;\">\n",
       "      <th></th>\n",
       "      <th>listing_id</th>\n",
       "      <th>date</th>\n",
       "      <th>available</th>\n",
       "      <th>price</th>\n",
       "    </tr>\n",
       "  </thead>\n",
       "  <tbody>\n",
       "    <tr>\n",
       "      <th>0</th>\n",
       "      <td>241032</td>\n",
       "      <td>2016-01-04</td>\n",
       "      <td>t</td>\n",
       "      <td>85.0</td>\n",
       "    </tr>\n",
       "    <tr>\n",
       "      <th>1</th>\n",
       "      <td>241032</td>\n",
       "      <td>2016-01-05</td>\n",
       "      <td>t</td>\n",
       "      <td>85.0</td>\n",
       "    </tr>\n",
       "  </tbody>\n",
       "</table>\n",
       "</div>"
      ],
      "text/plain": [
       "   listing_id        date available  price\n",
       "0      241032  2016-01-04         t   85.0\n",
       "1      241032  2016-01-05         t   85.0"
      ]
     },
     "execution_count": 19,
     "metadata": {},
     "output_type": "execute_result"
    }
   ],
   "source": [
    "df.head(2)"
   ]
  },
  {
   "cell_type": "code",
   "execution_count": 20,
   "metadata": {},
   "outputs": [
    {
     "data": {
      "text/plain": [
       "(1393570, 4)"
      ]
     },
     "execution_count": 20,
     "metadata": {},
     "output_type": "execute_result"
    }
   ],
   "source": [
    "calendar.shape"
   ]
  },
  {
   "cell_type": "code",
   "execution_count": 21,
   "metadata": {},
   "outputs": [
    {
     "data": {
      "text/plain": [
       "(934542, 4)"
      ]
     },
     "execution_count": 21,
     "metadata": {},
     "output_type": "execute_result"
    }
   ],
   "source": [
    "df.shape"
   ]
  },
  {
   "cell_type": "code",
   "execution_count": 22,
   "metadata": {},
   "outputs": [],
   "source": [
    "s = df.groupby('date').mean()['price']"
   ]
  },
  {
   "cell_type": "code",
   "execution_count": 23,
   "metadata": {},
   "outputs": [
    {
     "data": {
      "text/plain": [
       "(365,)"
      ]
     },
     "execution_count": 23,
     "metadata": {},
     "output_type": "execute_result"
    }
   ],
   "source": [
    "s.shape"
   ]
  },
  {
   "cell_type": "code",
   "execution_count": 24,
   "metadata": {},
   "outputs": [
    {
     "data": {
      "text/plain": [
       "date\n",
       "2016-01-04    122.085876\n",
       "2016-01-05    120.681305\n",
       "2016-01-06    120.928261\n",
       "2016-01-07    120.958893\n",
       "2016-01-08    127.640854\n",
       "                 ...    \n",
       "2016-12-29    138.045502\n",
       "2016-12-30    144.738373\n",
       "2016-12-31    145.698151\n",
       "2017-01-01    138.126968\n",
       "2017-01-02    135.572769\n",
       "Name: price, Length: 365, dtype: float32"
      ]
     },
     "execution_count": 24,
     "metadata": {},
     "output_type": "execute_result"
    }
   ],
   "source": [
    "s"
   ]
  },
  {
   "cell_type": "code",
   "execution_count": 25,
   "metadata": {},
   "outputs": [
    {
     "data": {
      "image/png": "[encoded data removed]",
      "text/plain": [
       "<Figure size 1152x432 with 1 Axes>"
      ]
     },
     "metadata": {
      "needs_background": "light"
     },
     "output_type": "display_data"
    }
   ],
   "source": [
    "plt.figure(figsize = (16, 6))\n",
    "s.plot()\n",
    "plt.xlabel('Date')\n",
    "plt.ylabel('Average price')\n",
    "plt.title('Average price variation by day')\n",
    "plt.show()"
   ]
  },
  {
   "cell_type": "code",
   "execution_count": 26,
   "metadata": {},
   "outputs": [],
   "source": [
    "#From the above plot it can be interpreted that Average prices are higher in the months of July and Aug compared to rest of year\n",
    "#Also, prices increase from Jan to July\n",
    "#Further, there seems to be weekly variation in prices. To understand this further, let's calculate the average price \n",
    "#by day of the week"
   ]
  },
  {
   "cell_type": "code",
   "execution_count": 27,
   "metadata": {},
   "outputs": [
    {
     "data": {
      "text/html": [
       "<div>\n",
       "<style scoped>\n",
       "    .dataframe tbody tr th:only-of-type {\n",
       "        vertical-align: middle;\n",
       "    }\n",
       "\n",
       "    .dataframe tbody tr th {\n",
       "        vertical-align: top;\n",
       "    }\n",
       "\n",
       "    .dataframe thead th {\n",
       "        text-align: right;\n",
       "    }\n",
       "</style>\n",
       "<table border=\"1\" class=\"dataframe\">\n",
       "  <thead>\n",
       "    <tr style=\"text-align: right;\">\n",
       "      <th></th>\n",
       "      <th>listing_id</th>\n",
       "      <th>date</th>\n",
       "      <th>available</th>\n",
       "      <th>price</th>\n",
       "    </tr>\n",
       "  </thead>\n",
       "  <tbody>\n",
       "    <tr>\n",
       "      <th>0</th>\n",
       "      <td>241032</td>\n",
       "      <td>2016-01-04</td>\n",
       "      <td>t</td>\n",
       "      <td>85.0</td>\n",
       "    </tr>\n",
       "    <tr>\n",
       "      <th>1</th>\n",
       "      <td>241032</td>\n",
       "      <td>2016-01-05</td>\n",
       "      <td>t</td>\n",
       "      <td>85.0</td>\n",
       "    </tr>\n",
       "  </tbody>\n",
       "</table>\n",
       "</div>"
      ],
      "text/plain": [
       "   listing_id        date available  price\n",
       "0      241032  2016-01-04         t   85.0\n",
       "1      241032  2016-01-05         t   85.0"
      ]
     },
     "execution_count": 27,
     "metadata": {},
     "output_type": "execute_result"
    }
   ],
   "source": [
    "df.head(2)"
   ]
  },
  {
   "cell_type": "markdown",
   "metadata": {},
   "source": [
    "Currently, the 'date' field is not of datetime type, so, we extract weekday information from date field, we need to first convert it into datetime type"
   ]
  },
  {
   "cell_type": "code",
   "execution_count": 28,
   "metadata": {},
   "outputs": [
    {
     "name": "stderr",
     "output_type": "stream",
     "text": [
      "<ipython-input-28-e8d2d516eb0e>:1: SettingWithCopyWarning: \n",
      "A value is trying to be set on a copy of a slice from a DataFrame.\n",
      "Try using .loc[row_indexer,col_indexer] = value instead\n",
      "\n",
      "See the caveats in the documentation: https://pandas.pydata.org/pandas-docs/stable/user_guide/indexing.html#returning-a-view-versus-a-copy\n",
      "  df['date'] = pd.to_datetime(df['date'])\n"
     ]
    }
   ],
   "source": [
    "df['date'] = pd.to_datetime(df['date'])"
   ]
  },
  {
   "cell_type": "code",
   "execution_count": 29,
   "metadata": {},
   "outputs": [
    {
     "name": "stderr",
     "output_type": "stream",
     "text": [
      "<ipython-input-29-9eb8ea0671c1>:1: SettingWithCopyWarning: \n",
      "A value is trying to be set on a copy of a slice from a DataFrame.\n",
      "Try using .loc[row_indexer,col_indexer] = value instead\n",
      "\n",
      "See the caveats in the documentation: https://pandas.pydata.org/pandas-docs/stable/user_guide/indexing.html#returning-a-view-versus-a-copy\n",
      "  df['Dayofweek'] = df['date'].dt.dayofweek\n"
     ]
    }
   ],
   "source": [
    "df['Dayofweek'] = df['date'].dt.dayofweek"
   ]
  },
  {
   "cell_type": "code",
   "execution_count": 30,
   "metadata": {},
   "outputs": [
    {
     "data": {
      "text/html": [
       "<div>\n",
       "<style scoped>\n",
       "    .dataframe tbody tr th:only-of-type {\n",
       "        vertical-align: middle;\n",
       "    }\n",
       "\n",
       "    .dataframe tbody tr th {\n",
       "        vertical-align: top;\n",
       "    }\n",
       "\n",
       "    .dataframe thead th {\n",
       "        text-align: right;\n",
       "    }\n",
       "</style>\n",
       "<table border=\"1\" class=\"dataframe\">\n",
       "  <thead>\n",
       "    <tr style=\"text-align: right;\">\n",
       "      <th></th>\n",
       "      <th>listing_id</th>\n",
       "      <th>date</th>\n",
       "      <th>available</th>\n",
       "      <th>price</th>\n",
       "      <th>Dayofweek</th>\n",
       "    </tr>\n",
       "  </thead>\n",
       "  <tbody>\n",
       "    <tr>\n",
       "      <th>0</th>\n",
       "      <td>241032</td>\n",
       "      <td>2016-01-04</td>\n",
       "      <td>t</td>\n",
       "      <td>85.0</td>\n",
       "      <td>0</td>\n",
       "    </tr>\n",
       "    <tr>\n",
       "      <th>1</th>\n",
       "      <td>241032</td>\n",
       "      <td>2016-01-05</td>\n",
       "      <td>t</td>\n",
       "      <td>85.0</td>\n",
       "      <td>1</td>\n",
       "    </tr>\n",
       "    <tr>\n",
       "      <th>9</th>\n",
       "      <td>241032</td>\n",
       "      <td>2016-01-13</td>\n",
       "      <td>t</td>\n",
       "      <td>85.0</td>\n",
       "      <td>2</td>\n",
       "    </tr>\n",
       "    <tr>\n",
       "      <th>10</th>\n",
       "      <td>241032</td>\n",
       "      <td>2016-01-14</td>\n",
       "      <td>t</td>\n",
       "      <td>85.0</td>\n",
       "      <td>3</td>\n",
       "    </tr>\n",
       "    <tr>\n",
       "      <th>14</th>\n",
       "      <td>241032</td>\n",
       "      <td>2016-01-18</td>\n",
       "      <td>t</td>\n",
       "      <td>85.0</td>\n",
       "      <td>0</td>\n",
       "    </tr>\n",
       "    <tr>\n",
       "      <th>15</th>\n",
       "      <td>241032</td>\n",
       "      <td>2016-01-19</td>\n",
       "      <td>t</td>\n",
       "      <td>85.0</td>\n",
       "      <td>1</td>\n",
       "    </tr>\n",
       "    <tr>\n",
       "      <th>16</th>\n",
       "      <td>241032</td>\n",
       "      <td>2016-01-20</td>\n",
       "      <td>t</td>\n",
       "      <td>85.0</td>\n",
       "      <td>2</td>\n",
       "    </tr>\n",
       "  </tbody>\n",
       "</table>\n",
       "</div>"
      ],
      "text/plain": [
       "    listing_id       date available  price  Dayofweek\n",
       "0       241032 2016-01-04         t   85.0          0\n",
       "1       241032 2016-01-05         t   85.0          1\n",
       "9       241032 2016-01-13         t   85.0          2\n",
       "10      241032 2016-01-14         t   85.0          3\n",
       "14      241032 2016-01-18         t   85.0          0\n",
       "15      241032 2016-01-19         t   85.0          1\n",
       "16      241032 2016-01-20         t   85.0          2"
      ]
     },
     "execution_count": 30,
     "metadata": {},
     "output_type": "execute_result"
    }
   ],
   "source": [
    "df.head(7)"
   ]
  },
  {
   "cell_type": "code",
   "execution_count": 31,
   "metadata": {},
   "outputs": [
    {
     "data": {
      "text/plain": [
       "array([0, 1, 2, 3, 6, 4, 5], dtype=int64)"
      ]
     },
     "execution_count": 31,
     "metadata": {},
     "output_type": "execute_result"
    }
   ],
   "source": [
    "df['Dayofweek'].unique()"
   ]
  },
  {
   "cell_type": "markdown",
   "metadata": {},
   "source": [
    "Assigning appropriate weekdays names to each of the above numeric values"
   ]
  },
  {
   "cell_type": "code",
   "execution_count": 32,
   "metadata": {},
   "outputs": [
    {
     "name": "stderr",
     "output_type": "stream",
     "text": [
      "C:\\Users\\praj\\Anaconda3\\lib\\site-packages\\pandas\\core\\indexing.py:845: SettingWithCopyWarning: \n",
      "A value is trying to be set on a copy of a slice from a DataFrame.\n",
      "Try using .loc[row_indexer,col_indexer] = value instead\n",
      "\n",
      "See the caveats in the documentation: https://pandas.pydata.org/pandas-docs/stable/user_guide/indexing.html#returning-a-view-versus-a-copy\n",
      "  self.obj[key] = _infer_fill_value(value)\n",
      "C:\\Users\\praj\\Anaconda3\\lib\\site-packages\\pandas\\core\\indexing.py:966: SettingWithCopyWarning: \n",
      "A value is trying to be set on a copy of a slice from a DataFrame.\n",
      "Try using .loc[row_indexer,col_indexer] = value instead\n",
      "\n",
      "See the caveats in the documentation: https://pandas.pydata.org/pandas-docs/stable/user_guide/indexing.html#returning-a-view-versus-a-copy\n",
      "  self.obj[item] = s\n"
     ]
    }
   ],
   "source": [
    "df.loc[df['Dayofweek'] == 0, 'Dayofweek1'] = 'Monday'\n",
    "df.loc[df['Dayofweek'] == 1, 'Dayofweek1'] = 'Tuesday'\n",
    "df.loc[df['Dayofweek'] == 2, 'Dayofweek1'] = 'Wednesday'\n",
    "df.loc[df['Dayofweek'] == 3, 'Dayofweek1'] = 'Thursday'\n",
    "df.loc[df['Dayofweek'] == 4, 'Dayofweek1'] = 'Friday'\n",
    "df.loc[df['Dayofweek'] == 5, 'Dayofweek1'] = 'Saturday'\n",
    "df.loc[df['Dayofweek'] == 6, 'Dayofweek1'] = 'Sunday'"
   ]
  },
  {
   "cell_type": "code",
   "execution_count": 33,
   "metadata": {},
   "outputs": [
    {
     "data": {
      "text/html": [
       "<div>\n",
       "<style scoped>\n",
       "    .dataframe tbody tr th:only-of-type {\n",
       "        vertical-align: middle;\n",
       "    }\n",
       "\n",
       "    .dataframe tbody tr th {\n",
       "        vertical-align: top;\n",
       "    }\n",
       "\n",
       "    .dataframe thead th {\n",
       "        text-align: right;\n",
       "    }\n",
       "</style>\n",
       "<table border=\"1\" class=\"dataframe\">\n",
       "  <thead>\n",
       "    <tr style=\"text-align: right;\">\n",
       "      <th></th>\n",
       "      <th>listing_id</th>\n",
       "      <th>date</th>\n",
       "      <th>available</th>\n",
       "      <th>price</th>\n",
       "      <th>Dayofweek</th>\n",
       "      <th>Dayofweek1</th>\n",
       "    </tr>\n",
       "  </thead>\n",
       "  <tbody>\n",
       "    <tr>\n",
       "      <th>0</th>\n",
       "      <td>241032</td>\n",
       "      <td>2016-01-04</td>\n",
       "      <td>t</td>\n",
       "      <td>85.0</td>\n",
       "      <td>0</td>\n",
       "      <td>Monday</td>\n",
       "    </tr>\n",
       "    <tr>\n",
       "      <th>1</th>\n",
       "      <td>241032</td>\n",
       "      <td>2016-01-05</td>\n",
       "      <td>t</td>\n",
       "      <td>85.0</td>\n",
       "      <td>1</td>\n",
       "      <td>Tuesday</td>\n",
       "    </tr>\n",
       "    <tr>\n",
       "      <th>9</th>\n",
       "      <td>241032</td>\n",
       "      <td>2016-01-13</td>\n",
       "      <td>t</td>\n",
       "      <td>85.0</td>\n",
       "      <td>2</td>\n",
       "      <td>Wednesday</td>\n",
       "    </tr>\n",
       "  </tbody>\n",
       "</table>\n",
       "</div>"
      ],
      "text/plain": [
       "   listing_id       date available  price  Dayofweek Dayofweek1\n",
       "0      241032 2016-01-04         t   85.0          0     Monday\n",
       "1      241032 2016-01-05         t   85.0          1    Tuesday\n",
       "9      241032 2016-01-13         t   85.0          2  Wednesday"
      ]
     },
     "execution_count": 33,
     "metadata": {},
     "output_type": "execute_result"
    }
   ],
   "source": [
    "df.head(3)"
   ]
  },
  {
   "cell_type": "code",
   "execution_count": 34,
   "metadata": {},
   "outputs": [],
   "source": [
    "s1 = df.groupby('Dayofweek1').mean()['price'].sort_values()"
   ]
  },
  {
   "cell_type": "code",
   "execution_count": 35,
   "metadata": {},
   "outputs": [
    {
     "data": {
      "text/plain": [
       "Dayofweek1\n",
       "Tuesday      135.408768\n",
       "Wednesday    135.447876\n",
       "Monday       135.676407\n",
       "Sunday       136.459946\n",
       "Thursday     136.476028\n",
       "Friday       143.036301\n",
       "Saturday     143.202133\n",
       "Name: price, dtype: float32"
      ]
     },
     "execution_count": 35,
     "metadata": {},
     "output_type": "execute_result"
    }
   ],
   "source": [
    "s1"
   ]
  },
  {
   "cell_type": "code",
   "execution_count": 36,
   "metadata": {},
   "outputs": [
    {
     "data": {
      "image/png": "[encoded data removed]",
      "text/plain": [
       "<Figure size 432x288 with 1 Axes>"
      ]
     },
     "metadata": {
      "needs_background": "light"
     },
     "output_type": "display_data"
    }
   ],
   "source": [
    "plt.plot(s1)\n",
    "plt.title('Price variation by day of the week')\n",
    "plt.ylabel('Average price')\n",
    "plt.show()"
   ]
  },
  {
   "cell_type": "code",
   "execution_count": 319,
   "metadata": {},
   "outputs": [],
   "source": [
    "#It can be seen that average prices are highest on Fridays and Saturdays, and lowest on Tuesdays and Wednesdays\n",
    "#Let's check whether the price variation is any different during the months of July and Aug when the overall prices are highest"
   ]
  },
  {
   "cell_type": "code",
   "execution_count": 38,
   "metadata": {},
   "outputs": [
    {
     "data": {
      "text/html": [
       "<div>\n",
       "<style scoped>\n",
       "    .dataframe tbody tr th:only-of-type {\n",
       "        vertical-align: middle;\n",
       "    }\n",
       "\n",
       "    .dataframe tbody tr th {\n",
       "        vertical-align: top;\n",
       "    }\n",
       "\n",
       "    .dataframe thead th {\n",
       "        text-align: right;\n",
       "    }\n",
       "</style>\n",
       "<table border=\"1\" class=\"dataframe\">\n",
       "  <thead>\n",
       "    <tr style=\"text-align: right;\">\n",
       "      <th></th>\n",
       "      <th>listing_id</th>\n",
       "      <th>date</th>\n",
       "      <th>available</th>\n",
       "      <th>price</th>\n",
       "      <th>Dayofweek</th>\n",
       "      <th>Dayofweek1</th>\n",
       "    </tr>\n",
       "  </thead>\n",
       "  <tbody>\n",
       "    <tr>\n",
       "      <th>0</th>\n",
       "      <td>241032</td>\n",
       "      <td>2016-01-04</td>\n",
       "      <td>t</td>\n",
       "      <td>85.0</td>\n",
       "      <td>0</td>\n",
       "      <td>Monday</td>\n",
       "    </tr>\n",
       "    <tr>\n",
       "      <th>1</th>\n",
       "      <td>241032</td>\n",
       "      <td>2016-01-05</td>\n",
       "      <td>t</td>\n",
       "      <td>85.0</td>\n",
       "      <td>1</td>\n",
       "      <td>Tuesday</td>\n",
       "    </tr>\n",
       "  </tbody>\n",
       "</table>\n",
       "</div>"
      ],
      "text/plain": [
       "   listing_id       date available  price  Dayofweek Dayofweek1\n",
       "0      241032 2016-01-04         t   85.0          0     Monday\n",
       "1      241032 2016-01-05         t   85.0          1    Tuesday"
      ]
     },
     "execution_count": 38,
     "metadata": {},
     "output_type": "execute_result"
    }
   ],
   "source": [
    "df.head(2)"
   ]
  },
  {
   "cell_type": "code",
   "execution_count": 39,
   "metadata": {},
   "outputs": [
    {
     "data": {
      "text/plain": [
       "(934542, 6)"
      ]
     },
     "execution_count": 39,
     "metadata": {},
     "output_type": "execute_result"
    }
   ],
   "source": [
    "df.shape"
   ]
  },
  {
   "cell_type": "code",
   "execution_count": null,
   "metadata": {},
   "outputs": [],
   "source": []
  },
  {
   "cell_type": "code",
   "execution_count": null,
   "metadata": {},
   "outputs": [],
   "source": []
  },
  {
   "cell_type": "markdown",
   "metadata": {},
   "source": [
    "Subsetting the data for just the months of July and Aug 2016"
   ]
  },
  {
   "cell_type": "code",
   "execution_count": 40,
   "metadata": {},
   "outputs": [],
   "source": [
    "df_July_Aug = df[df['date'] >= '2016-07-01']\n",
    "df_July_Aug = df_July_Aug[df_July_Aug['date'] <= '2016-08-31']"
   ]
  },
  {
   "cell_type": "code",
   "execution_count": 41,
   "metadata": {},
   "outputs": [
    {
     "data": {
      "text/plain": [
       "(150569, 6)"
      ]
     },
     "execution_count": 41,
     "metadata": {},
     "output_type": "execute_result"
    }
   ],
   "source": [
    "df_July_Aug.shape"
   ]
  },
  {
   "cell_type": "code",
   "execution_count": 42,
   "metadata": {},
   "outputs": [
    {
     "data": {
      "text/html": [
       "<div>\n",
       "<style scoped>\n",
       "    .dataframe tbody tr th:only-of-type {\n",
       "        vertical-align: middle;\n",
       "    }\n",
       "\n",
       "    .dataframe tbody tr th {\n",
       "        vertical-align: top;\n",
       "    }\n",
       "\n",
       "    .dataframe thead th {\n",
       "        text-align: right;\n",
       "    }\n",
       "</style>\n",
       "<table border=\"1\" class=\"dataframe\">\n",
       "  <thead>\n",
       "    <tr style=\"text-align: right;\">\n",
       "      <th></th>\n",
       "      <th>listing_id</th>\n",
       "      <th>date</th>\n",
       "      <th>available</th>\n",
       "      <th>price</th>\n",
       "      <th>Dayofweek</th>\n",
       "      <th>Dayofweek1</th>\n",
       "    </tr>\n",
       "  </thead>\n",
       "  <tbody>\n",
       "    <tr>\n",
       "      <th>179</th>\n",
       "      <td>241032</td>\n",
       "      <td>2016-07-01</td>\n",
       "      <td>t</td>\n",
       "      <td>85.0</td>\n",
       "      <td>4</td>\n",
       "      <td>Friday</td>\n",
       "    </tr>\n",
       "    <tr>\n",
       "      <th>180</th>\n",
       "      <td>241032</td>\n",
       "      <td>2016-07-02</td>\n",
       "      <td>t</td>\n",
       "      <td>85.0</td>\n",
       "      <td>5</td>\n",
       "      <td>Saturday</td>\n",
       "    </tr>\n",
       "    <tr>\n",
       "      <th>181</th>\n",
       "      <td>241032</td>\n",
       "      <td>2016-07-03</td>\n",
       "      <td>t</td>\n",
       "      <td>85.0</td>\n",
       "      <td>6</td>\n",
       "      <td>Sunday</td>\n",
       "    </tr>\n",
       "  </tbody>\n",
       "</table>\n",
       "</div>"
      ],
      "text/plain": [
       "     listing_id       date available  price  Dayofweek Dayofweek1\n",
       "179      241032 2016-07-01         t   85.0          4     Friday\n",
       "180      241032 2016-07-02         t   85.0          5   Saturday\n",
       "181      241032 2016-07-03         t   85.0          6     Sunday"
      ]
     },
     "execution_count": 42,
     "metadata": {},
     "output_type": "execute_result"
    }
   ],
   "source": [
    "df_July_Aug.head(3)"
   ]
  },
  {
   "cell_type": "code",
   "execution_count": 43,
   "metadata": {},
   "outputs": [
    {
     "data": {
      "text/plain": [
       "Timestamp('2016-08-31 00:00:00')"
      ]
     },
     "execution_count": 43,
     "metadata": {},
     "output_type": "execute_result"
    }
   ],
   "source": [
    "df_July_Aug['date'].max()"
   ]
  },
  {
   "cell_type": "code",
   "execution_count": 44,
   "metadata": {},
   "outputs": [
    {
     "data": {
      "text/plain": [
       "Timestamp('2016-07-01 00:00:00')"
      ]
     },
     "execution_count": 44,
     "metadata": {},
     "output_type": "execute_result"
    }
   ],
   "source": [
    "df_July_Aug['date'].min()"
   ]
  },
  {
   "cell_type": "code",
   "execution_count": 45,
   "metadata": {},
   "outputs": [
    {
     "data": {
      "image/png": "[encoded data removed]",
      "text/plain": [
       "<Figure size 576x216 with 1 Axes>"
      ]
     },
     "metadata": {
      "needs_background": "light"
     },
     "output_type": "display_data"
    }
   ],
   "source": [
    "s_July_Aug = df_July_Aug.groupby('date').mean()['price']\n",
    "plt.figure(figsize = (8, 3))\n",
    "#plt.plot(s_July_Aug)\n",
    "s_July_Aug.plot()\n",
    "plt.xlabel('Date')\n",
    "plt.ylabel('Average price')\n",
    "plt.title('Zommed view of Average price variation by day during July and Aug')\n",
    "plt.show()"
   ]
  },
  {
   "cell_type": "code",
   "execution_count": 46,
   "metadata": {},
   "outputs": [
    {
     "data": {
      "image/png": "[encoded data removed]",
      "text/plain": [
       "<Figure size 432x288 with 1 Axes>"
      ]
     },
     "metadata": {
      "needs_background": "light"
     },
     "output_type": "display_data"
    }
   ],
   "source": [
    "s2 = df_July_Aug.groupby('Dayofweek1').mean()['price'].sort_values()\n",
    "plt.plot(s2)\n",
    "plt.title('Price variation by day of the week during July and Aug')\n",
    "plt.ylabel('Average price')\n",
    "plt.show()"
   ]
  },
  {
   "cell_type": "code",
   "execution_count": 47,
   "metadata": {},
   "outputs": [],
   "source": [
    "#So, it can be seen that just like for the complete year's data, in July and Aug also the avg. price is highest on Fridays\n",
    "#and Saturdays"
   ]
  },
  {
   "cell_type": "code",
   "execution_count": null,
   "metadata": {},
   "outputs": [],
   "source": []
  },
  {
   "cell_type": "markdown",
   "metadata": {},
   "source": [
    "##### 2. How have the total number of bookings increased over time?"
   ]
  },
  {
   "cell_type": "markdown",
   "metadata": {},
   "source": [
    "In the absense of bookings information we will use the number of reviews submitted by users as a proxy for number of bookings\n",
    "Hence, we will use the 'reviews' data for this part of the analysis"
   ]
  },
  {
   "cell_type": "code",
   "execution_count": 320,
   "metadata": {},
   "outputs": [
    {
     "data": {
      "text/html": [
       "<div>\n",
       "<style scoped>\n",
       "    .dataframe tbody tr th:only-of-type {\n",
       "        vertical-align: middle;\n",
       "    }\n",
       "\n",
       "    .dataframe tbody tr th {\n",
       "        vertical-align: top;\n",
       "    }\n",
       "\n",
       "    .dataframe thead th {\n",
       "        text-align: right;\n",
       "    }\n",
       "</style>\n",
       "<table border=\"1\" class=\"dataframe\">\n",
       "  <thead>\n",
       "    <tr style=\"text-align: right;\">\n",
       "      <th></th>\n",
       "      <th>listing_id</th>\n",
       "      <th>id</th>\n",
       "      <th>date</th>\n",
       "      <th>reviewer_id</th>\n",
       "      <th>reviewer_name</th>\n",
       "      <th>comments</th>\n",
       "    </tr>\n",
       "  </thead>\n",
       "  <tbody>\n",
       "    <tr>\n",
       "      <th>0</th>\n",
       "      <td>7202016</td>\n",
       "      <td>38917982</td>\n",
       "      <td>2015-07-19</td>\n",
       "      <td>28943674</td>\n",
       "      <td>Bianca</td>\n",
       "      <td>Cute and cozy place. Perfect location to every...</td>\n",
       "    </tr>\n",
       "    <tr>\n",
       "      <th>1</th>\n",
       "      <td>7202016</td>\n",
       "      <td>39087409</td>\n",
       "      <td>2015-07-20</td>\n",
       "      <td>32440555</td>\n",
       "      <td>Frank</td>\n",
       "      <td>Kelly has a great room in a very central locat...</td>\n",
       "    </tr>\n",
       "    <tr>\n",
       "      <th>2</th>\n",
       "      <td>7202016</td>\n",
       "      <td>39820030</td>\n",
       "      <td>2015-07-26</td>\n",
       "      <td>37722850</td>\n",
       "      <td>Ian</td>\n",
       "      <td>Very spacious apartment, and in a great neighb...</td>\n",
       "    </tr>\n",
       "  </tbody>\n",
       "</table>\n",
       "</div>"
      ],
      "text/plain": [
       "   listing_id        id        date  reviewer_id reviewer_name  \\\n",
       "0     7202016  38917982  2015-07-19     28943674        Bianca   \n",
       "1     7202016  39087409  2015-07-20     32440555         Frank   \n",
       "2     7202016  39820030  2015-07-26     37722850           Ian   \n",
       "\n",
       "                                            comments  \n",
       "0  Cute and cozy place. Perfect location to every...  \n",
       "1  Kelly has a great room in a very central locat...  \n",
       "2  Very spacious apartment, and in a great neighb...  "
      ]
     },
     "execution_count": 320,
     "metadata": {},
     "output_type": "execute_result"
    }
   ],
   "source": [
    "reviews.head(3)"
   ]
  },
  {
   "cell_type": "code",
   "execution_count": 49,
   "metadata": {},
   "outputs": [
    {
     "data": {
      "text/plain": [
       "(84849, 6)"
      ]
     },
     "execution_count": 49,
     "metadata": {},
     "output_type": "execute_result"
    }
   ],
   "source": [
    "reviews.shape"
   ]
  },
  {
   "cell_type": "code",
   "execution_count": 50,
   "metadata": {},
   "outputs": [
    {
     "name": "stdout",
     "output_type": "stream",
     "text": [
      "# distinct values in listing_id is: 3191\n",
      "# distinct values in id is: 84849\n",
      "# distinct values in date is: 1930\n",
      "# distinct values in reviewer_id is: 75730\n",
      "# distinct values in reviewer_name is: 14380\n",
      "# distinct values in comments is: 84136\n"
     ]
    }
   ],
   "source": [
    "for i in reviews.columns:\n",
    "    print(\"# distinct values in\", i,\"is:\", reviews[i].nunique())"
   ]
  },
  {
   "cell_type": "code",
   "execution_count": 53,
   "metadata": {},
   "outputs": [],
   "source": [
    "a = reviews.groupby('date').count()['id']"
   ]
  },
  {
   "cell_type": "code",
   "execution_count": 54,
   "metadata": {},
   "outputs": [
    {
     "data": {
      "text/plain": [
       "pandas.core.series.Series"
      ]
     },
     "execution_count": 54,
     "metadata": {},
     "output_type": "execute_result"
    }
   ],
   "source": [
    "type(a)"
   ]
  },
  {
   "cell_type": "code",
   "execution_count": 58,
   "metadata": {},
   "outputs": [
    {
     "data": {
      "image/png": "[encoded data removed]",
      "text/plain": [
       "<Figure size 1152x432 with 1 Axes>"
      ]
     },
     "metadata": {
      "needs_background": "light"
     },
     "output_type": "display_data"
    }
   ],
   "source": [
    "plt.figure(figsize = (16, 6))\n",
    "a.plot()\n",
    "plt.xlabel('Date')\n",
    "plt.ylabel('Number of reviews each day')\n",
    "plt.title('Day-on-day number of reviews')\n",
    "plt.show()"
   ]
  },
  {
   "cell_type": "code",
   "execution_count": 323,
   "metadata": {},
   "outputs": [],
   "source": [
    "#Hence, the number of reviews have increased substantially since 2009 to 2015. Since, the entire data is from a \n",
    "#long time back (2009), let's take a closer look at more recent data (from 2015 onwards) "
   ]
  },
  {
   "cell_type": "code",
   "execution_count": 65,
   "metadata": {},
   "outputs": [],
   "source": [
    "reviews_after2015 = reviews[reviews['date'] >= '2015-01-01']"
   ]
  },
  {
   "cell_type": "code",
   "execution_count": 66,
   "metadata": {},
   "outputs": [
    {
     "data": {
      "text/plain": [
       "(52716, 6)"
      ]
     },
     "execution_count": 66,
     "metadata": {},
     "output_type": "execute_result"
    }
   ],
   "source": [
    "reviews_after2015.shape"
   ]
  },
  {
   "cell_type": "code",
   "execution_count": 324,
   "metadata": {},
   "outputs": [
    {
     "data": {
      "image/png": "[encoded data removed]",
      "text/plain": [
       "<Figure size 1152x432 with 1 Axes>"
      ]
     },
     "metadata": {
      "needs_background": "light"
     },
     "output_type": "display_data"
    }
   ],
   "source": [
    "b = reviews_after2015.groupby('date').count()['id']\n",
    "plt.figure(figsize = (16, 6))\n",
    "b.plot()\n",
    "plt.xlabel('Date')\n",
    "plt.ylabel('Number of reviews each day')\n",
    "plt.title('Day-on-day number of reviews: zoomed-in view for just 2015')\n",
    "plt.show()"
   ]
  },
  {
   "cell_type": "code",
   "execution_count": 325,
   "metadata": {},
   "outputs": [],
   "source": [
    "#From the above plot, it is clear that number of reviews (and probably bookings) are higher in the months of July and Aug"
   ]
  },
  {
   "cell_type": "code",
   "execution_count": null,
   "metadata": {},
   "outputs": [],
   "source": []
  },
  {
   "cell_type": "markdown",
   "metadata": {},
   "source": [
    "##### 3. What factors have the highest correlation with price of Airbnb Seattle hotels?"
   ]
  },
  {
   "cell_type": "markdown",
   "metadata": {},
   "source": [
    "For this part of the analysis, we will use the listings data"
   ]
  },
  {
   "cell_type": "code",
   "execution_count": 70,
   "metadata": {},
   "outputs": [
    {
     "data": {
      "text/html": [
       "<div>\n",
       "<style scoped>\n",
       "    .dataframe tbody tr th:only-of-type {\n",
       "        vertical-align: middle;\n",
       "    }\n",
       "\n",
       "    .dataframe tbody tr th {\n",
       "        vertical-align: top;\n",
       "    }\n",
       "\n",
       "    .dataframe thead th {\n",
       "        text-align: right;\n",
       "    }\n",
       "</style>\n",
       "<table border=\"1\" class=\"dataframe\">\n",
       "  <thead>\n",
       "    <tr style=\"text-align: right;\">\n",
       "      <th></th>\n",
       "      <th>id</th>\n",
       "      <th>listing_url</th>\n",
       "      <th>scrape_id</th>\n",
       "      <th>last_scraped</th>\n",
       "      <th>name</th>\n",
       "      <th>summary</th>\n",
       "      <th>space</th>\n",
       "      <th>description</th>\n",
       "      <th>experiences_offered</th>\n",
       "      <th>neighborhood_overview</th>\n",
       "      <th>...</th>\n",
       "      <th>review_scores_value</th>\n",
       "      <th>requires_license</th>\n",
       "      <th>license</th>\n",
       "      <th>jurisdiction_names</th>\n",
       "      <th>instant_bookable</th>\n",
       "      <th>cancellation_policy</th>\n",
       "      <th>require_guest_profile_picture</th>\n",
       "      <th>require_guest_phone_verification</th>\n",
       "      <th>calculated_host_listings_count</th>\n",
       "      <th>reviews_per_month</th>\n",
       "    </tr>\n",
       "  </thead>\n",
       "  <tbody>\n",
       "    <tr>\n",
       "      <th>0</th>\n",
       "      <td>241032</td>\n",
       "      <td>https://www.airbnb.com/rooms/241032</td>\n",
       "      <td>20160104002432</td>\n",
       "      <td>2016-01-04</td>\n",
       "      <td>Stylish Queen Anne Apartment</td>\n",
       "      <td>NaN</td>\n",
       "      <td>Make your self at home in this charming one-be...</td>\n",
       "      <td>Make your self at home in this charming one-be...</td>\n",
       "      <td>none</td>\n",
       "      <td>NaN</td>\n",
       "      <td>...</td>\n",
       "      <td>10.0</td>\n",
       "      <td>f</td>\n",
       "      <td>NaN</td>\n",
       "      <td>WASHINGTON</td>\n",
       "      <td>f</td>\n",
       "      <td>moderate</td>\n",
       "      <td>f</td>\n",
       "      <td>f</td>\n",
       "      <td>2</td>\n",
       "      <td>4.07</td>\n",
       "    </tr>\n",
       "  </tbody>\n",
       "</table>\n",
       "<p>1 rows × 92 columns</p>\n",
       "</div>"
      ],
      "text/plain": [
       "       id                          listing_url       scrape_id last_scraped  \\\n",
       "0  241032  https://www.airbnb.com/rooms/241032  20160104002432   2016-01-04   \n",
       "\n",
       "                           name summary  \\\n",
       "0  Stylish Queen Anne Apartment     NaN   \n",
       "\n",
       "                                               space  \\\n",
       "0  Make your self at home in this charming one-be...   \n",
       "\n",
       "                                         description experiences_offered  \\\n",
       "0  Make your self at home in this charming one-be...                none   \n",
       "\n",
       "  neighborhood_overview  ... review_scores_value requires_license license  \\\n",
       "0                   NaN  ...                10.0                f     NaN   \n",
       "\n",
       "  jurisdiction_names instant_bookable cancellation_policy  \\\n",
       "0         WASHINGTON                f            moderate   \n",
       "\n",
       "   require_guest_profile_picture require_guest_phone_verification  \\\n",
       "0                              f                                f   \n",
       "\n",
       "  calculated_host_listings_count reviews_per_month  \n",
       "0                              2              4.07  \n",
       "\n",
       "[1 rows x 92 columns]"
      ]
     },
     "execution_count": 70,
     "metadata": {},
     "output_type": "execute_result"
    }
   ],
   "source": [
    "listings.head(1)"
   ]
  },
  {
   "cell_type": "code",
   "execution_count": 71,
   "metadata": {},
   "outputs": [
    {
     "data": {
      "text/plain": [
       "(3818, 92)"
      ]
     },
     "execution_count": 71,
     "metadata": {},
     "output_type": "execute_result"
    }
   ],
   "source": [
    "listings.shape"
   ]
  },
  {
   "cell_type": "code",
   "execution_count": 72,
   "metadata": {},
   "outputs": [
    {
     "data": {
      "text/plain": [
       "id                                    int64\n",
       "listing_url                          object\n",
       "scrape_id                             int64\n",
       "last_scraped                         object\n",
       "name                                 object\n",
       "                                     ...   \n",
       "cancellation_policy                  object\n",
       "require_guest_profile_picture        object\n",
       "require_guest_phone_verification     object\n",
       "calculated_host_listings_count        int64\n",
       "reviews_per_month                   float64\n",
       "Length: 92, dtype: object"
      ]
     },
     "execution_count": 72,
     "metadata": {},
     "output_type": "execute_result"
    }
   ],
   "source": [
    "listings.dtypes"
   ]
  },
  {
   "cell_type": "code",
   "execution_count": 73,
   "metadata": {},
   "outputs": [
    {
     "data": {
      "text/plain": [
       "dtype('O')"
      ]
     },
     "execution_count": 73,
     "metadata": {},
     "output_type": "execute_result"
    }
   ],
   "source": [
    "listings['price'].dtypes"
   ]
  },
  {
   "cell_type": "code",
   "execution_count": 74,
   "metadata": {},
   "outputs": [],
   "source": [
    "#It looks like all the amount variables are of object type. So, to do further analysis, we will convert them \n",
    "#into numeric fields"
   ]
  },
  {
   "cell_type": "code",
   "execution_count": 79,
   "metadata": {},
   "outputs": [
    {
     "data": {
      "text/html": [
       "<div>\n",
       "<style scoped>\n",
       "    .dataframe tbody tr th:only-of-type {\n",
       "        vertical-align: middle;\n",
       "    }\n",
       "\n",
       "    .dataframe tbody tr th {\n",
       "        vertical-align: top;\n",
       "    }\n",
       "\n",
       "    .dataframe thead th {\n",
       "        text-align: right;\n",
       "    }\n",
       "</style>\n",
       "<table border=\"1\" class=\"dataframe\">\n",
       "  <thead>\n",
       "    <tr style=\"text-align: right;\">\n",
       "      <th></th>\n",
       "      <th>id</th>\n",
       "      <th>listing_url</th>\n",
       "    </tr>\n",
       "  </thead>\n",
       "  <tbody>\n",
       "    <tr>\n",
       "      <th>0</th>\n",
       "      <td>241032</td>\n",
       "      <td>https://www.airbnb.com/rooms/241032</td>\n",
       "    </tr>\n",
       "    <tr>\n",
       "      <th>1</th>\n",
       "      <td>953595</td>\n",
       "      <td>https://www.airbnb.com/rooms/953595</td>\n",
       "    </tr>\n",
       "  </tbody>\n",
       "</table>\n",
       "</div>"
      ],
      "text/plain": [
       "       id                          listing_url\n",
       "0  241032  https://www.airbnb.com/rooms/241032\n",
       "1  953595  https://www.airbnb.com/rooms/953595"
      ]
     },
     "execution_count": 79,
     "metadata": {},
     "output_type": "execute_result"
    }
   ],
   "source": [
    "listings[['id', 'listing_url']].head(2)"
   ]
  },
  {
   "cell_type": "code",
   "execution_count": 88,
   "metadata": {},
   "outputs": [
    {
     "name": "stdout",
     "output_type": "stream",
     "text": [
      "       id      id\n",
      "0  241032  241032\n",
      "1  953595  953595 \n",
      "\n",
      "       id                          listing_url\n",
      "0  241032  https://www.airbnb.com/rooms/241032\n",
      "1  953595  https://www.airbnb.com/rooms/953595 \n",
      "\n",
      "       id       scrape_id\n",
      "0  241032  20160104002432\n",
      "1  953595  20160104002432 \n",
      "\n",
      "       id last_scraped\n",
      "0  241032   2016-01-04\n",
      "1  953595   2016-01-04 \n",
      "\n",
      "       id                                name\n",
      "0  241032        Stylish Queen Anne Apartment\n",
      "1  953595  Bright & Airy Queen Anne Apartment \n",
      "\n",
      "       id                                            summary\n",
      "0  241032                                                NaN\n",
      "1  953595  Chemically sensitive? We've removed the irrita... \n",
      "\n",
      "       id                                              space\n",
      "0  241032  Make your self at home in this charming one-be...\n",
      "1  953595  Beautiful, hypoallergenic apartment in an extr... \n",
      "\n",
      "       id                                        description\n",
      "0  241032  Make your self at home in this charming one-be...\n",
      "1  953595  Chemically sensitive? We've removed the irrita... \n",
      "\n",
      "       id experiences_offered\n",
      "0  241032                none\n",
      "1  953595                none \n",
      "\n",
      "       id                              neighborhood_overview\n",
      "0  241032                                                NaN\n",
      "1  953595  Queen Anne is a wonderful, truly functional vi... \n",
      "\n",
      "       id                                              notes\n",
      "0  241032                                                NaN\n",
      "1  953595  What's up with the free pillows?  Our home was... \n",
      "\n",
      "       id                                            transit\n",
      "0  241032                                                NaN\n",
      "1  953595  Convenient bus stops are just down the block, ... \n",
      "\n",
      "       id                                      thumbnail_url\n",
      "0  241032                                                NaN\n",
      "1  953595  https://a0.muscache.com/ac/pictures/14409893/f... \n",
      "\n",
      "       id                                         medium_url\n",
      "0  241032                                                NaN\n",
      "1  953595  https://a0.muscache.com/im/pictures/14409893/f... \n",
      "\n",
      "       id                                        picture_url\n",
      "0  241032  https://a1.muscache.com/ac/pictures/67560560/c...\n",
      "1  953595  https://a0.muscache.com/ac/pictures/14409893/f... \n",
      "\n",
      "       id                                     xl_picture_url\n",
      "0  241032                                                NaN\n",
      "1  953595  https://a0.muscache.com/ac/pictures/14409893/f... \n",
      "\n",
      "       id  host_id\n",
      "0  241032   956883\n",
      "1  953595  5177328 \n",
      "\n",
      "       id                                   host_url\n",
      "0  241032   https://www.airbnb.com/users/show/956883\n",
      "1  953595  https://www.airbnb.com/users/show/5177328 \n",
      "\n",
      "       id host_name\n",
      "0  241032     Maija\n",
      "1  953595    Andrea \n",
      "\n",
      "       id  host_since\n",
      "0  241032  2011-08-11\n",
      "1  953595  2013-02-21 \n",
      "\n",
      "       id                       host_location\n",
      "0  241032  Seattle, Washington, United States\n",
      "1  953595  Seattle, Washington, United States \n",
      "\n",
      "       id                                         host_about\n",
      "0  241032  I am an artist, interior designer, and run a s...\n",
      "1  953595  Living east coast/left coast/overseas.  Time i... \n",
      "\n",
      "       id  host_response_time\n",
      "0  241032  within a few hours\n",
      "1  953595      within an hour \n",
      "\n",
      "       id host_response_rate\n",
      "0  241032                96%\n",
      "1  953595                98% \n",
      "\n",
      "       id host_acceptance_rate\n",
      "0  241032                 100%\n",
      "1  953595                 100% \n",
      "\n",
      "       id host_is_superhost\n",
      "0  241032                 f\n",
      "1  953595                 t \n",
      "\n",
      "       id                                 host_thumbnail_url\n",
      "0  241032  https://a0.muscache.com/ac/users/956883/profil...\n",
      "1  953595  https://a0.muscache.com/ac/users/5177328/profi... \n",
      "\n",
      "       id                                   host_picture_url\n",
      "0  241032  https://a0.muscache.com/ac/users/956883/profil...\n",
      "1  953595  https://a0.muscache.com/ac/users/5177328/profi... \n",
      "\n",
      "       id host_neighbourhood\n",
      "0  241032         Queen Anne\n",
      "1  953595         Queen Anne \n",
      "\n",
      "       id  host_listings_count\n",
      "0  241032                  3.0\n",
      "1  953595                  6.0 \n",
      "\n",
      "       id  host_total_listings_count\n",
      "0  241032                        3.0\n",
      "1  953595                        6.0 \n",
      "\n",
      "       id                                 host_verifications\n",
      "0  241032               ['email', 'phone', 'reviews', 'kba']\n",
      "1  953595  ['email', 'phone', 'facebook', 'linkedin', 're... \n",
      "\n",
      "       id host_has_profile_pic\n",
      "0  241032                    t\n",
      "1  953595                    t \n",
      "\n",
      "       id host_identity_verified\n",
      "0  241032                      t\n",
      "1  953595                      t \n",
      "\n",
      "       id                                             street\n",
      "0  241032      Gilman Dr W, Seattle, WA 98119, United States\n",
      "1  953595  7th Avenue West, Seattle, WA 98119, United States \n",
      "\n",
      "       id neighbourhood\n",
      "0  241032    Queen Anne\n",
      "1  953595    Queen Anne \n",
      "\n",
      "       id neighbourhood_cleansed\n",
      "0  241032        West Queen Anne\n",
      "1  953595        West Queen Anne \n",
      "\n",
      "       id neighbourhood_group_cleansed\n",
      "0  241032                   Queen Anne\n",
      "1  953595                   Queen Anne \n",
      "\n",
      "       id     city\n",
      "0  241032  Seattle\n",
      "1  953595  Seattle \n",
      "\n",
      "       id state\n",
      "0  241032    WA\n",
      "1  953595    WA \n",
      "\n",
      "       id zipcode\n",
      "0  241032   98119\n",
      "1  953595   98119 \n",
      "\n",
      "       id   market\n",
      "0  241032  Seattle\n",
      "1  953595  Seattle \n",
      "\n",
      "       id smart_location\n",
      "0  241032    Seattle, WA\n",
      "1  953595    Seattle, WA \n",
      "\n",
      "       id country_code\n",
      "0  241032           US\n",
      "1  953595           US \n",
      "\n",
      "       id        country\n",
      "0  241032  United States\n",
      "1  953595  United States \n",
      "\n",
      "       id   latitude\n",
      "0  241032  47.636289\n",
      "1  953595  47.639123 \n",
      "\n",
      "       id   longitude\n",
      "0  241032 -122.371025\n",
      "1  953595 -122.365666 \n",
      "\n",
      "       id is_location_exact\n",
      "0  241032                 t\n",
      "1  953595                 t \n",
      "\n",
      "       id property_type\n",
      "0  241032     Apartment\n",
      "1  953595     Apartment \n",
      "\n",
      "       id        room_type\n",
      "0  241032  Entire home/apt\n",
      "1  953595  Entire home/apt \n",
      "\n",
      "       id  accommodates\n",
      "0  241032             4\n",
      "1  953595             4 \n",
      "\n",
      "       id  bathrooms\n",
      "0  241032        1.0\n",
      "1  953595        1.0 \n",
      "\n",
      "       id  bedrooms\n",
      "0  241032       1.0\n",
      "1  953595       1.0 \n",
      "\n",
      "       id  beds\n",
      "0  241032   1.0\n",
      "1  953595   1.0 \n",
      "\n",
      "       id  bed_type\n",
      "0  241032  Real Bed\n",
      "1  953595  Real Bed \n",
      "\n",
      "       id                                          amenities\n",
      "0  241032  {TV,\"Cable TV\",Internet,\"Wireless Internet\",\"A...\n",
      "1  953595  {TV,Internet,\"Wireless Internet\",Kitchen,\"Free... \n",
      "\n",
      "       id  square_feet\n",
      "0  241032          NaN\n",
      "1  953595          NaN \n",
      "\n",
      "       id    price\n",
      "0  241032   $85.00\n",
      "1  953595  $150.00 \n",
      "\n",
      "       id weekly_price\n",
      "0  241032          NaN\n",
      "1  953595    $1,000.00 \n",
      "\n",
      "       id monthly_price\n",
      "0  241032           NaN\n",
      "1  953595     $3,000.00 \n",
      "\n",
      "       id security_deposit\n",
      "0  241032              NaN\n",
      "1  953595          $100.00 \n",
      "\n",
      "       id cleaning_fee\n",
      "0  241032          NaN\n",
      "1  953595       $40.00 \n",
      "\n",
      "       id  guests_included\n",
      "0  241032                2\n",
      "1  953595                1 \n",
      "\n",
      "       id extra_people\n",
      "0  241032        $5.00\n",
      "1  953595        $0.00 \n",
      "\n",
      "       id  minimum_nights\n",
      "0  241032               1\n",
      "1  953595               2 \n",
      "\n",
      "       id  maximum_nights\n",
      "0  241032             365\n",
      "1  953595              90 \n",
      "\n",
      "       id calendar_updated\n",
      "0  241032      4 weeks ago\n",
      "1  953595            today \n",
      "\n",
      "       id has_availability\n",
      "0  241032                t\n",
      "1  953595                t \n",
      "\n",
      "       id  availability_30\n",
      "0  241032               14\n",
      "1  953595               13 \n",
      "\n",
      "       id  availability_60\n",
      "0  241032               41\n",
      "1  953595               13 \n",
      "\n",
      "       id  availability_90\n",
      "0  241032               71\n",
      "1  953595               16 \n",
      "\n",
      "       id  availability_365\n",
      "0  241032               346\n",
      "1  953595               291 \n",
      "\n",
      "       id calendar_last_scraped\n",
      "0  241032            2016-01-04\n",
      "1  953595            2016-01-04 \n",
      "\n",
      "       id  number_of_reviews\n",
      "0  241032                207\n",
      "1  953595                 43 \n",
      "\n",
      "       id first_review\n",
      "0  241032   2011-11-01\n",
      "1  953595   2013-08-19 \n",
      "\n",
      "       id last_review\n",
      "0  241032  2016-01-02\n",
      "1  953595  2015-12-29 \n",
      "\n",
      "       id  review_scores_rating\n",
      "0  241032                  95.0\n",
      "1  953595                  96.0 \n",
      "\n",
      "       id  review_scores_accuracy\n",
      "0  241032                    10.0\n",
      "1  953595                    10.0 \n",
      "\n",
      "       id  review_scores_cleanliness\n",
      "0  241032                       10.0\n",
      "1  953595                       10.0 \n",
      "\n",
      "       id  review_scores_checkin\n",
      "0  241032                   10.0\n",
      "1  953595                   10.0 \n",
      "\n",
      "       id  review_scores_communication\n",
      "0  241032                         10.0\n",
      "1  953595                         10.0 \n",
      "\n",
      "       id  review_scores_location\n",
      "0  241032                     9.0\n",
      "1  953595                    10.0 \n",
      "\n",
      "       id  review_scores_value\n",
      "0  241032                 10.0\n",
      "1  953595                 10.0 \n",
      "\n",
      "       id requires_license\n",
      "0  241032                f\n",
      "1  953595                f \n",
      "\n",
      "       id  license\n",
      "0  241032      NaN\n",
      "1  953595      NaN \n",
      "\n",
      "       id jurisdiction_names\n",
      "0  241032         WASHINGTON\n",
      "1  953595         WASHINGTON \n",
      "\n",
      "       id instant_bookable\n",
      "0  241032                f\n",
      "1  953595                f \n",
      "\n",
      "       id cancellation_policy\n",
      "0  241032            moderate\n",
      "1  953595              strict \n",
      "\n",
      "       id require_guest_profile_picture\n",
      "0  241032                             f\n",
      "1  953595                             t \n",
      "\n",
      "       id require_guest_phone_verification\n",
      "0  241032                                f\n",
      "1  953595                                t \n",
      "\n",
      "       id  calculated_host_listings_count\n",
      "0  241032                               2\n",
      "1  953595                               6 \n",
      "\n",
      "       id  reviews_per_month\n",
      "0  241032               4.07\n",
      "1  953595               1.48 \n",
      "\n"
     ]
    }
   ],
   "source": [
    "#As by looking at the top two rows of listings data, we are not able to see all the columns together, we will look at them\n",
    "#separately to find out which ones have '$' in them\n",
    "for i in listings.columns:\n",
    "    print(listings[['id', i]].head(2),\"\\n\")"
   ]
  },
  {
   "cell_type": "code",
   "execution_count": 89,
   "metadata": {},
   "outputs": [],
   "source": [
    "#These are the fields which have $ in them:\n",
    "#price, weekly_price, monthly_price, security_deposit, cleaning_fee, extra_people"
   ]
  },
  {
   "cell_type": "code",
   "execution_count": 90,
   "metadata": {},
   "outputs": [],
   "source": [
    "list1 = ['price', 'weekly_price', 'monthly_price', 'security_deposit', 'cleaning_fee', 'extra_people']"
   ]
  },
  {
   "cell_type": "code",
   "execution_count": 92,
   "metadata": {},
   "outputs": [],
   "source": [
    "for i in list1:\n",
    "    listings[i] = listings[i].str.replace('$', '')\n",
    "    listings[i] = listings[i].str.replace(',', '')"
   ]
  },
  {
   "cell_type": "code",
   "execution_count": 95,
   "metadata": {},
   "outputs": [],
   "source": [
    "for i in list1:\n",
    "    listings[i] = pd.to_numeric(listings[i], downcast = 'float')"
   ]
  },
  {
   "cell_type": "code",
   "execution_count": 103,
   "metadata": {},
   "outputs": [
    {
     "name": "stdout",
     "output_type": "stream",
     "text": [
      "id :  int64\n",
      "listing_url :  object\n",
      "scrape_id :  int64\n",
      "last_scraped :  object\n",
      "name :  object\n",
      "summary :  object\n",
      "space :  object\n",
      "description :  object\n",
      "experiences_offered :  object\n",
      "neighborhood_overview :  object\n",
      "notes :  object\n",
      "transit :  object\n",
      "thumbnail_url :  object\n",
      "medium_url :  object\n",
      "picture_url :  object\n",
      "xl_picture_url :  object\n",
      "host_id :  int64\n",
      "host_url :  object\n",
      "host_name :  object\n",
      "host_since :  object\n",
      "host_location :  object\n",
      "host_about :  object\n",
      "host_response_time :  object\n",
      "host_response_rate :  object\n",
      "host_acceptance_rate :  object\n",
      "host_is_superhost :  object\n",
      "host_thumbnail_url :  object\n",
      "host_picture_url :  object\n",
      "host_neighbourhood :  object\n",
      "host_listings_count :  float64\n",
      "host_total_listings_count :  float64\n",
      "host_verifications :  object\n",
      "host_has_profile_pic :  object\n",
      "host_identity_verified :  object\n",
      "street :  object\n",
      "neighbourhood :  object\n",
      "neighbourhood_cleansed :  object\n",
      "neighbourhood_group_cleansed :  object\n",
      "city :  object\n",
      "state :  object\n",
      "zipcode :  object\n",
      "market :  object\n",
      "smart_location :  object\n",
      "country_code :  object\n",
      "country :  object\n",
      "latitude :  float64\n",
      "longitude :  float64\n",
      "is_location_exact :  object\n",
      "property_type :  object\n",
      "room_type :  object\n",
      "accommodates :  int64\n",
      "bathrooms :  float64\n",
      "bedrooms :  float64\n",
      "beds :  float64\n",
      "bed_type :  object\n",
      "amenities :  object\n",
      "square_feet :  float64\n",
      "price :  float32\n",
      "weekly_price :  float32\n",
      "monthly_price :  float32\n",
      "security_deposit :  float32\n",
      "cleaning_fee :  float32\n",
      "guests_included :  int64\n",
      "extra_people :  float32\n",
      "minimum_nights :  int64\n",
      "maximum_nights :  int64\n",
      "calendar_updated :  object\n",
      "has_availability :  object\n",
      "availability_30 :  int64\n",
      "availability_60 :  int64\n",
      "availability_90 :  int64\n",
      "availability_365 :  int64\n",
      "calendar_last_scraped :  object\n",
      "number_of_reviews :  int64\n",
      "first_review :  object\n",
      "last_review :  object\n",
      "review_scores_rating :  float64\n",
      "review_scores_accuracy :  float64\n",
      "review_scores_cleanliness :  float64\n",
      "review_scores_checkin :  float64\n",
      "review_scores_communication :  float64\n",
      "review_scores_location :  float64\n",
      "review_scores_value :  float64\n",
      "requires_license :  object\n",
      "license :  float64\n",
      "jurisdiction_names :  object\n",
      "instant_bookable :  object\n",
      "cancellation_policy :  object\n",
      "require_guest_profile_picture :  object\n",
      "require_guest_phone_verification :  object\n",
      "calculated_host_listings_count :  int64\n",
      "reviews_per_month :  float64\n"
     ]
    }
   ],
   "source": [
    "for i in listings.columns:\n",
    "    print(i, \": \", listings[i].dtypes)"
   ]
  },
  {
   "cell_type": "code",
   "execution_count": null,
   "metadata": {},
   "outputs": [],
   "source": []
  },
  {
   "cell_type": "markdown",
   "metadata": {},
   "source": [
    "Checking correlation of each variable against price"
   ]
  },
  {
   "cell_type": "code",
   "execution_count": 119,
   "metadata": {},
   "outputs": [
    {
     "data": {
      "text/plain": [
       "price                             1.000000\n",
       "weekly_price                      0.937861\n",
       "monthly_price                     0.873450\n",
       "cleaning_fee                      0.656938\n",
       "accommodates                      0.652218\n",
       "bedrooms                          0.627720\n",
       "beds                              0.589525\n",
       "square_feet                       0.531752\n",
       "bathrooms                         0.516424\n",
       "guests_included                   0.392875\n",
       "security_deposit                  0.373195\n",
       "extra_people                      0.127961\n",
       "host_total_listings_count         0.093962\n",
       "host_listings_count               0.093962\n",
       "review_scores_location            0.075069\n",
       "review_scores_rating              0.055551\n",
       "review_scores_cleanliness         0.054357\n",
       "review_scores_accuracy            0.019026\n",
       "minimum_nights                    0.017297\n",
       "review_scores_communication       0.012990\n",
       "review_scores_checkin             0.007877\n",
       "maximum_nights                   -0.003336\n",
       "latitude                         -0.008904\n",
       "availability_365                 -0.015550\n",
       "availability_30                  -0.037653\n",
       "review_scores_value              -0.041776\n",
       "id                               -0.046289\n",
       "availability_60                  -0.049336\n",
       "host_id                          -0.051332\n",
       "calculated_host_listings_count   -0.054092\n",
       "availability_90                  -0.058810\n",
       "longitude                        -0.102420\n",
       "number_of_reviews                -0.124695\n",
       "reviews_per_month                -0.218588\n",
       "scrape_id                              NaN\n",
       "license                                NaN\n",
       "dtype: float64"
      ]
     },
     "execution_count": 119,
     "metadata": {},
     "output_type": "execute_result"
    }
   ],
   "source": [
    "a = listings.corrwith(listings['price']).sort_values(ascending = False)\n",
    "a"
   ]
  },
  {
   "cell_type": "code",
   "execution_count": null,
   "metadata": {},
   "outputs": [],
   "source": [
    "#Hence the variables with the highest positive correlation with price are:\n",
    "#weekly_price                      0.937861\n",
    "#monthly_price                     0.873450\n",
    "#cleaning_fee                      0.656938\n",
    "#accommodates                      0.652218\n",
    "#bedrooms                          0.627720\n",
    "#beds                              0.589525\n",
    "#square_feet                       0.531752\n",
    "#bathrooms                         0.516424\n",
    "#guests_included                   0.392875\n",
    "#security_deposit                  0.373195\n",
    "\n",
    "#Further, these two variables have a strong negative correlation with price:\n",
    "#number_of_reviews                -0.124695\n",
    "#reviews_per_month                -0.218588"
   ]
  },
  {
   "cell_type": "code",
   "execution_count": null,
   "metadata": {},
   "outputs": [],
   "source": []
  },
  {
   "cell_type": "markdown",
   "metadata": {},
   "source": [
    "Let's check the correlation of each variable with the 'review_scores_rating' variable also in a similar manner"
   ]
  },
  {
   "cell_type": "code",
   "execution_count": 108,
   "metadata": {},
   "outputs": [
    {
     "data": {
      "text/plain": [
       "review_scores_rating              1.000000\n",
       "review_scores_value               0.696534\n",
       "review_scores_cleanliness         0.642882\n",
       "review_scores_accuracy            0.621257\n",
       "review_scores_communication       0.540620\n",
       "review_scores_checkin             0.521813\n",
       "review_scores_location            0.368423\n",
       "square_feet                       0.143793\n",
       "reviews_per_month                 0.087313\n",
       "price                             0.055551\n",
       "monthly_price                     0.048595\n",
       "weekly_price                      0.045262\n",
       "bathrooms                         0.045101\n",
       "security_deposit                  0.044818\n",
       "id                                0.039246\n",
       "number_of_reviews                 0.036242\n",
       "host_id                           0.027348\n",
       "bedrooms                          0.023257\n",
       "minimum_nights                    0.001392\n",
       "beds                             -0.000720\n",
       "guests_included                  -0.001430\n",
       "cleaning_fee                     -0.004991\n",
       "accommodates                     -0.013101\n",
       "maximum_nights                   -0.031313\n",
       "extra_people                     -0.035063\n",
       "availability_90                  -0.038022\n",
       "latitude                         -0.038086\n",
       "availability_365                 -0.038600\n",
       "longitude                        -0.047121\n",
       "availability_60                  -0.048460\n",
       "availability_30                  -0.051439\n",
       "host_total_listings_count        -0.109357\n",
       "host_listings_count              -0.109357\n",
       "calculated_host_listings_count   -0.219280\n",
       "scrape_id                              NaN\n",
       "license                                NaN\n",
       "dtype: float64"
      ]
     },
     "execution_count": 108,
     "metadata": {},
     "output_type": "execute_result"
    }
   ],
   "source": [
    "#Correlation of 'review_scores_rating' with other variables\n",
    "listings.corrwith(listings['review_scores_rating']).sort_values(ascending = False)"
   ]
  },
  {
   "cell_type": "code",
   "execution_count": null,
   "metadata": {},
   "outputs": [],
   "source": [
    "#Hence the variables with the highest positive correlation with price are:\n",
    "#review_scores_value               0.696534\n",
    "#review_scores_cleanliness         0.642882\n",
    "#review_scores_accuracy            0.621257\n",
    "#review_scores_communication       0.540620\n",
    "#review_scores_checkin             0.521813\n",
    "#review_scores_location            0.368423\n",
    "\n",
    "#Further, these two variables have a strong negative correlation with price:\n",
    "#host_total_listings_count        -0.109357\n",
    "#host_listings_count              -0.109357\n",
    "#calculated_host_listings_count   -0.219280"
   ]
  },
  {
   "cell_type": "code",
   "execution_count": null,
   "metadata": {},
   "outputs": [],
   "source": []
  },
  {
   "cell_type": "markdown",
   "metadata": {},
   "source": [
    "Let's try to built a preditive model using all the variables to predict price of a listing"
   ]
  },
  {
   "cell_type": "code",
   "execution_count": 127,
   "metadata": {},
   "outputs": [
    {
     "name": "stdout",
     "output_type": "stream",
     "text": [
      "id : int64\n",
      "listing_url : object\n",
      "scrape_id : int64\n",
      "last_scraped : object\n",
      "name : object\n",
      "summary : object\n",
      "space : object\n",
      "description : object\n",
      "experiences_offered : object\n",
      "neighborhood_overview : object\n",
      "notes : object\n",
      "transit : object\n",
      "thumbnail_url : object\n",
      "medium_url : object\n",
      "picture_url : object\n",
      "xl_picture_url : object\n",
      "host_id : int64\n",
      "host_url : object\n",
      "host_name : object\n",
      "host_since : object\n",
      "host_location : object\n",
      "host_about : object\n",
      "host_response_time : object\n",
      "host_response_rate : object\n",
      "host_acceptance_rate : object\n",
      "host_is_superhost : object\n",
      "host_thumbnail_url : object\n",
      "host_picture_url : object\n",
      "host_neighbourhood : object\n",
      "host_listings_count : float64\n",
      "host_total_listings_count : float64\n",
      "host_verifications : object\n",
      "host_has_profile_pic : object\n",
      "host_identity_verified : object\n",
      "street : object\n",
      "neighbourhood : object\n",
      "neighbourhood_cleansed : object\n",
      "neighbourhood_group_cleansed : object\n",
      "city : object\n",
      "state : object\n",
      "zipcode : object\n",
      "market : object\n",
      "smart_location : object\n",
      "country_code : object\n",
      "country : object\n",
      "latitude : float64\n",
      "longitude : float64\n",
      "is_location_exact : object\n",
      "property_type : object\n",
      "room_type : object\n",
      "accommodates : int64\n",
      "bathrooms : float64\n",
      "bedrooms : float64\n",
      "beds : float64\n",
      "bed_type : object\n",
      "amenities : object\n",
      "square_feet : float64\n",
      "price : float32\n",
      "weekly_price : float32\n",
      "monthly_price : float32\n",
      "security_deposit : float32\n",
      "cleaning_fee : float32\n",
      "guests_included : int64\n",
      "extra_people : float32\n",
      "minimum_nights : int64\n",
      "maximum_nights : int64\n",
      "calendar_updated : object\n",
      "has_availability : object\n",
      "availability_30 : int64\n",
      "availability_60 : int64\n",
      "availability_90 : int64\n",
      "availability_365 : int64\n",
      "calendar_last_scraped : object\n",
      "number_of_reviews : int64\n",
      "first_review : object\n",
      "last_review : object\n",
      "review_scores_rating : float64\n",
      "review_scores_accuracy : float64\n",
      "review_scores_cleanliness : float64\n",
      "review_scores_checkin : float64\n",
      "review_scores_communication : float64\n",
      "review_scores_location : float64\n",
      "review_scores_value : float64\n",
      "requires_license : object\n",
      "license : float64\n",
      "jurisdiction_names : object\n",
      "instant_bookable : object\n",
      "cancellation_policy : object\n",
      "require_guest_profile_picture : object\n",
      "require_guest_phone_verification : object\n",
      "calculated_host_listings_count : int64\n",
      "reviews_per_month : float64\n"
     ]
    }
   ],
   "source": [
    "for i in listings.columns:\n",
    "    print(i, \":\", listings[i].dtypes)"
   ]
  },
  {
   "cell_type": "markdown",
   "metadata": {},
   "source": [
    "We plan to built a Linear Regression model, and for that we need to create dummy variables corresponding to the categorical \n",
    "variables. So, let's keep the numeric and categorical variables in separate datasets"
   ]
  },
  {
   "cell_type": "code",
   "execution_count": 130,
   "metadata": {},
   "outputs": [],
   "source": [
    "listings_num = listings.select_dtypes(include = ['int64', 'float64', 'float32'])"
   ]
  },
  {
   "cell_type": "code",
   "execution_count": 131,
   "metadata": {},
   "outputs": [
    {
     "data": {
      "text/plain": [
       "(3818, 92)"
      ]
     },
     "execution_count": 131,
     "metadata": {},
     "output_type": "execute_result"
    }
   ],
   "source": [
    "listings.shape"
   ]
  },
  {
   "cell_type": "code",
   "execution_count": 132,
   "metadata": {},
   "outputs": [
    {
     "data": {
      "text/plain": [
       "(3818, 36)"
      ]
     },
     "execution_count": 132,
     "metadata": {},
     "output_type": "execute_result"
    }
   ],
   "source": [
    "listings_num.shape"
   ]
  },
  {
   "cell_type": "code",
   "execution_count": 133,
   "metadata": {},
   "outputs": [
    {
     "data": {
      "text/html": [
       "<div>\n",
       "<style scoped>\n",
       "    .dataframe tbody tr th:only-of-type {\n",
       "        vertical-align: middle;\n",
       "    }\n",
       "\n",
       "    .dataframe tbody tr th {\n",
       "        vertical-align: top;\n",
       "    }\n",
       "\n",
       "    .dataframe thead th {\n",
       "        text-align: right;\n",
       "    }\n",
       "</style>\n",
       "<table border=\"1\" class=\"dataframe\">\n",
       "  <thead>\n",
       "    <tr style=\"text-align: right;\">\n",
       "      <th></th>\n",
       "      <th>id</th>\n",
       "      <th>scrape_id</th>\n",
       "      <th>host_id</th>\n",
       "      <th>host_listings_count</th>\n",
       "      <th>host_total_listings_count</th>\n",
       "      <th>latitude</th>\n",
       "      <th>longitude</th>\n",
       "      <th>accommodates</th>\n",
       "      <th>bathrooms</th>\n",
       "      <th>bedrooms</th>\n",
       "      <th>...</th>\n",
       "      <th>review_scores_rating</th>\n",
       "      <th>review_scores_accuracy</th>\n",
       "      <th>review_scores_cleanliness</th>\n",
       "      <th>review_scores_checkin</th>\n",
       "      <th>review_scores_communication</th>\n",
       "      <th>review_scores_location</th>\n",
       "      <th>review_scores_value</th>\n",
       "      <th>license</th>\n",
       "      <th>calculated_host_listings_count</th>\n",
       "      <th>reviews_per_month</th>\n",
       "    </tr>\n",
       "  </thead>\n",
       "  <tbody>\n",
       "    <tr>\n",
       "      <th>0</th>\n",
       "      <td>241032</td>\n",
       "      <td>20160104002432</td>\n",
       "      <td>956883</td>\n",
       "      <td>3.0</td>\n",
       "      <td>3.0</td>\n",
       "      <td>47.636289</td>\n",
       "      <td>-122.371025</td>\n",
       "      <td>4</td>\n",
       "      <td>1.0</td>\n",
       "      <td>1.0</td>\n",
       "      <td>...</td>\n",
       "      <td>95.0</td>\n",
       "      <td>10.0</td>\n",
       "      <td>10.0</td>\n",
       "      <td>10.0</td>\n",
       "      <td>10.0</td>\n",
       "      <td>9.0</td>\n",
       "      <td>10.0</td>\n",
       "      <td>NaN</td>\n",
       "      <td>2</td>\n",
       "      <td>4.07</td>\n",
       "    </tr>\n",
       "    <tr>\n",
       "      <th>1</th>\n",
       "      <td>953595</td>\n",
       "      <td>20160104002432</td>\n",
       "      <td>5177328</td>\n",
       "      <td>6.0</td>\n",
       "      <td>6.0</td>\n",
       "      <td>47.639123</td>\n",
       "      <td>-122.365666</td>\n",
       "      <td>4</td>\n",
       "      <td>1.0</td>\n",
       "      <td>1.0</td>\n",
       "      <td>...</td>\n",
       "      <td>96.0</td>\n",
       "      <td>10.0</td>\n",
       "      <td>10.0</td>\n",
       "      <td>10.0</td>\n",
       "      <td>10.0</td>\n",
       "      <td>10.0</td>\n",
       "      <td>10.0</td>\n",
       "      <td>NaN</td>\n",
       "      <td>6</td>\n",
       "      <td>1.48</td>\n",
       "    </tr>\n",
       "  </tbody>\n",
       "</table>\n",
       "<p>2 rows × 36 columns</p>\n",
       "</div>"
      ],
      "text/plain": [
       "       id       scrape_id  host_id  host_listings_count  \\\n",
       "0  241032  20160104002432   956883                  3.0   \n",
       "1  953595  20160104002432  5177328                  6.0   \n",
       "\n",
       "   host_total_listings_count   latitude   longitude  accommodates  bathrooms  \\\n",
       "0                        3.0  47.636289 -122.371025             4        1.0   \n",
       "1                        6.0  47.639123 -122.365666             4        1.0   \n",
       "\n",
       "   bedrooms  ...  review_scores_rating  review_scores_accuracy  \\\n",
       "0       1.0  ...                  95.0                    10.0   \n",
       "1       1.0  ...                  96.0                    10.0   \n",
       "\n",
       "   review_scores_cleanliness  review_scores_checkin  \\\n",
       "0                       10.0                   10.0   \n",
       "1                       10.0                   10.0   \n",
       "\n",
       "   review_scores_communication  review_scores_location  review_scores_value  \\\n",
       "0                         10.0                     9.0                 10.0   \n",
       "1                         10.0                    10.0                 10.0   \n",
       "\n",
       "   license  calculated_host_listings_count  reviews_per_month  \n",
       "0      NaN                               2               4.07  \n",
       "1      NaN                               6               1.48  \n",
       "\n",
       "[2 rows x 36 columns]"
      ]
     },
     "execution_count": 133,
     "metadata": {},
     "output_type": "execute_result"
    }
   ],
   "source": [
    "listings_num.head(2)"
   ]
  },
  {
   "cell_type": "code",
   "execution_count": 134,
   "metadata": {},
   "outputs": [],
   "source": [
    "listings_char = listings.select_dtypes(include = ['object'])"
   ]
  },
  {
   "cell_type": "code",
   "execution_count": 136,
   "metadata": {},
   "outputs": [
    {
     "data": {
      "text/html": [
       "<div>\n",
       "<style scoped>\n",
       "    .dataframe tbody tr th:only-of-type {\n",
       "        vertical-align: middle;\n",
       "    }\n",
       "\n",
       "    .dataframe tbody tr th {\n",
       "        vertical-align: top;\n",
       "    }\n",
       "\n",
       "    .dataframe thead th {\n",
       "        text-align: right;\n",
       "    }\n",
       "</style>\n",
       "<table border=\"1\" class=\"dataframe\">\n",
       "  <thead>\n",
       "    <tr style=\"text-align: right;\">\n",
       "      <th></th>\n",
       "      <th>listing_url</th>\n",
       "      <th>last_scraped</th>\n",
       "      <th>name</th>\n",
       "      <th>summary</th>\n",
       "      <th>space</th>\n",
       "      <th>description</th>\n",
       "      <th>experiences_offered</th>\n",
       "      <th>neighborhood_overview</th>\n",
       "      <th>notes</th>\n",
       "      <th>transit</th>\n",
       "      <th>...</th>\n",
       "      <th>has_availability</th>\n",
       "      <th>calendar_last_scraped</th>\n",
       "      <th>first_review</th>\n",
       "      <th>last_review</th>\n",
       "      <th>requires_license</th>\n",
       "      <th>jurisdiction_names</th>\n",
       "      <th>instant_bookable</th>\n",
       "      <th>cancellation_policy</th>\n",
       "      <th>require_guest_profile_picture</th>\n",
       "      <th>require_guest_phone_verification</th>\n",
       "    </tr>\n",
       "  </thead>\n",
       "  <tbody>\n",
       "    <tr>\n",
       "      <th>0</th>\n",
       "      <td>https://www.airbnb.com/rooms/241032</td>\n",
       "      <td>2016-01-04</td>\n",
       "      <td>Stylish Queen Anne Apartment</td>\n",
       "      <td>NaN</td>\n",
       "      <td>Make your self at home in this charming one-be...</td>\n",
       "      <td>Make your self at home in this charming one-be...</td>\n",
       "      <td>none</td>\n",
       "      <td>NaN</td>\n",
       "      <td>NaN</td>\n",
       "      <td>NaN</td>\n",
       "      <td>...</td>\n",
       "      <td>t</td>\n",
       "      <td>2016-01-04</td>\n",
       "      <td>2011-11-01</td>\n",
       "      <td>2016-01-02</td>\n",
       "      <td>f</td>\n",
       "      <td>WASHINGTON</td>\n",
       "      <td>f</td>\n",
       "      <td>moderate</td>\n",
       "      <td>f</td>\n",
       "      <td>f</td>\n",
       "    </tr>\n",
       "  </tbody>\n",
       "</table>\n",
       "<p>1 rows × 56 columns</p>\n",
       "</div>"
      ],
      "text/plain": [
       "                           listing_url last_scraped  \\\n",
       "0  https://www.airbnb.com/rooms/241032   2016-01-04   \n",
       "\n",
       "                           name summary  \\\n",
       "0  Stylish Queen Anne Apartment     NaN   \n",
       "\n",
       "                                               space  \\\n",
       "0  Make your self at home in this charming one-be...   \n",
       "\n",
       "                                         description experiences_offered  \\\n",
       "0  Make your self at home in this charming one-be...                none   \n",
       "\n",
       "  neighborhood_overview notes transit  ... has_availability  \\\n",
       "0                   NaN   NaN     NaN  ...                t   \n",
       "\n",
       "  calendar_last_scraped first_review last_review requires_license  \\\n",
       "0            2016-01-04   2011-11-01  2016-01-02                f   \n",
       "\n",
       "  jurisdiction_names instant_bookable cancellation_policy  \\\n",
       "0         WASHINGTON                f            moderate   \n",
       "\n",
       "  require_guest_profile_picture require_guest_phone_verification  \n",
       "0                             f                                f  \n",
       "\n",
       "[1 rows x 56 columns]"
      ]
     },
     "execution_count": 136,
     "metadata": {},
     "output_type": "execute_result"
    }
   ],
   "source": [
    "listings_char.head(1)"
   ]
  },
  {
   "cell_type": "code",
   "execution_count": 137,
   "metadata": {},
   "outputs": [
    {
     "data": {
      "text/plain": [
       "(3818, 56)"
      ]
     },
     "execution_count": 137,
     "metadata": {},
     "output_type": "execute_result"
    }
   ],
   "source": [
    "listings_char.shape"
   ]
  },
  {
   "cell_type": "code",
   "execution_count": 138,
   "metadata": {},
   "outputs": [
    {
     "data": {
      "text/plain": [
       "(3818, 36)"
      ]
     },
     "execution_count": 138,
     "metadata": {},
     "output_type": "execute_result"
    }
   ],
   "source": [
    "listings_num.shape"
   ]
  },
  {
   "cell_type": "code",
   "execution_count": 139,
   "metadata": {},
   "outputs": [
    {
     "data": {
      "text/plain": [
       "(3818, 92)"
      ]
     },
     "execution_count": 139,
     "metadata": {},
     "output_type": "execute_result"
    }
   ],
   "source": [
    "listings.shape"
   ]
  },
  {
   "cell_type": "markdown",
   "metadata": {},
   "source": [
    "As there are very few data points for a model, we don't want to have too many dummy varaibles created from the categorical variables. So, let's select those which we think can be important"
   ]
  },
  {
   "cell_type": "code",
   "execution_count": 146,
   "metadata": {},
   "outputs": [
    {
     "name": "stdout",
     "output_type": "stream",
     "text": [
      "#distinct categories in listing_url is: 3818\n",
      "#distinct categories in last_scraped is: 1\n",
      "#distinct categories in name is: 3792\n",
      "#distinct categories in summary is: 3478\n",
      "#distinct categories in space is: 3119\n",
      "#distinct categories in description is: 3742\n",
      "#distinct categories in experiences_offered is: 1\n",
      "#distinct categories in neighborhood_overview is: 2506\n",
      "#distinct categories in notes is: 1999\n",
      "#distinct categories in transit is: 2574\n",
      "#distinct categories in thumbnail_url is: 3498\n",
      "#distinct categories in medium_url is: 3498\n",
      "#distinct categories in picture_url is: 3818\n",
      "#distinct categories in xl_picture_url is: 3498\n",
      "#distinct categories in host_url is: 2751\n",
      "#distinct categories in host_name is: 1466\n",
      "#distinct categories in host_since is: 1380\n",
      "#distinct categories in host_location is: 120\n",
      "#distinct categories in host_about is: 2011\n",
      "#distinct categories in host_response_time is: 4\n",
      "#distinct categories in host_response_rate is: 45\n",
      "#distinct categories in host_acceptance_rate is: 2\n",
      "#distinct categories in host_is_superhost is: 2\n",
      "#distinct categories in host_thumbnail_url is: 2743\n",
      "#distinct categories in host_picture_url is: 2743\n",
      "#distinct categories in host_neighbourhood is: 102\n",
      "#distinct categories in host_verifications is: 116\n",
      "#distinct categories in host_has_profile_pic is: 2\n",
      "#distinct categories in host_identity_verified is: 2\n",
      "#distinct categories in street is: 1442\n",
      "#distinct categories in neighbourhood is: 81\n",
      "#distinct categories in neighbourhood_cleansed is: 87\n",
      "#distinct categories in neighbourhood_group_cleansed is: 17\n",
      "#distinct categories in city is: 7\n",
      "#distinct categories in state is: 2\n",
      "#distinct categories in zipcode is: 28\n",
      "#distinct categories in market is: 1\n",
      "#distinct categories in smart_location is: 7\n",
      "#distinct categories in country_code is: 1\n",
      "#distinct categories in country is: 1\n",
      "#distinct categories in is_location_exact is: 2\n",
      "#distinct categories in property_type is: 16\n",
      "#distinct categories in room_type is: 3\n",
      "#distinct categories in bed_type is: 5\n",
      "#distinct categories in amenities is: 3284\n",
      "#distinct categories in calendar_updated is: 34\n",
      "#distinct categories in has_availability is: 1\n",
      "#distinct categories in calendar_last_scraped is: 1\n",
      "#distinct categories in first_review is: 984\n",
      "#distinct categories in last_review is: 321\n",
      "#distinct categories in requires_license is: 1\n",
      "#distinct categories in jurisdiction_names is: 1\n",
      "#distinct categories in instant_bookable is: 2\n",
      "#distinct categories in cancellation_policy is: 3\n",
      "#distinct categories in require_guest_profile_picture is: 2\n",
      "#distinct categories in require_guest_phone_verification is: 2\n"
     ]
    }
   ],
   "source": [
    "for i in listings_char.columns:\n",
    "    print(\"#distinct categories in\", i, \"is:\", listings_char[i].nunique())"
   ]
  },
  {
   "cell_type": "code",
   "execution_count": 149,
   "metadata": {},
   "outputs": [
    {
     "data": {
      "text/html": [
       "<div>\n",
       "<style scoped>\n",
       "    .dataframe tbody tr th:only-of-type {\n",
       "        vertical-align: middle;\n",
       "    }\n",
       "\n",
       "    .dataframe tbody tr th {\n",
       "        vertical-align: top;\n",
       "    }\n",
       "\n",
       "    .dataframe thead th {\n",
       "        text-align: right;\n",
       "    }\n",
       "</style>\n",
       "<table border=\"1\" class=\"dataframe\">\n",
       "  <thead>\n",
       "    <tr style=\"text-align: right;\">\n",
       "      <th></th>\n",
       "      <th>listing_url</th>\n",
       "      <th>last_scraped</th>\n",
       "      <th>name</th>\n",
       "      <th>summary</th>\n",
       "      <th>space</th>\n",
       "      <th>description</th>\n",
       "      <th>experiences_offered</th>\n",
       "      <th>neighborhood_overview</th>\n",
       "      <th>notes</th>\n",
       "      <th>transit</th>\n",
       "      <th>...</th>\n",
       "      <th>has_availability</th>\n",
       "      <th>calendar_last_scraped</th>\n",
       "      <th>first_review</th>\n",
       "      <th>last_review</th>\n",
       "      <th>requires_license</th>\n",
       "      <th>jurisdiction_names</th>\n",
       "      <th>instant_bookable</th>\n",
       "      <th>cancellation_policy</th>\n",
       "      <th>require_guest_profile_picture</th>\n",
       "      <th>require_guest_phone_verification</th>\n",
       "    </tr>\n",
       "  </thead>\n",
       "  <tbody>\n",
       "    <tr>\n",
       "      <th>0</th>\n",
       "      <td>https://www.airbnb.com/rooms/241032</td>\n",
       "      <td>2016-01-04</td>\n",
       "      <td>Stylish Queen Anne Apartment</td>\n",
       "      <td>NaN</td>\n",
       "      <td>Make your self at home in this charming one-be...</td>\n",
       "      <td>Make your self at home in this charming one-be...</td>\n",
       "      <td>none</td>\n",
       "      <td>NaN</td>\n",
       "      <td>NaN</td>\n",
       "      <td>NaN</td>\n",
       "      <td>...</td>\n",
       "      <td>t</td>\n",
       "      <td>2016-01-04</td>\n",
       "      <td>2011-11-01</td>\n",
       "      <td>2016-01-02</td>\n",
       "      <td>f</td>\n",
       "      <td>WASHINGTON</td>\n",
       "      <td>f</td>\n",
       "      <td>moderate</td>\n",
       "      <td>f</td>\n",
       "      <td>f</td>\n",
       "    </tr>\n",
       "  </tbody>\n",
       "</table>\n",
       "<p>1 rows × 56 columns</p>\n",
       "</div>"
      ],
      "text/plain": [
       "                           listing_url last_scraped  \\\n",
       "0  https://www.airbnb.com/rooms/241032   2016-01-04   \n",
       "\n",
       "                           name summary  \\\n",
       "0  Stylish Queen Anne Apartment     NaN   \n",
       "\n",
       "                                               space  \\\n",
       "0  Make your self at home in this charming one-be...   \n",
       "\n",
       "                                         description experiences_offered  \\\n",
       "0  Make your self at home in this charming one-be...                none   \n",
       "\n",
       "  neighborhood_overview notes transit  ... has_availability  \\\n",
       "0                   NaN   NaN     NaN  ...                t   \n",
       "\n",
       "  calendar_last_scraped first_review last_review requires_license  \\\n",
       "0            2016-01-04   2011-11-01  2016-01-02                f   \n",
       "\n",
       "  jurisdiction_names instant_bookable cancellation_policy  \\\n",
       "0         WASHINGTON                f            moderate   \n",
       "\n",
       "  require_guest_profile_picture require_guest_phone_verification  \n",
       "0                             f                                f  \n",
       "\n",
       "[1 rows x 56 columns]"
      ]
     },
     "execution_count": 149,
     "metadata": {},
     "output_type": "execute_result"
    }
   ],
   "source": [
    "listings_char.head(1)"
   ]
  },
  {
   "cell_type": "markdown",
   "metadata": {},
   "source": [
    "We will create dummy variables for only the below categorical variables as other have very high number of \n",
    "distinct categories (>20)"
   ]
  },
  {
   "cell_type": "code",
   "execution_count": 154,
   "metadata": {},
   "outputs": [],
   "source": [
    "list1 = [\"host_acceptance_rate\",\t\"host_is_superhost\",\t\"host_has_profile_pic\",\t\"host_identity_verified\",\t\"state\",\t\"is_location_exact\",\t\"instant_bookable\",\t\"require_guest_profile_picture\",\t\"require_guest_phone_verification\",\t\"room_type\",\t\"cancellation_policy\",\t\"host_response_time\",\t\"bed_type\",\t\"city\",\t\"smart_location\",\t\"property_type\",\t\"neighbourhood_group_cleansed\",\t\"zipcode\"]"
   ]
  },
  {
   "cell_type": "code",
   "execution_count": 160,
   "metadata": {},
   "outputs": [
    {
     "name": "stdout",
     "output_type": "stream",
     "text": [
      "host_acceptance_rate : ['100%' nan '0%'] \n",
      "\n",
      "host_is_superhost : ['f' 't' nan] \n",
      "\n",
      "host_has_profile_pic : ['t' 'f' nan] \n",
      "\n",
      "host_identity_verified : ['t' 'f' nan] \n",
      "\n",
      "state : ['WA' 'wa'] \n",
      "\n",
      "is_location_exact : ['t' 'f'] \n",
      "\n",
      "instant_bookable : ['f' 't'] \n",
      "\n",
      "require_guest_profile_picture : ['f' 't'] \n",
      "\n",
      "require_guest_phone_verification : ['f' 't'] \n",
      "\n",
      "room_type : ['Entire home/apt' 'Private room' 'Shared room'] \n",
      "\n",
      "cancellation_policy : ['moderate' 'strict' 'flexible'] \n",
      "\n",
      "host_response_time : ['within a few hours' 'within an hour' nan 'within a day'\n",
      " 'a few days or more'] \n",
      "\n",
      "bed_type : ['Real Bed' 'Futon' 'Pull-out Sofa' 'Airbed' 'Couch'] \n",
      "\n",
      "city : ['Seattle' 'Ballard, Seattle' 'West Seattle' 'Seattle ' '西雅图'\n",
      " 'Phinney Ridge Seattle' 'seattle'] \n",
      "\n",
      "smart_location : ['Seattle, WA' 'Ballard, Seattle, WA' 'West Seattle, WA' 'Seattle , WA'\n",
      " '西雅图, WA' 'Phinney Ridge Seattle, WA' 'seattle, wa'] \n",
      "\n",
      "property_type : ['Apartment' 'House' 'Cabin' 'Condominium' 'Camper/RV' 'Bungalow'\n",
      " 'Townhouse' 'Loft' 'Boat' 'Bed & Breakfast' 'Other' 'Dorm' 'Treehouse'\n",
      " 'Yurt' 'Chalet' 'Tent' nan] \n",
      "\n",
      "neighbourhood_group_cleansed : ['Queen Anne' 'Ballard' 'Other neighborhoods' 'Cascade' 'Central Area'\n",
      " 'University District' 'Downtown' 'Magnolia' 'West Seattle' 'Interbay'\n",
      " 'Beacon Hill' 'Rainier Valley' 'Delridge' 'Seward Park' 'Northgate'\n",
      " 'Capitol Hill' 'Lake City'] \n",
      "\n",
      "zipcode : ['98119' '98109' '98107' '98117' nan '98103' '98105' '98115' '98101'\n",
      " '98122' '98112' '98144' '99\\n98122' '98121' '98102' '98199' '98104'\n",
      " '98134' '98136' '98126' '98146' '98116' '98177' '98118' '98108' '98133'\n",
      " '98106' '98178' '98125'] \n",
      "\n"
     ]
    }
   ],
   "source": [
    "for i in list1:\n",
    "    print(i, \":\", listings_char[i].unique(), \"\\n\")"
   ]
  },
  {
   "cell_type": "code",
   "execution_count": 161,
   "metadata": {},
   "outputs": [],
   "source": [
    "listings_char1 = listings_char[[\"host_acceptance_rate\",\t\"host_is_superhost\",\t\"host_has_profile_pic\",\t\"host_identity_verified\",\t\"state\",\t\"is_location_exact\",\t\"instant_bookable\",\t\"require_guest_profile_picture\",\t\"require_guest_phone_verification\",\t\"room_type\",\t\"cancellation_policy\",\t\"host_response_time\",\t\"bed_type\",\t\"city\",\t\"smart_location\",\t\"property_type\",\t\"neighbourhood_group_cleansed\",\t\"zipcode\"]]"
   ]
  },
  {
   "cell_type": "code",
   "execution_count": 162,
   "metadata": {},
   "outputs": [
    {
     "data": {
      "text/plain": [
       "(3818, 56)"
      ]
     },
     "execution_count": 162,
     "metadata": {},
     "output_type": "execute_result"
    }
   ],
   "source": [
    "listings_char.shape"
   ]
  },
  {
   "cell_type": "code",
   "execution_count": 164,
   "metadata": {},
   "outputs": [
    {
     "data": {
      "text/plain": [
       "(3818, 18)"
      ]
     },
     "execution_count": 164,
     "metadata": {},
     "output_type": "execute_result"
    }
   ],
   "source": [
    "listings_char1.shape"
   ]
  },
  {
   "cell_type": "code",
   "execution_count": 166,
   "metadata": {},
   "outputs": [
    {
     "data": {
      "text/plain": [
       "3818"
      ]
     },
     "execution_count": 166,
     "metadata": {},
     "output_type": "execute_result"
    }
   ],
   "source": [
    "listings_num['price'].count()"
   ]
  },
  {
   "cell_type": "code",
   "execution_count": 167,
   "metadata": {},
   "outputs": [
    {
     "data": {
      "text/plain": [
       "(3818, 36)"
      ]
     },
     "execution_count": 167,
     "metadata": {},
     "output_type": "execute_result"
    }
   ],
   "source": [
    "listings_num.shape"
   ]
  },
  {
   "cell_type": "code",
   "execution_count": null,
   "metadata": {},
   "outputs": [],
   "source": [
    "# So, there are no missing values in price variable"
   ]
  },
  {
   "cell_type": "code",
   "execution_count": 184,
   "metadata": {},
   "outputs": [
    {
     "name": "stdout",
     "output_type": "stream",
     "text": [
      "id : 0.0\n",
      "scrape_id : 0.0\n",
      "host_id : 0.0\n",
      "host_listings_count : 0.05238344683080243\n",
      "host_total_listings_count : 0.05238344683080243\n",
      "latitude : 0.0\n",
      "longitude : 0.0\n",
      "accommodates : 0.0\n",
      "bathrooms : 0.4190675746464194\n",
      "bedrooms : 0.15715034049240728\n",
      "beds : 0.02619172341540832\n",
      "square_feet : 97.45940282870613\n",
      "price : 0.0\n",
      "weekly_price : 47.38082765845992\n",
      "monthly_price : 60.26715557883709\n",
      "security_deposit : 51.12624410686223\n",
      "cleaning_fee : 26.977475117862753\n",
      "guests_included : 0.0\n",
      "extra_people : 0.0\n",
      "minimum_nights : 0.0\n",
      "maximum_nights : 0.0\n",
      "availability_30 : 0.0\n",
      "availability_60 : 0.0\n",
      "availability_90 : 0.0\n",
      "availability_365 : 0.0\n",
      "number_of_reviews : 0.0\n",
      "review_scores_rating : 16.946045049764265\n",
      "review_scores_accuracy : 17.234154007333686\n",
      "review_scores_cleanliness : 17.103195390256673\n",
      "review_scores_checkin : 17.234154007333686\n",
      "review_scores_communication : 17.050811943425884\n",
      "review_scores_location : 17.155578837087475\n",
      "review_scores_value : 17.181770560502883\n",
      "license : 100.0\n",
      "calculated_host_listings_count : 0.0\n",
      "reviews_per_month : 16.42221058145627\n"
     ]
    }
   ],
   "source": [
    "#Let's calculate % missing values in each numeric variable and each categorical variable\n",
    "for i in listings_num:\n",
    "    print(i, \":\", 100 - (listings_num[i].count()/listings_num.shape[0])*100)"
   ]
  },
  {
   "cell_type": "code",
   "execution_count": 191,
   "metadata": {},
   "outputs": [],
   "source": [
    "#Dropping variables with more than 40% values as missing\n",
    "listings_num1 = listings_num.drop(['license', 'square_feet', 'monthly_price', 'security_deposit', 'weekly_price'], axis = 1)"
   ]
  },
  {
   "cell_type": "code",
   "execution_count": 192,
   "metadata": {},
   "outputs": [
    {
     "data": {
      "text/plain": [
       "(3818, 36)"
      ]
     },
     "execution_count": 192,
     "metadata": {},
     "output_type": "execute_result"
    }
   ],
   "source": [
    "listings_num.shape"
   ]
  },
  {
   "cell_type": "code",
   "execution_count": 193,
   "metadata": {},
   "outputs": [
    {
     "data": {
      "text/plain": [
       "(3818, 31)"
      ]
     },
     "execution_count": 193,
     "metadata": {},
     "output_type": "execute_result"
    }
   ],
   "source": [
    "listings_num1.shape"
   ]
  },
  {
   "cell_type": "code",
   "execution_count": 194,
   "metadata": {},
   "outputs": [
    {
     "name": "stdout",
     "output_type": "stream",
     "text": [
      "listing_url : 0.0\n",
      "last_scraped : 0.0\n",
      "name : 0.0\n",
      "summary : 4.635935044525922\n",
      "space : 14.903090623363013\n",
      "description : 0.0\n",
      "experiences_offered : 0.0\n",
      "neighborhood_overview : 27.029858564693555\n",
      "notes : 42.06390780513358\n",
      "transit : 24.46306966998428\n",
      "thumbnail_url : 8.381351492928232\n",
      "medium_url : 8.381351492928232\n",
      "picture_url : 0.0\n",
      "xl_picture_url : 8.381351492928232\n",
      "host_url : 0.0\n",
      "host_name : 0.05238344683080243\n",
      "host_since : 0.05238344683080243\n",
      "host_location : 0.2095337873231955\n",
      "host_about : 22.498690413829223\n",
      "host_response_time : 13.698271346254586\n",
      "host_response_rate : 13.698271346254586\n",
      "host_acceptance_rate : 20.24620220010476\n",
      "host_is_superhost : 0.05238344683080243\n",
      "host_thumbnail_url : 0.05238344683080243\n",
      "host_picture_url : 0.05238344683080243\n",
      "host_neighbourhood : 7.857517024620222\n",
      "host_verifications : 0.0\n",
      "host_has_profile_pic : 0.05238344683080243\n",
      "host_identity_verified : 0.05238344683080243\n",
      "street : 0.0\n",
      "neighbourhood : 10.895756940806706\n",
      "neighbourhood_cleansed : 0.0\n",
      "neighbourhood_group_cleansed : 0.0\n",
      "city : 0.0\n",
      "state : 0.0\n",
      "zipcode : 0.1833420639078156\n",
      "market : 0.0\n",
      "smart_location : 0.0\n",
      "country_code : 0.0\n",
      "country : 0.0\n",
      "is_location_exact : 0.0\n",
      "property_type : 0.02619172341540832\n",
      "room_type : 0.0\n",
      "bed_type : 0.0\n",
      "amenities : 0.0\n",
      "calendar_updated : 0.0\n",
      "has_availability : 0.0\n",
      "calendar_last_scraped : 0.0\n",
      "first_review : 16.42221058145627\n",
      "last_review : 16.42221058145627\n",
      "requires_license : 0.0\n",
      "jurisdiction_names : 0.0\n",
      "instant_bookable : 0.0\n",
      "cancellation_policy : 0.0\n",
      "require_guest_profile_picture : 0.0\n",
      "require_guest_phone_verification : 0.0\n"
     ]
    }
   ],
   "source": [
    "#Let's calculate % missing values in each numeric variable and each categorical variable\n",
    "for i in listings_char:\n",
    "    print(i, \":\", 100 - (listings_char[i].count()/listings_char.shape[0])*100)"
   ]
  },
  {
   "cell_type": "code",
   "execution_count": 195,
   "metadata": {},
   "outputs": [
    {
     "name": "stdout",
     "output_type": "stream",
     "text": [
      "#distinct values in id is: 3818\n",
      "#distinct values in scrape_id is: 1\n",
      "#distinct values in host_id is: 2751\n",
      "#distinct values in host_listings_count is: 27\n",
      "#distinct values in host_total_listings_count is: 27\n",
      "#distinct values in latitude is: 3818\n",
      "#distinct values in longitude is: 3818\n",
      "#distinct values in accommodates is: 15\n",
      "#distinct values in bathrooms is: 12\n",
      "#distinct values in bedrooms is: 8\n",
      "#distinct values in beds is: 11\n",
      "#distinct values in price is: 273\n",
      "#distinct values in cleaning_fee is: 118\n",
      "#distinct values in guests_included is: 15\n",
      "#distinct values in extra_people is: 45\n",
      "#distinct values in minimum_nights is: 22\n",
      "#distinct values in maximum_nights is: 68\n",
      "#distinct values in availability_30 is: 31\n",
      "#distinct values in availability_60 is: 61\n",
      "#distinct values in availability_90 is: 91\n",
      "#distinct values in availability_365 is: 363\n",
      "#distinct values in number_of_reviews is: 195\n",
      "#distinct values in review_scores_rating is: 42\n",
      "#distinct values in review_scores_accuracy is: 7\n",
      "#distinct values in review_scores_cleanliness is: 8\n",
      "#distinct values in review_scores_checkin is: 8\n",
      "#distinct values in review_scores_communication is: 8\n",
      "#distinct values in review_scores_location is: 6\n",
      "#distinct values in review_scores_value is: 8\n",
      "#distinct values in calculated_host_listings_count is: 18\n",
      "#distinct values in reviews_per_month is: 654\n"
     ]
    }
   ],
   "source": [
    "#Distinct values taken by each numeric variable\n",
    "for i in listings_num1.columns:\n",
    "    print(\"#distinct values in\", i, \"is:\", listings_num1[i].nunique())"
   ]
  },
  {
   "cell_type": "code",
   "execution_count": 196,
   "metadata": {},
   "outputs": [],
   "source": [
    "#So, dropping the variable scrape_id as it takes only 1 distinct value\n",
    "listings_num1 = listings_num1.drop(['scrape_id'], axis = 1)"
   ]
  },
  {
   "cell_type": "code",
   "execution_count": 197,
   "metadata": {},
   "outputs": [
    {
     "data": {
      "text/plain": [
       "(3818, 30)"
      ]
     },
     "execution_count": 197,
     "metadata": {},
     "output_type": "execute_result"
    }
   ],
   "source": [
    "listings_num1.shape"
   ]
  },
  {
   "cell_type": "code",
   "execution_count": null,
   "metadata": {},
   "outputs": [],
   "source": [
    "#All categorial variables have at least 50% values present; so, we will not drop any of those"
   ]
  },
  {
   "cell_type": "markdown",
   "metadata": {},
   "source": [
    "Creating dummy variables for the categorical variables"
   ]
  },
  {
   "cell_type": "code",
   "execution_count": 207,
   "metadata": {},
   "outputs": [],
   "source": [
    "listings_char2 = pd.get_dummies(listings_char1, dummy_na = True, drop_first = False)"
   ]
  },
  {
   "cell_type": "code",
   "execution_count": 208,
   "metadata": {},
   "outputs": [
    {
     "data": {
      "text/plain": [
       "(3818, 18)"
      ]
     },
     "execution_count": 208,
     "metadata": {},
     "output_type": "execute_result"
    }
   ],
   "source": [
    "listings_char1.shape"
   ]
  },
  {
   "cell_type": "code",
   "execution_count": 209,
   "metadata": {},
   "outputs": [
    {
     "data": {
      "text/plain": [
       "(3818, 126)"
      ]
     },
     "execution_count": 209,
     "metadata": {},
     "output_type": "execute_result"
    }
   ],
   "source": [
    "listings_char2.shape"
   ]
  },
  {
   "cell_type": "code",
   "execution_count": 210,
   "metadata": {},
   "outputs": [
    {
     "name": "stdout",
     "output_type": "stream",
     "text": [
      "host_acceptance_rate_0%\n",
      "host_acceptance_rate_100%\n",
      "host_acceptance_rate_nan\n",
      "host_is_superhost_f\n",
      "host_is_superhost_t\n",
      "host_is_superhost_nan\n",
      "host_has_profile_pic_f\n",
      "host_has_profile_pic_t\n",
      "host_has_profile_pic_nan\n",
      "host_identity_verified_f\n",
      "host_identity_verified_t\n",
      "host_identity_verified_nan\n",
      "state_WA\n",
      "state_wa\n",
      "state_nan\n",
      "is_location_exact_f\n",
      "is_location_exact_t\n",
      "is_location_exact_nan\n",
      "instant_bookable_f\n",
      "instant_bookable_t\n",
      "instant_bookable_nan\n",
      "require_guest_profile_picture_f\n",
      "require_guest_profile_picture_t\n",
      "require_guest_profile_picture_nan\n",
      "require_guest_phone_verification_f\n",
      "require_guest_phone_verification_t\n",
      "require_guest_phone_verification_nan\n",
      "room_type_Entire home/apt\n",
      "room_type_Private room\n",
      "room_type_Shared room\n",
      "room_type_nan\n",
      "cancellation_policy_flexible\n",
      "cancellation_policy_moderate\n",
      "cancellation_policy_strict\n",
      "cancellation_policy_nan\n",
      "host_response_time_a few days or more\n",
      "host_response_time_within a day\n",
      "host_response_time_within a few hours\n",
      "host_response_time_within an hour\n",
      "host_response_time_nan\n",
      "bed_type_Airbed\n",
      "bed_type_Couch\n",
      "bed_type_Futon\n",
      "bed_type_Pull-out Sofa\n",
      "bed_type_Real Bed\n",
      "bed_type_nan\n",
      "city_Ballard, Seattle\n",
      "city_Phinney Ridge Seattle\n",
      "city_Seattle\n",
      "city_Seattle \n",
      "city_West Seattle\n",
      "city_seattle\n",
      "city_西雅图\n",
      "city_nan\n",
      "smart_location_Ballard, Seattle, WA\n",
      "smart_location_Phinney Ridge Seattle, WA\n",
      "smart_location_Seattle , WA\n",
      "smart_location_Seattle, WA\n",
      "smart_location_West Seattle, WA\n",
      "smart_location_seattle, wa\n",
      "smart_location_西雅图, WA\n",
      "smart_location_nan\n",
      "property_type_Apartment\n",
      "property_type_Bed & Breakfast\n",
      "property_type_Boat\n",
      "property_type_Bungalow\n",
      "property_type_Cabin\n",
      "property_type_Camper/RV\n",
      "property_type_Chalet\n",
      "property_type_Condominium\n",
      "property_type_Dorm\n",
      "property_type_House\n",
      "property_type_Loft\n",
      "property_type_Other\n",
      "property_type_Tent\n",
      "property_type_Townhouse\n",
      "property_type_Treehouse\n",
      "property_type_Yurt\n",
      "property_type_nan\n",
      "neighbourhood_group_cleansed_Ballard\n",
      "neighbourhood_group_cleansed_Beacon Hill\n",
      "neighbourhood_group_cleansed_Capitol Hill\n",
      "neighbourhood_group_cleansed_Cascade\n",
      "neighbourhood_group_cleansed_Central Area\n",
      "neighbourhood_group_cleansed_Delridge\n",
      "neighbourhood_group_cleansed_Downtown\n",
      "neighbourhood_group_cleansed_Interbay\n",
      "neighbourhood_group_cleansed_Lake City\n",
      "neighbourhood_group_cleansed_Magnolia\n",
      "neighbourhood_group_cleansed_Northgate\n",
      "neighbourhood_group_cleansed_Other neighborhoods\n",
      "neighbourhood_group_cleansed_Queen Anne\n",
      "neighbourhood_group_cleansed_Rainier Valley\n",
      "neighbourhood_group_cleansed_Seward Park\n",
      "neighbourhood_group_cleansed_University District\n",
      "neighbourhood_group_cleansed_West Seattle\n",
      "neighbourhood_group_cleansed_nan\n",
      "zipcode_98101\n",
      "zipcode_98102\n",
      "zipcode_98103\n",
      "zipcode_98104\n",
      "zipcode_98105\n",
      "zipcode_98106\n",
      "zipcode_98107\n",
      "zipcode_98108\n",
      "zipcode_98109\n",
      "zipcode_98112\n",
      "zipcode_98115\n",
      "zipcode_98116\n",
      "zipcode_98117\n",
      "zipcode_98118\n",
      "zipcode_98119\n",
      "zipcode_98121\n",
      "zipcode_98122\n",
      "zipcode_98125\n",
      "zipcode_98126\n",
      "zipcode_98133\n",
      "zipcode_98134\n",
      "zipcode_98136\n",
      "zipcode_98144\n",
      "zipcode_98146\n",
      "zipcode_98177\n",
      "zipcode_98178\n",
      "zipcode_98199\n",
      "zipcode_99\n",
      "98122\n",
      "zipcode_nan\n"
     ]
    }
   ],
   "source": [
    "for i in listings_char2.columns:\n",
    "    print(i)"
   ]
  },
  {
   "cell_type": "code",
   "execution_count": 214,
   "metadata": {},
   "outputs": [
    {
     "data": {
      "text/html": [
       "<div>\n",
       "<style scoped>\n",
       "    .dataframe tbody tr th:only-of-type {\n",
       "        vertical-align: middle;\n",
       "    }\n",
       "\n",
       "    .dataframe tbody tr th {\n",
       "        vertical-align: top;\n",
       "    }\n",
       "\n",
       "    .dataframe thead th {\n",
       "        text-align: right;\n",
       "    }\n",
       "</style>\n",
       "<table border=\"1\" class=\"dataframe\">\n",
       "  <thead>\n",
       "    <tr style=\"text-align: right;\">\n",
       "      <th></th>\n",
       "      <th>id</th>\n",
       "      <th>host_id</th>\n",
       "      <th>host_listings_count</th>\n",
       "      <th>host_total_listings_count</th>\n",
       "      <th>latitude</th>\n",
       "      <th>longitude</th>\n",
       "      <th>accommodates</th>\n",
       "      <th>bathrooms</th>\n",
       "      <th>bedrooms</th>\n",
       "      <th>beds</th>\n",
       "      <th>...</th>\n",
       "      <th>number_of_reviews</th>\n",
       "      <th>review_scores_rating</th>\n",
       "      <th>review_scores_accuracy</th>\n",
       "      <th>review_scores_cleanliness</th>\n",
       "      <th>review_scores_checkin</th>\n",
       "      <th>review_scores_communication</th>\n",
       "      <th>review_scores_location</th>\n",
       "      <th>review_scores_value</th>\n",
       "      <th>calculated_host_listings_count</th>\n",
       "      <th>reviews_per_month</th>\n",
       "    </tr>\n",
       "  </thead>\n",
       "  <tbody>\n",
       "    <tr>\n",
       "      <th>0</th>\n",
       "      <td>241032</td>\n",
       "      <td>956883</td>\n",
       "      <td>3.0</td>\n",
       "      <td>3.0</td>\n",
       "      <td>47.636289</td>\n",
       "      <td>-122.371025</td>\n",
       "      <td>4</td>\n",
       "      <td>1.0</td>\n",
       "      <td>1.0</td>\n",
       "      <td>1.0</td>\n",
       "      <td>...</td>\n",
       "      <td>207</td>\n",
       "      <td>95.0</td>\n",
       "      <td>10.0</td>\n",
       "      <td>10.0</td>\n",
       "      <td>10.0</td>\n",
       "      <td>10.0</td>\n",
       "      <td>9.0</td>\n",
       "      <td>10.0</td>\n",
       "      <td>2</td>\n",
       "      <td>4.07</td>\n",
       "    </tr>\n",
       "    <tr>\n",
       "      <th>1</th>\n",
       "      <td>953595</td>\n",
       "      <td>5177328</td>\n",
       "      <td>6.0</td>\n",
       "      <td>6.0</td>\n",
       "      <td>47.639123</td>\n",
       "      <td>-122.365666</td>\n",
       "      <td>4</td>\n",
       "      <td>1.0</td>\n",
       "      <td>1.0</td>\n",
       "      <td>1.0</td>\n",
       "      <td>...</td>\n",
       "      <td>43</td>\n",
       "      <td>96.0</td>\n",
       "      <td>10.0</td>\n",
       "      <td>10.0</td>\n",
       "      <td>10.0</td>\n",
       "      <td>10.0</td>\n",
       "      <td>10.0</td>\n",
       "      <td>10.0</td>\n",
       "      <td>6</td>\n",
       "      <td>1.48</td>\n",
       "    </tr>\n",
       "    <tr>\n",
       "      <th>2</th>\n",
       "      <td>3308979</td>\n",
       "      <td>16708587</td>\n",
       "      <td>2.0</td>\n",
       "      <td>2.0</td>\n",
       "      <td>47.629724</td>\n",
       "      <td>-122.369483</td>\n",
       "      <td>11</td>\n",
       "      <td>4.5</td>\n",
       "      <td>5.0</td>\n",
       "      <td>7.0</td>\n",
       "      <td>...</td>\n",
       "      <td>20</td>\n",
       "      <td>97.0</td>\n",
       "      <td>10.0</td>\n",
       "      <td>10.0</td>\n",
       "      <td>10.0</td>\n",
       "      <td>10.0</td>\n",
       "      <td>10.0</td>\n",
       "      <td>10.0</td>\n",
       "      <td>2</td>\n",
       "      <td>1.15</td>\n",
       "    </tr>\n",
       "    <tr>\n",
       "      <th>3</th>\n",
       "      <td>7421966</td>\n",
       "      <td>9851441</td>\n",
       "      <td>1.0</td>\n",
       "      <td>1.0</td>\n",
       "      <td>47.638473</td>\n",
       "      <td>-122.369279</td>\n",
       "      <td>3</td>\n",
       "      <td>1.0</td>\n",
       "      <td>0.0</td>\n",
       "      <td>2.0</td>\n",
       "      <td>...</td>\n",
       "      <td>0</td>\n",
       "      <td>NaN</td>\n",
       "      <td>NaN</td>\n",
       "      <td>NaN</td>\n",
       "      <td>NaN</td>\n",
       "      <td>NaN</td>\n",
       "      <td>NaN</td>\n",
       "      <td>NaN</td>\n",
       "      <td>1</td>\n",
       "      <td>NaN</td>\n",
       "    </tr>\n",
       "    <tr>\n",
       "      <th>4</th>\n",
       "      <td>278830</td>\n",
       "      <td>1452570</td>\n",
       "      <td>2.0</td>\n",
       "      <td>2.0</td>\n",
       "      <td>47.632918</td>\n",
       "      <td>-122.372471</td>\n",
       "      <td>6</td>\n",
       "      <td>2.0</td>\n",
       "      <td>3.0</td>\n",
       "      <td>3.0</td>\n",
       "      <td>...</td>\n",
       "      <td>38</td>\n",
       "      <td>92.0</td>\n",
       "      <td>9.0</td>\n",
       "      <td>9.0</td>\n",
       "      <td>10.0</td>\n",
       "      <td>10.0</td>\n",
       "      <td>9.0</td>\n",
       "      <td>9.0</td>\n",
       "      <td>1</td>\n",
       "      <td>0.89</td>\n",
       "    </tr>\n",
       "    <tr>\n",
       "      <th>5</th>\n",
       "      <td>5956968</td>\n",
       "      <td>326758</td>\n",
       "      <td>1.0</td>\n",
       "      <td>1.0</td>\n",
       "      <td>47.630525</td>\n",
       "      <td>-122.366174</td>\n",
       "      <td>2</td>\n",
       "      <td>1.0</td>\n",
       "      <td>1.0</td>\n",
       "      <td>1.0</td>\n",
       "      <td>...</td>\n",
       "      <td>17</td>\n",
       "      <td>95.0</td>\n",
       "      <td>10.0</td>\n",
       "      <td>10.0</td>\n",
       "      <td>10.0</td>\n",
       "      <td>10.0</td>\n",
       "      <td>10.0</td>\n",
       "      <td>10.0</td>\n",
       "      <td>1</td>\n",
       "      <td>2.45</td>\n",
       "    </tr>\n",
       "    <tr>\n",
       "      <th>6</th>\n",
       "      <td>1909058</td>\n",
       "      <td>2497928</td>\n",
       "      <td>1.0</td>\n",
       "      <td>1.0</td>\n",
       "      <td>47.636605</td>\n",
       "      <td>-122.368519</td>\n",
       "      <td>2</td>\n",
       "      <td>1.0</td>\n",
       "      <td>1.0</td>\n",
       "      <td>1.0</td>\n",
       "      <td>...</td>\n",
       "      <td>58</td>\n",
       "      <td>99.0</td>\n",
       "      <td>10.0</td>\n",
       "      <td>10.0</td>\n",
       "      <td>10.0</td>\n",
       "      <td>10.0</td>\n",
       "      <td>10.0</td>\n",
       "      <td>10.0</td>\n",
       "      <td>1</td>\n",
       "      <td>2.46</td>\n",
       "    </tr>\n",
       "    <tr>\n",
       "      <th>7</th>\n",
       "      <td>856550</td>\n",
       "      <td>4016632</td>\n",
       "      <td>5.0</td>\n",
       "      <td>5.0</td>\n",
       "      <td>47.640161</td>\n",
       "      <td>-122.375856</td>\n",
       "      <td>2</td>\n",
       "      <td>1.0</td>\n",
       "      <td>1.0</td>\n",
       "      <td>1.0</td>\n",
       "      <td>...</td>\n",
       "      <td>173</td>\n",
       "      <td>97.0</td>\n",
       "      <td>10.0</td>\n",
       "      <td>10.0</td>\n",
       "      <td>10.0</td>\n",
       "      <td>10.0</td>\n",
       "      <td>9.0</td>\n",
       "      <td>10.0</td>\n",
       "      <td>5</td>\n",
       "      <td>4.73</td>\n",
       "    </tr>\n",
       "    <tr>\n",
       "      <th>8</th>\n",
       "      <td>4948745</td>\n",
       "      <td>2166277</td>\n",
       "      <td>1.0</td>\n",
       "      <td>1.0</td>\n",
       "      <td>47.632410</td>\n",
       "      <td>-122.357216</td>\n",
       "      <td>2</td>\n",
       "      <td>1.0</td>\n",
       "      <td>1.0</td>\n",
       "      <td>1.0</td>\n",
       "      <td>...</td>\n",
       "      <td>8</td>\n",
       "      <td>97.0</td>\n",
       "      <td>10.0</td>\n",
       "      <td>9.0</td>\n",
       "      <td>10.0</td>\n",
       "      <td>9.0</td>\n",
       "      <td>10.0</td>\n",
       "      <td>10.0</td>\n",
       "      <td>1</td>\n",
       "      <td>1.22</td>\n",
       "    </tr>\n",
       "    <tr>\n",
       "      <th>9</th>\n",
       "      <td>2493658</td>\n",
       "      <td>5177328</td>\n",
       "      <td>6.0</td>\n",
       "      <td>6.0</td>\n",
       "      <td>47.637492</td>\n",
       "      <td>-122.366889</td>\n",
       "      <td>4</td>\n",
       "      <td>1.0</td>\n",
       "      <td>1.0</td>\n",
       "      <td>1.0</td>\n",
       "      <td>...</td>\n",
       "      <td>32</td>\n",
       "      <td>97.0</td>\n",
       "      <td>10.0</td>\n",
       "      <td>10.0</td>\n",
       "      <td>10.0</td>\n",
       "      <td>10.0</td>\n",
       "      <td>10.0</td>\n",
       "      <td>9.0</td>\n",
       "      <td>6</td>\n",
       "      <td>1.55</td>\n",
       "    </tr>\n",
       "  </tbody>\n",
       "</table>\n",
       "<p>10 rows × 30 columns</p>\n",
       "</div>"
      ],
      "text/plain": [
       "        id   host_id  host_listings_count  host_total_listings_count  \\\n",
       "0   241032    956883                  3.0                        3.0   \n",
       "1   953595   5177328                  6.0                        6.0   \n",
       "2  3308979  16708587                  2.0                        2.0   \n",
       "3  7421966   9851441                  1.0                        1.0   \n",
       "4   278830   1452570                  2.0                        2.0   \n",
       "5  5956968    326758                  1.0                        1.0   \n",
       "6  1909058   2497928                  1.0                        1.0   \n",
       "7   856550   4016632                  5.0                        5.0   \n",
       "8  4948745   2166277                  1.0                        1.0   \n",
       "9  2493658   5177328                  6.0                        6.0   \n",
       "\n",
       "    latitude   longitude  accommodates  bathrooms  bedrooms  beds  ...  \\\n",
       "0  47.636289 -122.371025             4        1.0       1.0   1.0  ...   \n",
       "1  47.639123 -122.365666             4        1.0       1.0   1.0  ...   \n",
       "2  47.629724 -122.369483            11        4.5       5.0   7.0  ...   \n",
       "3  47.638473 -122.369279             3        1.0       0.0   2.0  ...   \n",
       "4  47.632918 -122.372471             6        2.0       3.0   3.0  ...   \n",
       "5  47.630525 -122.366174             2        1.0       1.0   1.0  ...   \n",
       "6  47.636605 -122.368519             2        1.0       1.0   1.0  ...   \n",
       "7  47.640161 -122.375856             2        1.0       1.0   1.0  ...   \n",
       "8  47.632410 -122.357216             2        1.0       1.0   1.0  ...   \n",
       "9  47.637492 -122.366889             4        1.0       1.0   1.0  ...   \n",
       "\n",
       "   number_of_reviews  review_scores_rating  review_scores_accuracy  \\\n",
       "0                207                  95.0                    10.0   \n",
       "1                 43                  96.0                    10.0   \n",
       "2                 20                  97.0                    10.0   \n",
       "3                  0                   NaN                     NaN   \n",
       "4                 38                  92.0                     9.0   \n",
       "5                 17                  95.0                    10.0   \n",
       "6                 58                  99.0                    10.0   \n",
       "7                173                  97.0                    10.0   \n",
       "8                  8                  97.0                    10.0   \n",
       "9                 32                  97.0                    10.0   \n",
       "\n",
       "   review_scores_cleanliness  review_scores_checkin  \\\n",
       "0                       10.0                   10.0   \n",
       "1                       10.0                   10.0   \n",
       "2                       10.0                   10.0   \n",
       "3                        NaN                    NaN   \n",
       "4                        9.0                   10.0   \n",
       "5                       10.0                   10.0   \n",
       "6                       10.0                   10.0   \n",
       "7                       10.0                   10.0   \n",
       "8                        9.0                   10.0   \n",
       "9                       10.0                   10.0   \n",
       "\n",
       "   review_scores_communication  review_scores_location  review_scores_value  \\\n",
       "0                         10.0                     9.0                 10.0   \n",
       "1                         10.0                    10.0                 10.0   \n",
       "2                         10.0                    10.0                 10.0   \n",
       "3                          NaN                     NaN                  NaN   \n",
       "4                         10.0                     9.0                  9.0   \n",
       "5                         10.0                    10.0                 10.0   \n",
       "6                         10.0                    10.0                 10.0   \n",
       "7                         10.0                     9.0                 10.0   \n",
       "8                          9.0                    10.0                 10.0   \n",
       "9                         10.0                    10.0                  9.0   \n",
       "\n",
       "   calculated_host_listings_count  reviews_per_month  \n",
       "0                               2               4.07  \n",
       "1                               6               1.48  \n",
       "2                               2               1.15  \n",
       "3                               1                NaN  \n",
       "4                               1               0.89  \n",
       "5                               1               2.45  \n",
       "6                               1               2.46  \n",
       "7                               5               4.73  \n",
       "8                               1               1.22  \n",
       "9                               6               1.55  \n",
       "\n",
       "[10 rows x 30 columns]"
      ]
     },
     "execution_count": 214,
     "metadata": {},
     "output_type": "execute_result"
    }
   ],
   "source": [
    "#Replacing missing values in numeric varaibles with mean\n",
    "listings_num1.head(10)"
   ]
  },
  {
   "cell_type": "code",
   "execution_count": 218,
   "metadata": {},
   "outputs": [
    {
     "data": {
      "text/html": [
       "<div>\n",
       "<style scoped>\n",
       "    .dataframe tbody tr th:only-of-type {\n",
       "        vertical-align: middle;\n",
       "    }\n",
       "\n",
       "    .dataframe tbody tr th {\n",
       "        vertical-align: top;\n",
       "    }\n",
       "\n",
       "    .dataframe thead th {\n",
       "        text-align: right;\n",
       "    }\n",
       "</style>\n",
       "<table border=\"1\" class=\"dataframe\">\n",
       "  <thead>\n",
       "    <tr style=\"text-align: right;\">\n",
       "      <th></th>\n",
       "      <th>id</th>\n",
       "      <th>host_id</th>\n",
       "      <th>host_listings_count</th>\n",
       "      <th>host_total_listings_count</th>\n",
       "      <th>latitude</th>\n",
       "      <th>longitude</th>\n",
       "      <th>accommodates</th>\n",
       "      <th>bathrooms</th>\n",
       "      <th>bedrooms</th>\n",
       "      <th>beds</th>\n",
       "      <th>...</th>\n",
       "      <th>number_of_reviews</th>\n",
       "      <th>review_scores_rating</th>\n",
       "      <th>review_scores_accuracy</th>\n",
       "      <th>review_scores_cleanliness</th>\n",
       "      <th>review_scores_checkin</th>\n",
       "      <th>review_scores_communication</th>\n",
       "      <th>review_scores_location</th>\n",
       "      <th>review_scores_value</th>\n",
       "      <th>calculated_host_listings_count</th>\n",
       "      <th>reviews_per_month</th>\n",
       "    </tr>\n",
       "  </thead>\n",
       "  <tbody>\n",
       "    <tr>\n",
       "      <th>0</th>\n",
       "      <td>241032</td>\n",
       "      <td>956883</td>\n",
       "      <td>3.0</td>\n",
       "      <td>3.0</td>\n",
       "      <td>47.636289</td>\n",
       "      <td>-122.371025</td>\n",
       "      <td>4</td>\n",
       "      <td>1.0</td>\n",
       "      <td>1.0</td>\n",
       "      <td>1.0</td>\n",
       "      <td>...</td>\n",
       "      <td>207</td>\n",
       "      <td>95.000000</td>\n",
       "      <td>10.000000</td>\n",
       "      <td>10.000000</td>\n",
       "      <td>10.000000</td>\n",
       "      <td>10.000000</td>\n",
       "      <td>9.000000</td>\n",
       "      <td>10.000000</td>\n",
       "      <td>2</td>\n",
       "      <td>4.070000</td>\n",
       "    </tr>\n",
       "    <tr>\n",
       "      <th>1</th>\n",
       "      <td>953595</td>\n",
       "      <td>5177328</td>\n",
       "      <td>6.0</td>\n",
       "      <td>6.0</td>\n",
       "      <td>47.639123</td>\n",
       "      <td>-122.365666</td>\n",
       "      <td>4</td>\n",
       "      <td>1.0</td>\n",
       "      <td>1.0</td>\n",
       "      <td>1.0</td>\n",
       "      <td>...</td>\n",
       "      <td>43</td>\n",
       "      <td>96.000000</td>\n",
       "      <td>10.000000</td>\n",
       "      <td>10.000000</td>\n",
       "      <td>10.000000</td>\n",
       "      <td>10.000000</td>\n",
       "      <td>10.000000</td>\n",
       "      <td>10.000000</td>\n",
       "      <td>6</td>\n",
       "      <td>1.480000</td>\n",
       "    </tr>\n",
       "    <tr>\n",
       "      <th>2</th>\n",
       "      <td>3308979</td>\n",
       "      <td>16708587</td>\n",
       "      <td>2.0</td>\n",
       "      <td>2.0</td>\n",
       "      <td>47.629724</td>\n",
       "      <td>-122.369483</td>\n",
       "      <td>11</td>\n",
       "      <td>4.5</td>\n",
       "      <td>5.0</td>\n",
       "      <td>7.0</td>\n",
       "      <td>...</td>\n",
       "      <td>20</td>\n",
       "      <td>97.000000</td>\n",
       "      <td>10.000000</td>\n",
       "      <td>10.000000</td>\n",
       "      <td>10.000000</td>\n",
       "      <td>10.000000</td>\n",
       "      <td>10.000000</td>\n",
       "      <td>10.000000</td>\n",
       "      <td>2</td>\n",
       "      <td>1.150000</td>\n",
       "    </tr>\n",
       "    <tr>\n",
       "      <th>3</th>\n",
       "      <td>7421966</td>\n",
       "      <td>9851441</td>\n",
       "      <td>1.0</td>\n",
       "      <td>1.0</td>\n",
       "      <td>47.638473</td>\n",
       "      <td>-122.369279</td>\n",
       "      <td>3</td>\n",
       "      <td>1.0</td>\n",
       "      <td>0.0</td>\n",
       "      <td>2.0</td>\n",
       "      <td>...</td>\n",
       "      <td>0</td>\n",
       "      <td>94.539262</td>\n",
       "      <td>9.636392</td>\n",
       "      <td>9.556398</td>\n",
       "      <td>9.786709</td>\n",
       "      <td>9.809599</td>\n",
       "      <td>9.608916</td>\n",
       "      <td>9.452245</td>\n",
       "      <td>1</td>\n",
       "      <td>2.078919</td>\n",
       "    </tr>\n",
       "    <tr>\n",
       "      <th>4</th>\n",
       "      <td>278830</td>\n",
       "      <td>1452570</td>\n",
       "      <td>2.0</td>\n",
       "      <td>2.0</td>\n",
       "      <td>47.632918</td>\n",
       "      <td>-122.372471</td>\n",
       "      <td>6</td>\n",
       "      <td>2.0</td>\n",
       "      <td>3.0</td>\n",
       "      <td>3.0</td>\n",
       "      <td>...</td>\n",
       "      <td>38</td>\n",
       "      <td>92.000000</td>\n",
       "      <td>9.000000</td>\n",
       "      <td>9.000000</td>\n",
       "      <td>10.000000</td>\n",
       "      <td>10.000000</td>\n",
       "      <td>9.000000</td>\n",
       "      <td>9.000000</td>\n",
       "      <td>1</td>\n",
       "      <td>0.890000</td>\n",
       "    </tr>\n",
       "    <tr>\n",
       "      <th>5</th>\n",
       "      <td>5956968</td>\n",
       "      <td>326758</td>\n",
       "      <td>1.0</td>\n",
       "      <td>1.0</td>\n",
       "      <td>47.630525</td>\n",
       "      <td>-122.366174</td>\n",
       "      <td>2</td>\n",
       "      <td>1.0</td>\n",
       "      <td>1.0</td>\n",
       "      <td>1.0</td>\n",
       "      <td>...</td>\n",
       "      <td>17</td>\n",
       "      <td>95.000000</td>\n",
       "      <td>10.000000</td>\n",
       "      <td>10.000000</td>\n",
       "      <td>10.000000</td>\n",
       "      <td>10.000000</td>\n",
       "      <td>10.000000</td>\n",
       "      <td>10.000000</td>\n",
       "      <td>1</td>\n",
       "      <td>2.450000</td>\n",
       "    </tr>\n",
       "    <tr>\n",
       "      <th>6</th>\n",
       "      <td>1909058</td>\n",
       "      <td>2497928</td>\n",
       "      <td>1.0</td>\n",
       "      <td>1.0</td>\n",
       "      <td>47.636605</td>\n",
       "      <td>-122.368519</td>\n",
       "      <td>2</td>\n",
       "      <td>1.0</td>\n",
       "      <td>1.0</td>\n",
       "      <td>1.0</td>\n",
       "      <td>...</td>\n",
       "      <td>58</td>\n",
       "      <td>99.000000</td>\n",
       "      <td>10.000000</td>\n",
       "      <td>10.000000</td>\n",
       "      <td>10.000000</td>\n",
       "      <td>10.000000</td>\n",
       "      <td>10.000000</td>\n",
       "      <td>10.000000</td>\n",
       "      <td>1</td>\n",
       "      <td>2.460000</td>\n",
       "    </tr>\n",
       "    <tr>\n",
       "      <th>7</th>\n",
       "      <td>856550</td>\n",
       "      <td>4016632</td>\n",
       "      <td>5.0</td>\n",
       "      <td>5.0</td>\n",
       "      <td>47.640161</td>\n",
       "      <td>-122.375856</td>\n",
       "      <td>2</td>\n",
       "      <td>1.0</td>\n",
       "      <td>1.0</td>\n",
       "      <td>1.0</td>\n",
       "      <td>...</td>\n",
       "      <td>173</td>\n",
       "      <td>97.000000</td>\n",
       "      <td>10.000000</td>\n",
       "      <td>10.000000</td>\n",
       "      <td>10.000000</td>\n",
       "      <td>10.000000</td>\n",
       "      <td>9.000000</td>\n",
       "      <td>10.000000</td>\n",
       "      <td>5</td>\n",
       "      <td>4.730000</td>\n",
       "    </tr>\n",
       "    <tr>\n",
       "      <th>8</th>\n",
       "      <td>4948745</td>\n",
       "      <td>2166277</td>\n",
       "      <td>1.0</td>\n",
       "      <td>1.0</td>\n",
       "      <td>47.632410</td>\n",
       "      <td>-122.357216</td>\n",
       "      <td>2</td>\n",
       "      <td>1.0</td>\n",
       "      <td>1.0</td>\n",
       "      <td>1.0</td>\n",
       "      <td>...</td>\n",
       "      <td>8</td>\n",
       "      <td>97.000000</td>\n",
       "      <td>10.000000</td>\n",
       "      <td>9.000000</td>\n",
       "      <td>10.000000</td>\n",
       "      <td>9.000000</td>\n",
       "      <td>10.000000</td>\n",
       "      <td>10.000000</td>\n",
       "      <td>1</td>\n",
       "      <td>1.220000</td>\n",
       "    </tr>\n",
       "    <tr>\n",
       "      <th>9</th>\n",
       "      <td>2493658</td>\n",
       "      <td>5177328</td>\n",
       "      <td>6.0</td>\n",
       "      <td>6.0</td>\n",
       "      <td>47.637492</td>\n",
       "      <td>-122.366889</td>\n",
       "      <td>4</td>\n",
       "      <td>1.0</td>\n",
       "      <td>1.0</td>\n",
       "      <td>1.0</td>\n",
       "      <td>...</td>\n",
       "      <td>32</td>\n",
       "      <td>97.000000</td>\n",
       "      <td>10.000000</td>\n",
       "      <td>10.000000</td>\n",
       "      <td>10.000000</td>\n",
       "      <td>10.000000</td>\n",
       "      <td>10.000000</td>\n",
       "      <td>9.000000</td>\n",
       "      <td>6</td>\n",
       "      <td>1.550000</td>\n",
       "    </tr>\n",
       "  </tbody>\n",
       "</table>\n",
       "<p>10 rows × 30 columns</p>\n",
       "</div>"
      ],
      "text/plain": [
       "        id   host_id  host_listings_count  host_total_listings_count  \\\n",
       "0   241032    956883                  3.0                        3.0   \n",
       "1   953595   5177328                  6.0                        6.0   \n",
       "2  3308979  16708587                  2.0                        2.0   \n",
       "3  7421966   9851441                  1.0                        1.0   \n",
       "4   278830   1452570                  2.0                        2.0   \n",
       "5  5956968    326758                  1.0                        1.0   \n",
       "6  1909058   2497928                  1.0                        1.0   \n",
       "7   856550   4016632                  5.0                        5.0   \n",
       "8  4948745   2166277                  1.0                        1.0   \n",
       "9  2493658   5177328                  6.0                        6.0   \n",
       "\n",
       "    latitude   longitude  accommodates  bathrooms  bedrooms  beds  ...  \\\n",
       "0  47.636289 -122.371025             4        1.0       1.0   1.0  ...   \n",
       "1  47.639123 -122.365666             4        1.0       1.0   1.0  ...   \n",
       "2  47.629724 -122.369483            11        4.5       5.0   7.0  ...   \n",
       "3  47.638473 -122.369279             3        1.0       0.0   2.0  ...   \n",
       "4  47.632918 -122.372471             6        2.0       3.0   3.0  ...   \n",
       "5  47.630525 -122.366174             2        1.0       1.0   1.0  ...   \n",
       "6  47.636605 -122.368519             2        1.0       1.0   1.0  ...   \n",
       "7  47.640161 -122.375856             2        1.0       1.0   1.0  ...   \n",
       "8  47.632410 -122.357216             2        1.0       1.0   1.0  ...   \n",
       "9  47.637492 -122.366889             4        1.0       1.0   1.0  ...   \n",
       "\n",
       "   number_of_reviews  review_scores_rating  review_scores_accuracy  \\\n",
       "0                207             95.000000               10.000000   \n",
       "1                 43             96.000000               10.000000   \n",
       "2                 20             97.000000               10.000000   \n",
       "3                  0             94.539262                9.636392   \n",
       "4                 38             92.000000                9.000000   \n",
       "5                 17             95.000000               10.000000   \n",
       "6                 58             99.000000               10.000000   \n",
       "7                173             97.000000               10.000000   \n",
       "8                  8             97.000000               10.000000   \n",
       "9                 32             97.000000               10.000000   \n",
       "\n",
       "   review_scores_cleanliness  review_scores_checkin  \\\n",
       "0                  10.000000              10.000000   \n",
       "1                  10.000000              10.000000   \n",
       "2                  10.000000              10.000000   \n",
       "3                   9.556398               9.786709   \n",
       "4                   9.000000              10.000000   \n",
       "5                  10.000000              10.000000   \n",
       "6                  10.000000              10.000000   \n",
       "7                  10.000000              10.000000   \n",
       "8                   9.000000              10.000000   \n",
       "9                  10.000000              10.000000   \n",
       "\n",
       "   review_scores_communication  review_scores_location  review_scores_value  \\\n",
       "0                    10.000000                9.000000            10.000000   \n",
       "1                    10.000000               10.000000            10.000000   \n",
       "2                    10.000000               10.000000            10.000000   \n",
       "3                     9.809599                9.608916             9.452245   \n",
       "4                    10.000000                9.000000             9.000000   \n",
       "5                    10.000000               10.000000            10.000000   \n",
       "6                    10.000000               10.000000            10.000000   \n",
       "7                    10.000000                9.000000            10.000000   \n",
       "8                     9.000000               10.000000            10.000000   \n",
       "9                    10.000000               10.000000             9.000000   \n",
       "\n",
       "   calculated_host_listings_count  reviews_per_month  \n",
       "0                               2           4.070000  \n",
       "1                               6           1.480000  \n",
       "2                               2           1.150000  \n",
       "3                               1           2.078919  \n",
       "4                               1           0.890000  \n",
       "5                               1           2.450000  \n",
       "6                               1           2.460000  \n",
       "7                               5           4.730000  \n",
       "8                               1           1.220000  \n",
       "9                               6           1.550000  \n",
       "\n",
       "[10 rows x 30 columns]"
      ]
     },
     "execution_count": 218,
     "metadata": {},
     "output_type": "execute_result"
    }
   ],
   "source": [
    "f = lambda i: i.fillna(i.mean())\n",
    "listings_num2 = listings_num1.apply(f, axis = 0)\n",
    "listings_num2.head(10)"
   ]
  },
  {
   "cell_type": "code",
   "execution_count": 229,
   "metadata": {},
   "outputs": [
    {
     "data": {
      "text/plain": [
       "(3818, 30)"
      ]
     },
     "execution_count": 229,
     "metadata": {},
     "output_type": "execute_result"
    }
   ],
   "source": [
    "listings_num2.shape"
   ]
  },
  {
   "cell_type": "code",
   "execution_count": 230,
   "metadata": {},
   "outputs": [
    {
     "data": {
      "text/plain": [
       "(3818, 126)"
      ]
     },
     "execution_count": 230,
     "metadata": {},
     "output_type": "execute_result"
    }
   ],
   "source": [
    "listings_char2.shape"
   ]
  },
  {
   "cell_type": "code",
   "execution_count": 231,
   "metadata": {},
   "outputs": [],
   "source": [
    "comb = pd.concat([listings_num2, listings_char2], axis = 1)"
   ]
  },
  {
   "cell_type": "code",
   "execution_count": 232,
   "metadata": {},
   "outputs": [
    {
     "data": {
      "text/plain": [
       "(3818, 156)"
      ]
     },
     "execution_count": 232,
     "metadata": {},
     "output_type": "execute_result"
    }
   ],
   "source": [
    "comb.shape"
   ]
  },
  {
   "cell_type": "code",
   "execution_count": 233,
   "metadata": {},
   "outputs": [
    {
     "data": {
      "text/html": [
       "<div>\n",
       "<style scoped>\n",
       "    .dataframe tbody tr th:only-of-type {\n",
       "        vertical-align: middle;\n",
       "    }\n",
       "\n",
       "    .dataframe tbody tr th {\n",
       "        vertical-align: top;\n",
       "    }\n",
       "\n",
       "    .dataframe thead th {\n",
       "        text-align: right;\n",
       "    }\n",
       "</style>\n",
       "<table border=\"1\" class=\"dataframe\">\n",
       "  <thead>\n",
       "    <tr style=\"text-align: right;\">\n",
       "      <th></th>\n",
       "      <th>id</th>\n",
       "      <th>host_id</th>\n",
       "      <th>host_listings_count</th>\n",
       "      <th>host_total_listings_count</th>\n",
       "      <th>latitude</th>\n",
       "      <th>longitude</th>\n",
       "      <th>accommodates</th>\n",
       "      <th>bathrooms</th>\n",
       "      <th>bedrooms</th>\n",
       "      <th>beds</th>\n",
       "      <th>...</th>\n",
       "      <th>zipcode_98133</th>\n",
       "      <th>zipcode_98134</th>\n",
       "      <th>zipcode_98136</th>\n",
       "      <th>zipcode_98144</th>\n",
       "      <th>zipcode_98146</th>\n",
       "      <th>zipcode_98177</th>\n",
       "      <th>zipcode_98178</th>\n",
       "      <th>zipcode_98199</th>\n",
       "      <th>zipcode_99\\n98122</th>\n",
       "      <th>zipcode_nan</th>\n",
       "    </tr>\n",
       "  </thead>\n",
       "  <tbody>\n",
       "    <tr>\n",
       "      <th>0</th>\n",
       "      <td>241032</td>\n",
       "      <td>956883</td>\n",
       "      <td>3.0</td>\n",
       "      <td>3.0</td>\n",
       "      <td>47.636289</td>\n",
       "      <td>-122.371025</td>\n",
       "      <td>4</td>\n",
       "      <td>1.0</td>\n",
       "      <td>1.0</td>\n",
       "      <td>1.0</td>\n",
       "      <td>...</td>\n",
       "      <td>0</td>\n",
       "      <td>0</td>\n",
       "      <td>0</td>\n",
       "      <td>0</td>\n",
       "      <td>0</td>\n",
       "      <td>0</td>\n",
       "      <td>0</td>\n",
       "      <td>0</td>\n",
       "      <td>0</td>\n",
       "      <td>0</td>\n",
       "    </tr>\n",
       "    <tr>\n",
       "      <th>1</th>\n",
       "      <td>953595</td>\n",
       "      <td>5177328</td>\n",
       "      <td>6.0</td>\n",
       "      <td>6.0</td>\n",
       "      <td>47.639123</td>\n",
       "      <td>-122.365666</td>\n",
       "      <td>4</td>\n",
       "      <td>1.0</td>\n",
       "      <td>1.0</td>\n",
       "      <td>1.0</td>\n",
       "      <td>...</td>\n",
       "      <td>0</td>\n",
       "      <td>0</td>\n",
       "      <td>0</td>\n",
       "      <td>0</td>\n",
       "      <td>0</td>\n",
       "      <td>0</td>\n",
       "      <td>0</td>\n",
       "      <td>0</td>\n",
       "      <td>0</td>\n",
       "      <td>0</td>\n",
       "    </tr>\n",
       "  </tbody>\n",
       "</table>\n",
       "<p>2 rows × 156 columns</p>\n",
       "</div>"
      ],
      "text/plain": [
       "       id  host_id  host_listings_count  host_total_listings_count   latitude  \\\n",
       "0  241032   956883                  3.0                        3.0  47.636289   \n",
       "1  953595  5177328                  6.0                        6.0  47.639123   \n",
       "\n",
       "    longitude  accommodates  bathrooms  bedrooms  beds  ...  zipcode_98133  \\\n",
       "0 -122.371025             4        1.0       1.0   1.0  ...              0   \n",
       "1 -122.365666             4        1.0       1.0   1.0  ...              0   \n",
       "\n",
       "   zipcode_98134  zipcode_98136  zipcode_98144  zipcode_98146  zipcode_98177  \\\n",
       "0              0              0              0              0              0   \n",
       "1              0              0              0              0              0   \n",
       "\n",
       "   zipcode_98178  zipcode_98199  zipcode_99\\n98122  zipcode_nan  \n",
       "0              0              0                  0            0  \n",
       "1              0              0                  0            0  \n",
       "\n",
       "[2 rows x 156 columns]"
      ]
     },
     "execution_count": 233,
     "metadata": {},
     "output_type": "execute_result"
    }
   ],
   "source": [
    "comb.head(2)"
   ]
  },
  {
   "cell_type": "code",
   "execution_count": 238,
   "metadata": {},
   "outputs": [
    {
     "name": "stdout",
     "output_type": "stream",
     "text": [
      "id\n",
      "host_id\n",
      "host_listings_count\n",
      "host_total_listings_count\n",
      "latitude\n",
      "longitude\n",
      "accommodates\n",
      "bathrooms\n",
      "bedrooms\n",
      "beds\n",
      "price\n",
      "cleaning_fee\n",
      "guests_included\n",
      "extra_people\n",
      "minimum_nights\n",
      "maximum_nights\n",
      "availability_30\n",
      "availability_60\n",
      "availability_90\n",
      "availability_365\n",
      "number_of_reviews\n",
      "review_scores_rating\n",
      "review_scores_accuracy\n",
      "review_scores_cleanliness\n",
      "review_scores_checkin\n",
      "review_scores_communication\n",
      "review_scores_location\n",
      "review_scores_value\n",
      "calculated_host_listings_count\n",
      "reviews_per_month\n",
      "host_acceptance_rate_0%\n",
      "host_acceptance_rate_100%\n",
      "host_acceptance_rate_nan\n",
      "host_is_superhost_f\n",
      "host_is_superhost_t\n",
      "host_is_superhost_nan\n",
      "host_has_profile_pic_f\n",
      "host_has_profile_pic_t\n",
      "host_has_profile_pic_nan\n",
      "host_identity_verified_f\n",
      "host_identity_verified_t\n",
      "host_identity_verified_nan\n",
      "state_WA\n",
      "state_wa\n",
      "state_nan\n",
      "is_location_exact_f\n",
      "is_location_exact_t\n",
      "is_location_exact_nan\n",
      "instant_bookable_f\n",
      "instant_bookable_t\n",
      "instant_bookable_nan\n",
      "require_guest_profile_picture_f\n",
      "require_guest_profile_picture_t\n",
      "require_guest_profile_picture_nan\n",
      "require_guest_phone_verification_f\n",
      "require_guest_phone_verification_t\n",
      "require_guest_phone_verification_nan\n",
      "room_type_Entire home/apt\n",
      "room_type_Private room\n",
      "room_type_Shared room\n",
      "room_type_nan\n",
      "cancellation_policy_flexible\n",
      "cancellation_policy_moderate\n",
      "cancellation_policy_strict\n",
      "cancellation_policy_nan\n",
      "host_response_time_a few days or more\n",
      "host_response_time_within a day\n",
      "host_response_time_within a few hours\n",
      "host_response_time_within an hour\n",
      "host_response_time_nan\n",
      "bed_type_Airbed\n",
      "bed_type_Couch\n",
      "bed_type_Futon\n",
      "bed_type_Pull-out Sofa\n",
      "bed_type_Real Bed\n",
      "bed_type_nan\n",
      "city_Ballard, Seattle\n",
      "city_Phinney Ridge Seattle\n",
      "city_Seattle\n",
      "city_Seattle \n",
      "city_West Seattle\n",
      "city_seattle\n",
      "city_西雅图\n",
      "city_nan\n",
      "smart_location_Ballard, Seattle, WA\n",
      "smart_location_Phinney Ridge Seattle, WA\n",
      "smart_location_Seattle , WA\n",
      "smart_location_Seattle, WA\n",
      "smart_location_West Seattle, WA\n",
      "smart_location_seattle, wa\n",
      "smart_location_西雅图, WA\n",
      "smart_location_nan\n",
      "property_type_Apartment\n",
      "property_type_Bed & Breakfast\n",
      "property_type_Boat\n",
      "property_type_Bungalow\n",
      "property_type_Cabin\n",
      "property_type_Camper/RV\n",
      "property_type_Chalet\n",
      "property_type_Condominium\n",
      "property_type_Dorm\n",
      "property_type_House\n",
      "property_type_Loft\n",
      "property_type_Other\n",
      "property_type_Tent\n",
      "property_type_Townhouse\n",
      "property_type_Treehouse\n",
      "property_type_Yurt\n",
      "property_type_nan\n",
      "neighbourhood_group_cleansed_Ballard\n",
      "neighbourhood_group_cleansed_Beacon Hill\n",
      "neighbourhood_group_cleansed_Capitol Hill\n",
      "neighbourhood_group_cleansed_Cascade\n",
      "neighbourhood_group_cleansed_Central Area\n",
      "neighbourhood_group_cleansed_Delridge\n",
      "neighbourhood_group_cleansed_Downtown\n",
      "neighbourhood_group_cleansed_Interbay\n",
      "neighbourhood_group_cleansed_Lake City\n",
      "neighbourhood_group_cleansed_Magnolia\n",
      "neighbourhood_group_cleansed_Northgate\n",
      "neighbourhood_group_cleansed_Other neighborhoods\n",
      "neighbourhood_group_cleansed_Queen Anne\n",
      "neighbourhood_group_cleansed_Rainier Valley\n",
      "neighbourhood_group_cleansed_Seward Park\n",
      "neighbourhood_group_cleansed_University District\n",
      "neighbourhood_group_cleansed_West Seattle\n",
      "neighbourhood_group_cleansed_nan\n",
      "zipcode_98101\n",
      "zipcode_98102\n",
      "zipcode_98103\n",
      "zipcode_98104\n",
      "zipcode_98105\n",
      "zipcode_98106\n",
      "zipcode_98107\n",
      "zipcode_98108\n",
      "zipcode_98109\n",
      "zipcode_98112\n",
      "zipcode_98115\n",
      "zipcode_98116\n",
      "zipcode_98117\n",
      "zipcode_98118\n",
      "zipcode_98119\n",
      "zipcode_98121\n",
      "zipcode_98122\n",
      "zipcode_98125\n",
      "zipcode_98126\n",
      "zipcode_98133\n",
      "zipcode_98134\n",
      "zipcode_98136\n",
      "zipcode_98144\n",
      "zipcode_98146\n",
      "zipcode_98177\n",
      "zipcode_98178\n",
      "zipcode_98199\n",
      "zipcode_99\n",
      "98122\n",
      "zipcode_nan\n"
     ]
    }
   ],
   "source": [
    "for i in comb.columns:\n",
    "    print(i)"
   ]
  },
  {
   "cell_type": "markdown",
   "metadata": {},
   "source": [
    "Keeping dependent variable into 'y' and the indepdent variables into 'X'"
   ]
  },
  {
   "cell_type": "code",
   "execution_count": 326,
   "metadata": {},
   "outputs": [],
   "source": [
    "y = comb['price']"
   ]
  },
  {
   "cell_type": "code",
   "execution_count": 327,
   "metadata": {},
   "outputs": [],
   "source": [
    "X = comb.drop(['price', 'id', 'host_id'], axis = 1)"
   ]
  },
  {
   "cell_type": "code",
   "execution_count": 328,
   "metadata": {},
   "outputs": [
    {
     "data": {
      "text/plain": [
       "(3818, 153)"
      ]
     },
     "execution_count": 328,
     "metadata": {},
     "output_type": "execute_result"
    }
   ],
   "source": [
    "X.shape"
   ]
  },
  {
   "cell_type": "code",
   "execution_count": 329,
   "metadata": {},
   "outputs": [
    {
     "data": {
      "text/html": [
       "<div>\n",
       "<style scoped>\n",
       "    .dataframe tbody tr th:only-of-type {\n",
       "        vertical-align: middle;\n",
       "    }\n",
       "\n",
       "    .dataframe tbody tr th {\n",
       "        vertical-align: top;\n",
       "    }\n",
       "\n",
       "    .dataframe thead th {\n",
       "        text-align: right;\n",
       "    }\n",
       "</style>\n",
       "<table border=\"1\" class=\"dataframe\">\n",
       "  <thead>\n",
       "    <tr style=\"text-align: right;\">\n",
       "      <th></th>\n",
       "      <th>host_listings_count</th>\n",
       "      <th>host_total_listings_count</th>\n",
       "      <th>latitude</th>\n",
       "      <th>longitude</th>\n",
       "      <th>accommodates</th>\n",
       "      <th>bathrooms</th>\n",
       "      <th>bedrooms</th>\n",
       "      <th>beds</th>\n",
       "      <th>cleaning_fee</th>\n",
       "      <th>guests_included</th>\n",
       "      <th>...</th>\n",
       "      <th>zipcode_98133</th>\n",
       "      <th>zipcode_98134</th>\n",
       "      <th>zipcode_98136</th>\n",
       "      <th>zipcode_98144</th>\n",
       "      <th>zipcode_98146</th>\n",
       "      <th>zipcode_98177</th>\n",
       "      <th>zipcode_98178</th>\n",
       "      <th>zipcode_98199</th>\n",
       "      <th>zipcode_99\\n98122</th>\n",
       "      <th>zipcode_nan</th>\n",
       "    </tr>\n",
       "  </thead>\n",
       "  <tbody>\n",
       "    <tr>\n",
       "      <th>0</th>\n",
       "      <td>3.0</td>\n",
       "      <td>3.0</td>\n",
       "      <td>47.636289</td>\n",
       "      <td>-122.371025</td>\n",
       "      <td>4</td>\n",
       "      <td>1.0</td>\n",
       "      <td>1.0</td>\n",
       "      <td>1.0</td>\n",
       "      <td>61.710903</td>\n",
       "      <td>2</td>\n",
       "      <td>...</td>\n",
       "      <td>0</td>\n",
       "      <td>0</td>\n",
       "      <td>0</td>\n",
       "      <td>0</td>\n",
       "      <td>0</td>\n",
       "      <td>0</td>\n",
       "      <td>0</td>\n",
       "      <td>0</td>\n",
       "      <td>0</td>\n",
       "      <td>0</td>\n",
       "    </tr>\n",
       "    <tr>\n",
       "      <th>1</th>\n",
       "      <td>6.0</td>\n",
       "      <td>6.0</td>\n",
       "      <td>47.639123</td>\n",
       "      <td>-122.365666</td>\n",
       "      <td>4</td>\n",
       "      <td>1.0</td>\n",
       "      <td>1.0</td>\n",
       "      <td>1.0</td>\n",
       "      <td>40.000000</td>\n",
       "      <td>1</td>\n",
       "      <td>...</td>\n",
       "      <td>0</td>\n",
       "      <td>0</td>\n",
       "      <td>0</td>\n",
       "      <td>0</td>\n",
       "      <td>0</td>\n",
       "      <td>0</td>\n",
       "      <td>0</td>\n",
       "      <td>0</td>\n",
       "      <td>0</td>\n",
       "      <td>0</td>\n",
       "    </tr>\n",
       "  </tbody>\n",
       "</table>\n",
       "<p>2 rows × 153 columns</p>\n",
       "</div>"
      ],
      "text/plain": [
       "   host_listings_count  host_total_listings_count   latitude   longitude  \\\n",
       "0                  3.0                        3.0  47.636289 -122.371025   \n",
       "1                  6.0                        6.0  47.639123 -122.365666   \n",
       "\n",
       "   accommodates  bathrooms  bedrooms  beds  cleaning_fee  guests_included  \\\n",
       "0             4        1.0       1.0   1.0     61.710903                2   \n",
       "1             4        1.0       1.0   1.0     40.000000                1   \n",
       "\n",
       "   ...  zipcode_98133  zipcode_98134  zipcode_98136  zipcode_98144  \\\n",
       "0  ...              0              0              0              0   \n",
       "1  ...              0              0              0              0   \n",
       "\n",
       "   zipcode_98146  zipcode_98177  zipcode_98178  zipcode_98199  \\\n",
       "0              0              0              0              0   \n",
       "1              0              0              0              0   \n",
       "\n",
       "   zipcode_99\\n98122  zipcode_nan  \n",
       "0                  0            0  \n",
       "1                  0            0  \n",
       "\n",
       "[2 rows x 153 columns]"
      ]
     },
     "execution_count": 329,
     "metadata": {},
     "output_type": "execute_result"
    }
   ],
   "source": [
    "X.head(2)"
   ]
  },
  {
   "cell_type": "code",
   "execution_count": 330,
   "metadata": {},
   "outputs": [],
   "source": [
    "X_train, X_test, y_train, y_test = train_test_split(X, y, test_size = 0.2, random_state = 42)"
   ]
  },
  {
   "cell_type": "code",
   "execution_count": 331,
   "metadata": {},
   "outputs": [],
   "source": [
    "model = LinearRegression(normalize = True)"
   ]
  },
  {
   "cell_type": "code",
   "execution_count": 332,
   "metadata": {},
   "outputs": [
    {
     "data": {
      "text/plain": [
       "LinearRegression(normalize=True)"
      ]
     },
     "execution_count": 332,
     "metadata": {},
     "output_type": "execute_result"
    }
   ],
   "source": [
    "model.fit(X_train, y_train)"
   ]
  },
  {
   "cell_type": "code",
   "execution_count": 333,
   "metadata": {},
   "outputs": [
    {
     "data": {
      "text/plain": [
       "LinearRegression(normalize=True)"
      ]
     },
     "execution_count": 333,
     "metadata": {},
     "output_type": "execute_result"
    }
   ],
   "source": [
    "model"
   ]
  },
  {
   "cell_type": "code",
   "execution_count": 334,
   "metadata": {},
   "outputs": [],
   "source": [
    "pred_train = model.predict(X_train)"
   ]
  },
  {
   "cell_type": "code",
   "execution_count": 335,
   "metadata": {},
   "outputs": [
    {
     "data": {
      "text/plain": [
       "0.6026153227418978"
      ]
     },
     "execution_count": 335,
     "metadata": {},
     "output_type": "execute_result"
    }
   ],
   "source": [
    "r2_score(y_train, pred_train)"
   ]
  },
  {
   "cell_type": "code",
   "execution_count": 336,
   "metadata": {},
   "outputs": [],
   "source": [
    "import statsmodels.api as sm"
   ]
  },
  {
   "cell_type": "code",
   "execution_count": 337,
   "metadata": {},
   "outputs": [],
   "source": [
    "model1 = sm.OLS(y_train, X_train)"
   ]
  },
  {
   "cell_type": "code",
   "execution_count": 338,
   "metadata": {},
   "outputs": [],
   "source": [
    "results = model1.fit()"
   ]
  },
  {
   "cell_type": "code",
   "execution_count": 339,
   "metadata": {},
   "outputs": [
    {
     "name": "stdout",
     "output_type": "stream",
     "text": [
      "                            OLS Regression Results                            \n",
      "==============================================================================\n",
      "Dep. Variable:                  price   R-squared:                       0.623\n",
      "Model:                            OLS   Adj. R-squared:                  0.609\n",
      "Method:                 Least Squares   F-statistic:                     43.06\n",
      "Date:                Fri, 13 Nov 2020   Prob (F-statistic):               0.00\n",
      "Time:                        14:14:09   Log-Likelihood:                -16594.\n",
      "No. Observations:                3054   AIC:                         3.342e+04\n",
      "Df Residuals:                    2940   BIC:                         3.410e+04\n",
      "Df Model:                         113                                         \n",
      "Covariance Type:            nonrobust                                         \n",
      "====================================================================================================================\n",
      "                                                       coef    std err          t      P>|t|      [0.025      0.975]\n",
      "--------------------------------------------------------------------------------------------------------------------\n",
      "host_listings_count                                 -0.0026      0.019     -0.138      0.891      -0.040       0.035\n",
      "host_total_listings_count                           -0.0026      0.019     -0.138      0.891      -0.040       0.035\n",
      "latitude                                          -273.1343    123.920     -2.204      0.028    -516.113     -30.156\n",
      "longitude                                         -137.9365    124.618     -1.107      0.268    -382.284     106.411\n",
      "accommodates                                         8.0158      1.295      6.189      0.000       5.476      10.555\n",
      "bathrooms                                           22.8025      2.438      9.353      0.000      18.022      27.583\n",
      "bedrooms                                            25.5985      2.271     11.274      0.000      21.146      30.051\n",
      "beds                                                -0.2558      1.985     -0.129      0.897      -4.148       3.636\n",
      "cleaning_fee                                         0.3197      0.035      9.127      0.000       0.251       0.388\n",
      "guests_included                                      3.2973      1.101      2.994      0.003       1.138       5.457\n",
      "extra_people                                         0.1041      0.068      1.529      0.126      -0.029       0.238\n",
      "minimum_nights                                      -0.0158      0.057     -0.279      0.781      -0.127       0.095\n",
      "maximum_nights                                      -0.0006      0.001     -0.992      0.321      -0.002       0.001\n",
      "availability_30                                     -0.0975      0.276     -0.354      0.724      -0.638       0.443\n",
      "availability_60                                      0.0643      0.308      0.209      0.835      -0.540       0.669\n",
      "availability_90                                      0.0607      0.161      0.377      0.706      -0.255       0.376\n",
      "availability_365                                     0.0166      0.011      1.531      0.126      -0.005       0.038\n",
      "number_of_reviews                                   -0.0655      0.036     -1.837      0.066      -0.135       0.004\n",
      "review_scores_rating                                 0.6361      0.299      2.129      0.033       0.050       1.222\n",
      "review_scores_accuracy                               2.9934      2.248      1.331      0.183      -1.415       7.402\n",
      "review_scores_cleanliness                            1.3948      1.947      0.716      0.474      -2.422       5.212\n",
      "review_scores_checkin                               -1.0873      2.775     -0.392      0.695      -6.528       4.353\n",
      "review_scores_communication                          0.1885      3.030      0.062      0.950      -5.752       6.129\n",
      "review_scores_location                               1.6506      2.198      0.751      0.453      -2.658       5.960\n",
      "review_scores_value                                 -5.5266      2.261     -2.444      0.015      -9.961      -1.093\n",
      "calculated_host_listings_count                       0.0435      0.225      0.193      0.847      -0.398       0.485\n",
      "reviews_per_month                                   -1.7820      0.847     -2.103      0.036      -3.443      -0.120\n",
      "host_acceptance_rate_0%                           -218.6370    962.989     -0.227      0.820   -2106.838    1669.564\n",
      "host_acceptance_rate_100%                         -261.7190    961.363     -0.272      0.785   -2146.732    1623.294\n",
      "host_acceptance_rate_nan                          -233.4295    961.317     -0.243      0.808   -2118.352    1651.493\n",
      "host_is_superhost_f                               -241.3687    961.432     -0.251      0.802   -2126.517    1643.780\n",
      "host_is_superhost_t                               -229.3021    961.403     -0.239      0.812   -2114.394    1655.790\n",
      "host_is_superhost_nan                             -243.1148    961.796     -0.253      0.800   -2128.976    1642.746\n",
      "host_has_profile_pic_f                            -239.0630    961.647     -0.249      0.804   -2124.633    1646.507\n",
      "host_has_profile_pic_t                            -231.6078    961.400     -0.241      0.810   -2116.693    1653.477\n",
      "host_has_profile_pic_nan                          -243.1148    961.796     -0.253      0.800   -2128.976    1642.746\n",
      "host_identity_verified_f                          -235.0639    961.396     -0.245      0.807   -2120.142    1650.014\n",
      "host_identity_verified_t                          -235.6069    961.439     -0.245      0.806   -2120.769    1649.555\n",
      "host_identity_verified_nan                        -243.1148    961.796     -0.253      0.800   -2128.976    1642.746\n",
      "state_WA                                          -488.2484   1966.369     -0.248      0.804   -4343.849    3367.352\n",
      "state_wa                                          -225.5371    918.280     -0.246      0.806   -2026.074    1574.999\n",
      "state_nan                                         2.369e-11   9.88e-11      0.240      0.811    -1.7e-10    2.18e-10\n",
      "is_location_exact_f                               -358.7275   1442.289     -0.249      0.804   -3186.726    2469.271\n",
      "is_location_exact_t                               -355.0581   1442.210     -0.246      0.806   -3182.902    2472.786\n",
      "is_location_exact_nan                            -4.015e-11   1.61e-10     -0.249      0.804   -3.57e-10    2.76e-10\n",
      "instant_bookable_f                                -358.6217   1442.229     -0.249      0.804   -3186.503    2469.260\n",
      "instant_bookable_t                                -355.1638   1442.269     -0.246      0.806   -3183.124    2472.796\n",
      "instant_bookable_nan                              -4.75e-11   1.91e-10     -0.248      0.804   -4.22e-10    3.27e-10\n",
      "require_guest_profile_picture_f                   -358.5935   1442.145     -0.249      0.804   -3186.309    2469.122\n",
      "require_guest_profile_picture_t                   -355.1921   1442.363     -0.246      0.806   -3183.335    2472.951\n",
      "require_guest_profile_picture_nan                 2.596e-10   1.05e-09      0.247      0.805    -1.8e-09    2.32e-09\n",
      "require_guest_phone_verification_f                -353.8084   1442.308     -0.245      0.806   -3181.845    2474.228\n",
      "require_guest_phone_verification_t                -359.9771   1442.198     -0.250      0.803   -3187.797    2467.843\n",
      "require_guest_phone_verification_nan              2.684e-11   1.07e-10      0.252      0.801   -1.82e-10    2.36e-10\n",
      "room_type_Entire home/apt                         -207.4491    961.563     -0.216      0.829   -2092.855    1677.956\n",
      "room_type_Private room                            -239.2966    961.532     -0.249      0.803   -2124.640    1646.047\n",
      "room_type_Shared room                             -267.0398    961.422     -0.278      0.781   -2152.169    1618.089\n",
      "room_type_nan                                       8.9e-11   3.58e-10      0.249      0.804   -6.13e-10    7.91e-10\n",
      "cancellation_policy_flexible                      -236.3737    961.462     -0.246      0.806   -2121.582    1648.834\n",
      "cancellation_policy_moderate                      -240.0151    961.478     -0.250      0.803   -2125.253    1645.223\n",
      "cancellation_policy_strict                        -237.3968    961.561     -0.247      0.805   -2122.797    1648.004\n",
      "cancellation_policy_nan                          -2.064e-11   8.25e-11     -0.250      0.802   -1.82e-10    1.41e-10\n",
      "host_response_time_a few days or more             -136.9619    577.069     -0.237      0.812   -1268.462     994.539\n",
      "host_response_time_within a day                   -146.8915    576.877     -0.255      0.799   -1278.015     984.232\n",
      "host_response_time_within a few hours             -137.5166    576.894     -0.238      0.812   -1268.673     993.640\n",
      "host_response_time_within an hour                 -150.4681    576.839     -0.261      0.794   -1281.518     980.582\n",
      "host_response_time_nan                            -141.9474    576.914     -0.246      0.806   -1273.143     989.248\n",
      "bed_type_Airbed                                   -131.7322    577.107     -0.228      0.819   -1263.306     999.842\n",
      "bed_type_Couch                                    -148.0211    577.416     -0.256      0.798   -1280.201     984.159\n",
      "bed_type_Futon                                    -147.4827    577.088     -0.256      0.798   -1279.021     984.056\n",
      "bed_type_Pull-out Sofa                            -147.2632    576.531     -0.255      0.798   -1277.709     983.182\n",
      "bed_type_Real Bed                                 -139.2863    576.826     -0.241      0.809   -1270.310     991.737\n",
      "bed_type_nan                                     -3.989e-11    1.6e-10     -0.249      0.803   -3.54e-10    2.74e-10\n",
      "city_Ballard, Seattle                             -104.9206    393.787     -0.266      0.790    -877.047     667.206\n",
      "city_Phinney Ridge Seattle                        -102.2518    395.014     -0.259      0.796    -876.784     672.281\n",
      "city_Seattle                                       -94.3298    393.439     -0.240      0.811    -865.774     677.114\n",
      "city_Seattle                                       -93.2923    393.246     -0.237      0.812    -864.358     677.773\n",
      "city_West Seattle                                  3.65e-11   1.47e-10      0.249      0.803   -2.51e-10    3.24e-10\n",
      "city_seattle                                      -225.5371    918.280     -0.246      0.806   -2026.074    1574.999\n",
      "city_西雅图                                           -93.4539    393.784     -0.237      0.812    -865.575     678.667\n",
      "city_nan                                         -1.372e-10   5.54e-10     -0.247      0.805   -1.22e-09     9.5e-10\n",
      "smart_location_Ballard, Seattle, WA               -104.9206    393.787     -0.266      0.790    -877.047     667.206\n",
      "smart_location_Phinney Ridge Seattle, WA          -102.2518    395.014     -0.259      0.796    -876.784     672.281\n",
      "smart_location_Seattle , WA                        -93.2923    393.246     -0.237      0.812    -864.358     677.773\n",
      "smart_location_Seattle, WA                         -94.3298    393.439     -0.240      0.811    -865.774     677.114\n",
      "smart_location_West Seattle, WA                   1.695e-12    6.9e-12      0.246      0.806   -1.18e-11    1.52e-11\n",
      "smart_location_seattle, wa                        -225.5371    918.280     -0.246      0.806   -2026.074    1574.999\n",
      "smart_location_西雅图, WA                             -93.4539    393.784     -0.237      0.812    -865.575     678.667\n",
      "smart_location_nan                                2.031e-11   8.19e-11      0.248      0.804    -1.4e-10    1.81e-10\n",
      "property_type_Apartment                            -60.3730    169.664     -0.356      0.722    -393.046     272.300\n",
      "property_type_Bed & Breakfast                      -42.5224    170.029     -0.250      0.803    -375.911     290.866\n",
      "property_type_Boat                                 118.0252    172.194      0.685      0.493    -219.608     455.658\n",
      "property_type_Bungalow                             -46.7100    171.307     -0.273      0.785    -382.604     289.184\n",
      "property_type_Cabin                                -38.4127    170.941     -0.225      0.822    -373.589     296.764\n",
      "property_type_Camper/RV                            -10.2403    170.945     -0.060      0.952    -345.424     324.943\n",
      "property_type_Chalet                               -32.5922    180.163     -0.181      0.856    -385.850     320.666\n",
      "property_type_Condominium                          -54.3832    169.842     -0.320      0.749    -387.404     278.638\n",
      "property_type_Dorm                                -102.7203    179.070     -0.574      0.566    -453.836     248.395\n",
      "property_type_House                                -52.2299    169.714     -0.308      0.758    -385.001     280.541\n",
      "property_type_Loft                                 -31.3519    169.654     -0.185      0.853    -364.005     301.301\n",
      "property_type_Other                                -59.1441    170.262     -0.347      0.728    -392.989     274.701\n",
      "property_type_Tent                                 -91.3070    171.535     -0.532      0.595    -427.648     245.034\n",
      "property_type_Townhouse                            -55.4721    169.933     -0.326      0.744    -388.673     277.729\n",
      "property_type_Treehouse                            -40.2469    172.097     -0.234      0.815    -377.689     297.196\n",
      "property_type_Yurt                                 -34.4465    177.213     -0.194      0.846    -381.920     313.027\n",
      "property_type_nan                                  -79.6584    177.264     -0.449      0.653    -427.233     267.917\n",
      "neighbourhood_group_cleansed_Ballard               -39.6662    170.917     -0.232      0.816    -374.795     295.463\n",
      "neighbourhood_group_cleansed_Beacon Hill           -33.0133    167.050     -0.198      0.843    -360.561     294.534\n",
      "neighbourhood_group_cleansed_Capitol Hill          -19.5644    168.753     -0.116      0.908    -350.451     311.322\n",
      "neighbourhood_group_cleansed_Cascade               -20.8053    169.674     -0.123      0.902    -353.497     311.886\n",
      "neighbourhood_group_cleansed_Central Area          -37.4868    166.719     -0.225      0.822    -364.385     289.412\n",
      "neighbourhood_group_cleansed_Delridge              -43.5075    185.109     -0.235      0.814    -406.464     319.449\n",
      "neighbourhood_group_cleansed_Downtown              -14.9375    169.471     -0.088      0.930    -347.232     317.357\n",
      "neighbourhood_group_cleansed_Interbay             -104.0594    175.497     -0.593      0.553    -448.168     240.049\n",
      "neighbourhood_group_cleansed_Lake City             -41.8136    166.965     -0.250      0.802    -369.193     285.566\n",
      "neighbourhood_group_cleansed_Magnolia              -99.2810    179.024     -0.555      0.579    -450.307     251.745\n",
      "neighbourhood_group_cleansed_Northgate             -45.7825    169.355     -0.270      0.787    -377.850     286.284\n",
      "neighbourhood_group_cleansed_Other neighborhoods   -35.6740    168.737     -0.211      0.833    -366.528     295.180\n",
      "neighbourhood_group_cleansed_Queen Anne            -41.8314    171.308     -0.244      0.807    -377.727     294.064\n",
      "neighbourhood_group_cleansed_Rainier Valley        -32.0274    165.767     -0.193      0.847    -357.058     293.003\n",
      "neighbourhood_group_cleansed_Seward Park           -23.4540    165.545     -0.142      0.887    -348.050     301.142\n",
      "neighbourhood_group_cleansed_University District   -40.8472    170.279     -0.240      0.810    -374.725     293.030\n",
      "neighbourhood_group_cleansed_West Seattle          -40.0340    185.197     -0.216      0.829    -403.162     323.094\n",
      "neighbourhood_group_cleansed_nan                          0          0        nan        nan           0           0\n",
      "zipcode_98101                                       -5.8163    100.935     -0.058      0.954    -203.726     192.093\n",
      "zipcode_98102                                      -11.7458    100.405     -0.117      0.907    -208.618     185.126\n",
      "zipcode_98103                                      -12.9469    105.256     -0.123      0.902    -219.329     193.435\n",
      "zipcode_98104                                       -0.9258    100.118     -0.009      0.993    -197.235     195.383\n",
      "zipcode_98105                                      -14.1153    100.661     -0.140      0.888    -211.488     183.257\n",
      "zipcode_98106                                      -65.8448    105.887     -0.622      0.534    -273.464     141.775\n",
      "zipcode_98107                                      -11.0861    107.385     -0.103      0.918    -221.644     199.472\n",
      "zipcode_98108                                      -56.0079     97.886     -0.572      0.567    -247.940     135.924\n",
      "zipcode_98109                                        1.6240    102.187      0.016      0.987    -198.742     201.990\n",
      "zipcode_98112                                      -10.6239     98.615     -0.108      0.914    -203.986     182.738\n",
      "zipcode_98115                                       -5.8090    101.815     -0.057      0.955    -205.446     193.828\n",
      "zipcode_98116                                      -32.7301    108.629     -0.301      0.763    -245.727     180.267\n",
      "zipcode_98117                                      -19.8259    108.627     -0.183      0.855    -232.819     193.167\n",
      "zipcode_98118                                      -55.4058     95.708     -0.579      0.563    -243.068     132.256\n",
      "zipcode_98119                                       16.1084    104.140      0.155      0.877    -188.087     220.304\n",
      "zipcode_98121                                      -16.2357    102.464     -0.158      0.874    -217.145     184.673\n",
      "zipcode_98122                                      -15.8637     99.611     -0.159      0.873    -211.178     179.451\n",
      "zipcode_98125                                      -11.7360    104.915     -0.112      0.911    -217.451     193.978\n",
      "zipcode_98126                                      -54.1904    106.374     -0.509      0.610    -262.765     154.384\n",
      "zipcode_98133                                      -33.1364    107.767     -0.307      0.758    -244.443     178.170\n",
      "zipcode_98134                                       28.4838    103.462      0.275      0.783    -174.382     231.350\n",
      "zipcode_98136                                      -58.2203    107.099     -0.544      0.587    -268.216     151.775\n",
      "zipcode_98144                                      -43.3145     98.835     -0.438      0.661    -237.108     150.479\n",
      "zipcode_98146                                      -80.4246    109.779     -0.733      0.464    -295.676     134.827\n",
      "zipcode_98177                                      -47.7458    110.334     -0.433      0.665    -264.086     168.594\n",
      "zipcode_98178                                      -83.9554     95.870     -0.876      0.381    -271.934     104.023\n",
      "zipcode_98199                                       57.8258    111.349      0.519      0.604    -160.505     276.156\n",
      "zipcode_99\n",
      "98122                                   -25.8909    114.697     -0.226      0.821    -250.786     199.005\n",
      "zipcode_nan                                        -44.2301    104.657     -0.423      0.673    -249.439     160.979\n",
      "==============================================================================\n",
      "Omnibus:                     2876.287   Durbin-Watson:                   1.976\n",
      "Prob(Omnibus):                  0.000   Jarque-Bera (JB):           299080.665\n",
      "Skew:                           4.146   Prob(JB):                         0.00\n",
      "Kurtosis:                      50.766   Cond. No.                     1.79e+17\n",
      "==============================================================================\n",
      "\n",
      "Warnings:\n",
      "[1] Standard Errors assume that the covariance matrix of the errors is correctly specified.\n",
      "[2] The smallest eigenvalue is 3.92e-25. This might indicate that there are\n",
      "strong multicollinearity problems or that the design matrix is singular.\n"
     ]
    },
    {
     "name": "stderr",
     "output_type": "stream",
     "text": [
      "C:\\Users\\praj\\Anaconda3\\lib\\site-packages\\statsmodels\\base\\model.py:1362: RuntimeWarning: invalid value encountered in true_divide\n",
      "  return self.params / self.bse\n",
      "C:\\Users\\praj\\Anaconda3\\lib\\site-packages\\scipy\\stats\\_distn_infrastructure.py:1932: RuntimeWarning: invalid value encountered in less_equal\n",
      "  cond2 = cond0 & (x <= _a)\n"
     ]
    }
   ],
   "source": [
    "print(results.summary())"
   ]
  },
  {
   "cell_type": "code",
   "execution_count": 340,
   "metadata": {},
   "outputs": [],
   "source": [
    "#Currently the model gives a R-square value of 60% on the training data \n",
    "#This model has many statistically insignificant variables as their p-value is > 0.05 and those can be dropped \n",
    "#to improve the model"
   ]
  },
  {
   "cell_type": "code",
   "execution_count": null,
   "metadata": {},
   "outputs": [],
   "source": []
  }
 ],
 "metadata": {
  "kernelspec": {
   "display_name": "Python 3",
   "language": "python",
   "name": "python3"
  },
  "language_info": {
   "codemirror_mode": {
    "name": "ipython",
    "version": 3
   },
   "file_extension": ".py",
   "mimetype": "text/x-python",
   "name": "python",
   "nbconvert_exporter": "python",
   "pygments_lexer": "ipython3",
   "version": "3.8.3"
  }
 },
 "nbformat": 4,
 "nbformat_minor": 4
}
